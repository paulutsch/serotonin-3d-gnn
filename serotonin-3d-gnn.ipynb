{
 "cells": [
  {
   "cell_type": "markdown",
   "metadata": {
    "id": "6jiKdt3EYQ6d"
   },
   "source": [
    "# Serotonin 3D GNN\n"
   ]
  },
  {
   "cell_type": "markdown",
   "metadata": {
    "id": "xGK0LMuRYC6g"
   },
   "source": [
    "---\n",
    "\n",
    "## Setup\n"
   ]
  },
  {
   "cell_type": "markdown",
   "metadata": {
    "id": "ugvkdqJgYMum"
   },
   "source": [
    "### Configuration & Google Drive/Colab Sync\n",
    "\n",
    "Make sure to adapt the paths if needed.\n"
   ]
  },
  {
   "cell_type": "code",
   "execution_count": 1,
   "metadata": {
    "colab": {
     "base_uri": "https://localhost:8080/"
    },
    "executionInfo": {
     "elapsed": 22338,
     "status": "ok",
     "timestamp": 1742151317699,
     "user": {
      "displayName": "Paul Utsch",
      "userId": "03470855315435454824"
     },
     "user_tz": -60
    },
    "id": "q2XchrWsWuIk",
    "outputId": "200df505-53eb-4831-b0d6-4b310f8097b5"
   },
   "outputs": [
    {
     "name": "stdout",
     "output_type": "stream",
     "text": [
      "Running locally\n"
     ]
    }
   ],
   "source": [
    "from pathlib import Path\n",
    "\n",
    "try:\n",
    "    from google.colab import drive\n",
    "\n",
    "    drive.mount(\"/content/drive\")\n",
    "    IN_COLAB = True\n",
    "except:\n",
    "    IN_COLAB = False\n",
    "\n",
    "print(f\"{'Running in Colab' if IN_COLAB else 'Running locally'}\")\n",
    "\n",
    "PATH_NOTEBOOK = (\n",
    "    Path(\"/content/drive/MyDrive/Colab Notebooks/serotonin-3d-gnn.ipynb\")\n",
    "    if IN_COLAB\n",
    "    else Path(\n",
    "        \"/Users/paul/Library/CloudStorage/GoogleDrive-unoutsch@gmail.com/My Drive/Colab Notebooks/serotonin-3d-gnn.ipynb\"\n",
    "    )\n",
    ")\n",
    "PATH_REPO = (\n",
    "    Path(\"/content/drive/MyDrive/Repositories/serotonin-3d-gnn\")\n",
    "    if IN_COLAB\n",
    "    else Path.cwd()\n",
    ")\n",
    "PATH_DATA = PATH_REPO / \"data\"\n",
    "PATH_WEIGHTS = PATH_REPO / \"weights\""
   ]
  },
  {
   "cell_type": "markdown",
   "metadata": {
    "id": "ko5Es7NyYw7W"
   },
   "source": [
    "### Installing Requirements\n"
   ]
  },
  {
   "cell_type": "code",
   "execution_count": 3,
   "metadata": {
    "colab": {
     "base_uri": "https://localhost:8080/"
    },
    "executionInfo": {
     "elapsed": 72380,
     "status": "ok",
     "timestamp": 1742151390082,
     "user": {
      "displayName": "Paul Utsch",
      "userId": "03470855315435454824"
     },
     "user_tz": -60
    },
    "id": "sPtfbBFEYwKR",
    "outputId": "fe55eb2b-2f55-43a5-8bce-703f4080eeaa"
   },
   "outputs": [
    {
     "name": "stdout",
     "output_type": "stream",
     "text": [
      "Requirement already satisfied: matplotlib in ./.venv/lib/python3.13/site-packages (from -r /Users/paul/My Drive/Repositories/serotonin-3d-gnn/requirements.txt (line 1)) (3.10.0)\n",
      "Requirement already satisfied: numpy in ./.venv/lib/python3.13/site-packages (from -r /Users/paul/My Drive/Repositories/serotonin-3d-gnn/requirements.txt (line 2)) (2.2.3)\n",
      "Requirement already satisfied: pandas in ./.venv/lib/python3.13/site-packages (from -r /Users/paul/My Drive/Repositories/serotonin-3d-gnn/requirements.txt (line 3)) (2.2.3)\n",
      "Requirement already satisfied: rdkit in ./.venv/lib/python3.13/site-packages (from -r /Users/paul/My Drive/Repositories/serotonin-3d-gnn/requirements.txt (line 4)) (2024.9.5)\n",
      "Requirement already satisfied: scipy in ./.venv/lib/python3.13/site-packages (from -r /Users/paul/My Drive/Repositories/serotonin-3d-gnn/requirements.txt (line 5)) (1.15.2)\n",
      "Requirement already satisfied: scikit-learn in ./.venv/lib/python3.13/site-packages (from -r /Users/paul/My Drive/Repositories/serotonin-3d-gnn/requirements.txt (line 6)) (1.6.1)\n",
      "Requirement already satisfied: seaborn in ./.venv/lib/python3.13/site-packages (from -r /Users/paul/My Drive/Repositories/serotonin-3d-gnn/requirements.txt (line 7)) (0.13.2)\n",
      "Requirement already satisfied: torch in ./.venv/lib/python3.13/site-packages (from -r /Users/paul/My Drive/Repositories/serotonin-3d-gnn/requirements.txt (line 8)) (2.6.0)\n",
      "Requirement already satisfied: torch-geometric in ./.venv/lib/python3.13/site-packages (from -r /Users/paul/My Drive/Repositories/serotonin-3d-gnn/requirements.txt (line 9)) (2.6.1)\n",
      "Requirement already satisfied: contourpy>=1.0.1 in ./.venv/lib/python3.13/site-packages (from matplotlib->-r /Users/paul/My Drive/Repositories/serotonin-3d-gnn/requirements.txt (line 1)) (1.3.1)\n",
      "Requirement already satisfied: cycler>=0.10 in ./.venv/lib/python3.13/site-packages (from matplotlib->-r /Users/paul/My Drive/Repositories/serotonin-3d-gnn/requirements.txt (line 1)) (0.12.1)\n",
      "Requirement already satisfied: fonttools>=4.22.0 in ./.venv/lib/python3.13/site-packages (from matplotlib->-r /Users/paul/My Drive/Repositories/serotonin-3d-gnn/requirements.txt (line 1)) (4.56.0)\n",
      "Requirement already satisfied: kiwisolver>=1.3.1 in ./.venv/lib/python3.13/site-packages (from matplotlib->-r /Users/paul/My Drive/Repositories/serotonin-3d-gnn/requirements.txt (line 1)) (1.4.8)\n",
      "Requirement already satisfied: packaging>=20.0 in ./.venv/lib/python3.13/site-packages (from matplotlib->-r /Users/paul/My Drive/Repositories/serotonin-3d-gnn/requirements.txt (line 1)) (24.2)\n",
      "Requirement already satisfied: pillow>=8 in ./.venv/lib/python3.13/site-packages (from matplotlib->-r /Users/paul/My Drive/Repositories/serotonin-3d-gnn/requirements.txt (line 1)) (11.1.0)\n",
      "Requirement already satisfied: pyparsing>=2.3.1 in ./.venv/lib/python3.13/site-packages (from matplotlib->-r /Users/paul/My Drive/Repositories/serotonin-3d-gnn/requirements.txt (line 1)) (3.2.1)\n",
      "Requirement already satisfied: python-dateutil>=2.7 in ./.venv/lib/python3.13/site-packages (from matplotlib->-r /Users/paul/My Drive/Repositories/serotonin-3d-gnn/requirements.txt (line 1)) (2.9.0.post0)\n",
      "Requirement already satisfied: pytz>=2020.1 in ./.venv/lib/python3.13/site-packages (from pandas->-r /Users/paul/My Drive/Repositories/serotonin-3d-gnn/requirements.txt (line 3)) (2025.1)\n",
      "Requirement already satisfied: tzdata>=2022.7 in ./.venv/lib/python3.13/site-packages (from pandas->-r /Users/paul/My Drive/Repositories/serotonin-3d-gnn/requirements.txt (line 3)) (2025.1)\n",
      "Requirement already satisfied: joblib>=1.2.0 in ./.venv/lib/python3.13/site-packages (from scikit-learn->-r /Users/paul/My Drive/Repositories/serotonin-3d-gnn/requirements.txt (line 6)) (1.4.2)\n",
      "Requirement already satisfied: threadpoolctl>=3.1.0 in ./.venv/lib/python3.13/site-packages (from scikit-learn->-r /Users/paul/My Drive/Repositories/serotonin-3d-gnn/requirements.txt (line 6)) (3.5.0)\n",
      "Requirement already satisfied: filelock in ./.venv/lib/python3.13/site-packages (from torch->-r /Users/paul/My Drive/Repositories/serotonin-3d-gnn/requirements.txt (line 8)) (3.17.0)\n",
      "Requirement already satisfied: typing-extensions>=4.10.0 in ./.venv/lib/python3.13/site-packages (from torch->-r /Users/paul/My Drive/Repositories/serotonin-3d-gnn/requirements.txt (line 8)) (4.12.2)\n",
      "Requirement already satisfied: networkx in ./.venv/lib/python3.13/site-packages (from torch->-r /Users/paul/My Drive/Repositories/serotonin-3d-gnn/requirements.txt (line 8)) (3.4.2)\n",
      "Requirement already satisfied: jinja2 in ./.venv/lib/python3.13/site-packages (from torch->-r /Users/paul/My Drive/Repositories/serotonin-3d-gnn/requirements.txt (line 8)) (3.1.5)\n",
      "Requirement already satisfied: fsspec in ./.venv/lib/python3.13/site-packages (from torch->-r /Users/paul/My Drive/Repositories/serotonin-3d-gnn/requirements.txt (line 8)) (2025.2.0)\n",
      "Requirement already satisfied: setuptools in ./.venv/lib/python3.13/site-packages (from torch->-r /Users/paul/My Drive/Repositories/serotonin-3d-gnn/requirements.txt (line 8)) (75.8.0)\n",
      "Requirement already satisfied: sympy==1.13.1 in ./.venv/lib/python3.13/site-packages (from torch->-r /Users/paul/My Drive/Repositories/serotonin-3d-gnn/requirements.txt (line 8)) (1.13.1)\n",
      "Requirement already satisfied: mpmath<1.4,>=1.1.0 in ./.venv/lib/python3.13/site-packages (from sympy==1.13.1->torch->-r /Users/paul/My Drive/Repositories/serotonin-3d-gnn/requirements.txt (line 8)) (1.3.0)\n",
      "Requirement already satisfied: aiohttp in ./.venv/lib/python3.13/site-packages (from torch-geometric->-r /Users/paul/My Drive/Repositories/serotonin-3d-gnn/requirements.txt (line 9)) (3.11.12)\n",
      "Requirement already satisfied: psutil>=5.8.0 in ./.venv/lib/python3.13/site-packages (from torch-geometric->-r /Users/paul/My Drive/Repositories/serotonin-3d-gnn/requirements.txt (line 9)) (7.0.0)\n",
      "Requirement already satisfied: requests in ./.venv/lib/python3.13/site-packages (from torch-geometric->-r /Users/paul/My Drive/Repositories/serotonin-3d-gnn/requirements.txt (line 9)) (2.32.3)\n",
      "Requirement already satisfied: tqdm in ./.venv/lib/python3.13/site-packages (from torch-geometric->-r /Users/paul/My Drive/Repositories/serotonin-3d-gnn/requirements.txt (line 9)) (4.67.1)\n",
      "Requirement already satisfied: six>=1.5 in ./.venv/lib/python3.13/site-packages (from python-dateutil>=2.7->matplotlib->-r /Users/paul/My Drive/Repositories/serotonin-3d-gnn/requirements.txt (line 1)) (1.17.0)\n",
      "Requirement already satisfied: aiohappyeyeballs>=2.3.0 in ./.venv/lib/python3.13/site-packages (from aiohttp->torch-geometric->-r /Users/paul/My Drive/Repositories/serotonin-3d-gnn/requirements.txt (line 9)) (2.4.6)\n",
      "Requirement already satisfied: aiosignal>=1.1.2 in ./.venv/lib/python3.13/site-packages (from aiohttp->torch-geometric->-r /Users/paul/My Drive/Repositories/serotonin-3d-gnn/requirements.txt (line 9)) (1.3.2)\n",
      "Requirement already satisfied: attrs>=17.3.0 in ./.venv/lib/python3.13/site-packages (from aiohttp->torch-geometric->-r /Users/paul/My Drive/Repositories/serotonin-3d-gnn/requirements.txt (line 9)) (25.1.0)\n",
      "Requirement already satisfied: frozenlist>=1.1.1 in ./.venv/lib/python3.13/site-packages (from aiohttp->torch-geometric->-r /Users/paul/My Drive/Repositories/serotonin-3d-gnn/requirements.txt (line 9)) (1.5.0)\n",
      "Requirement already satisfied: multidict<7.0,>=4.5 in ./.venv/lib/python3.13/site-packages (from aiohttp->torch-geometric->-r /Users/paul/My Drive/Repositories/serotonin-3d-gnn/requirements.txt (line 9)) (6.1.0)\n",
      "Requirement already satisfied: propcache>=0.2.0 in ./.venv/lib/python3.13/site-packages (from aiohttp->torch-geometric->-r /Users/paul/My Drive/Repositories/serotonin-3d-gnn/requirements.txt (line 9)) (0.2.1)\n",
      "Requirement already satisfied: yarl<2.0,>=1.17.0 in ./.venv/lib/python3.13/site-packages (from aiohttp->torch-geometric->-r /Users/paul/My Drive/Repositories/serotonin-3d-gnn/requirements.txt (line 9)) (1.18.3)\n",
      "Requirement already satisfied: MarkupSafe>=2.0 in ./.venv/lib/python3.13/site-packages (from jinja2->torch->-r /Users/paul/My Drive/Repositories/serotonin-3d-gnn/requirements.txt (line 8)) (3.0.2)\n",
      "Requirement already satisfied: charset-normalizer<4,>=2 in ./.venv/lib/python3.13/site-packages (from requests->torch-geometric->-r /Users/paul/My Drive/Repositories/serotonin-3d-gnn/requirements.txt (line 9)) (3.4.1)\n",
      "Requirement already satisfied: idna<4,>=2.5 in ./.venv/lib/python3.13/site-packages (from requests->torch-geometric->-r /Users/paul/My Drive/Repositories/serotonin-3d-gnn/requirements.txt (line 9)) (3.10)\n",
      "Requirement already satisfied: urllib3<3,>=1.21.1 in ./.venv/lib/python3.13/site-packages (from requests->torch-geometric->-r /Users/paul/My Drive/Repositories/serotonin-3d-gnn/requirements.txt (line 9)) (2.3.0)\n",
      "Requirement already satisfied: certifi>=2017.4.17 in ./.venv/lib/python3.13/site-packages (from requests->torch-geometric->-r /Users/paul/My Drive/Repositories/serotonin-3d-gnn/requirements.txt (line 9)) (2025.1.31)\n",
      "Note: you may need to restart the kernel to use updated packages.\n"
     ]
    }
   ],
   "source": [
    "%pip install --requirement \"$PATH_REPO/requirements.txt\""
   ]
  },
  {
   "cell_type": "markdown",
   "metadata": {
    "id": "gpNxNxd3UG04"
   },
   "source": [
    "### Imports\n"
   ]
  },
  {
   "cell_type": "code",
   "execution_count": 2,
   "metadata": {
    "executionInfo": {
     "elapsed": 11552,
     "status": "ok",
     "timestamp": 1742151401640,
     "user": {
      "displayName": "Paul Utsch",
      "userId": "03470855315435454824"
     },
     "user_tz": -60
    },
    "id": "6qaxG6KzSQbs"
   },
   "outputs": [],
   "source": [
    "import os\n",
    "import sys\n",
    "import time\n",
    "import json\n",
    "from glob import glob\n",
    "\n",
    "import matplotlib.pyplot as plt\n",
    "import numpy as np\n",
    "import pandas as pd\n",
    "import pickle\n",
    "from rdkit import Chem\n",
    "from rdkit.Chem import AllChem, rdchem, Descriptors, rdMolDescriptors, rdMolTransforms\n",
    "import seaborn as sns\n",
    "import shutil\n",
    "import torch\n",
    "from torch_geometric.data import Data\n",
    "from torch_geometric.loader import DataLoader"
   ]
  },
  {
   "cell_type": "markdown",
   "metadata": {
    "id": "nyOFFWimQtGD"
   },
   "source": [
    "### Syncing this file between Colab and local Git repo\n"
   ]
  },
  {
   "cell_type": "code",
   "execution_count": 24,
   "metadata": {
    "id": "-AEKpQQaQ5U4"
   },
   "outputs": [
    {
     "name": "stdout",
     "output_type": "stream",
     "text": [
      "Copied notebook to Google Drive.\n"
     ]
    }
   ],
   "source": [
    "def copy_notebook():\n",
    "    if IN_COLAB:\n",
    "        shutil.copyfile(PATH_NOTEBOOK, PATH_REPO / \"serotonin-3d-gnn.ipynb\")\n",
    "        print(\"Copied notebook to repo.\")\n",
    "    else:\n",
    "        shutil.copyfile(PATH_REPO / \"serotonin-3d-gnn.ipynb\", PATH_NOTEBOOK)\n",
    "        print(\"Copied notebook to Google Drive.\")\n",
    "\n",
    "\n",
    "copy_notebook()"
   ]
  },
  {
   "cell_type": "markdown",
   "metadata": {
    "id": "yxQZohBJhQoT"
   },
   "source": [
    "### Setting Torch Device\n"
   ]
  },
  {
   "cell_type": "code",
   "execution_count": 3,
   "metadata": {
    "colab": {
     "base_uri": "https://localhost:8080/"
    },
    "executionInfo": {
     "elapsed": 25,
     "status": "ok",
     "timestamp": 1742151401668,
     "user": {
      "displayName": "Paul Utsch",
      "userId": "03470855315435454824"
     },
     "user_tz": -60
    },
    "id": "YXkqUkBKhQoT",
    "outputId": "feb9270e-fc33-4ff2-cd06-89a05f35ec38"
   },
   "outputs": [
    {
     "name": "stdout",
     "output_type": "stream",
     "text": [
      "Using MPS\n"
     ]
    }
   ],
   "source": [
    "if torch.cuda.is_available():\n",
    "    print(\"Using CUDA\")\n",
    "    device = torch.device(\"cuda\")\n",
    "elif torch.backends.mps.is_available():\n",
    "    print(\"Using MPS\")\n",
    "    device = torch.device(\"mps\")\n",
    "else:\n",
    "    print(\"Using CPU\")\n",
    "    device = torch.device(\"cpu\")"
   ]
  },
  {
   "cell_type": "markdown",
   "metadata": {
    "id": "q7iFshPsYhff"
   },
   "source": [
    "---\n",
    "\n",
    "## Data Preprocessing\n",
    "\n",
    "Data collected from ChEMBL 35 database: https://ftp.ebi.ac.uk/pub/databases/chembl/ChEMBLdb/releases/chembl_35/\n",
    "\n",
    "I used the ChEMBL web interface to download the data.\n",
    "\n",
    "I filtered the data as follows:\n",
    "\n",
    "-   selected a subset of serotonin single protein targets of homo sapiens (the ones with relatively many available activity records)\n",
    "-   filtered activity records of those targets as follows:\n",
    "    -   must contain pchembl binding affinity value of Ki $(-log_{10}(Ki))$\n",
    "    -   must not be N/A records\n",
    "    -   must be cell-based records (working with functional response in living cells, which may be more noisy but also more relevant for application purposes)\n",
    "-   Note: very low pchembl values get assigned \"not active\"\n"
   ]
  },
  {
   "cell_type": "markdown",
   "metadata": {
    "id": "WEEdENl6NzpP"
   },
   "source": [
    "### Loading and Preprocessing Serotonin Data\n"
   ]
  },
  {
   "cell_type": "code",
   "execution_count": 4,
   "metadata": {
    "colab": {
     "base_uri": "https://localhost:8080/",
     "height": 0
    },
    "executionInfo": {
     "elapsed": 8408,
     "status": "ok",
     "timestamp": 1742151410077,
     "user": {
      "displayName": "Paul Utsch",
      "userId": "03470855315435454824"
     },
     "user_tz": -60
    },
    "id": "1yBrNIjphQoU",
    "outputId": "a6f22c2d-d477-47ca-9f5e-f4ff3dee091c"
   },
   "outputs": [
    {
     "name": "stdout",
     "output_type": "stream",
     "text": [
      "['/Users/paul/My Drive/Repositories/serotonin-3d-gnn/data/targets/serotonin_6_2799.csv', '/Users/paul/My Drive/Repositories/serotonin-3d-gnn/data/targets/serotonin_1d_481.csv', '/Users/paul/My Drive/Repositories/serotonin-3d-gnn/data/targets/serotonin_4_338.csv', '/Users/paul/My Drive/Repositories/serotonin-3d-gnn/data/targets/serotonin_7_2317.csv', '/Users/paul/My Drive/Repositories/serotonin-3d-gnn/data/targets/serotonin_1b_466.csv', '/Users/paul/My Drive/Repositories/serotonin-3d-gnn/data/targets/serotonin_2b_833.csv', '/Users/paul/My Drive/Repositories/serotonin-3d-gnn/data/targets/serotonin_1a_3086.csv', '/Users/paul/My Drive/Repositories/serotonin-3d-gnn/data/targets/serotonin_2a_2353.csv', '/Users/paul/My Drive/Repositories/serotonin-3d-gnn/data/targets/serotonin_2c_1385.csv']\n",
      "Total number of data points: 14058\n",
      "                                              smiles  pchembl_value  \\\n",
      "0            CCN/C(=N\\S(=O)(=O)c1ccccc1)N1CC(CC)C=N1           7.47   \n",
      "1  Cc1c(S(=O)(=O)NCCCN2CCN(c3nsc4ccccc34)CC2)sc2c...           6.92   \n",
      "2     O=S(=O)(c1cccc(F)c1)n1cc2c3c(cccc31)N1CCNCC1C2           9.12   \n",
      "3  O=S(=O)(NCCCCN1CCN(c2nsc3ccccc23)CC1)c1cccc2sc...           6.92   \n",
      "4  O=S(=O)(NCCCN1CCN(c2noc3ccccc23)CC1)c1ccc(F)c(...           6.48   \n",
      "\n",
      "                    target_name  \n",
      "0  Serotonin 6 (5-HT6) receptor  \n",
      "1  Serotonin 6 (5-HT6) receptor  \n",
      "2  Serotonin 6 (5-HT6) receptor  \n",
      "3  Serotonin 6 (5-HT6) receptor  \n",
      "4  Serotonin 6 (5-HT6) receptor  \n"
     ]
    },
    {
     "data": {
      "text/html": [
       "<div>\n",
       "<style scoped>\n",
       "    .dataframe tbody tr th:only-of-type {\n",
       "        vertical-align: middle;\n",
       "    }\n",
       "\n",
       "    .dataframe tbody tr th {\n",
       "        vertical-align: top;\n",
       "    }\n",
       "\n",
       "    .dataframe thead th {\n",
       "        text-align: right;\n",
       "    }\n",
       "</style>\n",
       "<table border=\"1\" class=\"dataframe\">\n",
       "  <thead>\n",
       "    <tr style=\"text-align: right;\">\n",
       "      <th></th>\n",
       "      <th>pchembl_value</th>\n",
       "      <th>target_id</th>\n",
       "    </tr>\n",
       "  </thead>\n",
       "  <tbody>\n",
       "    <tr>\n",
       "      <th>count</th>\n",
       "      <td>14058.000000</td>\n",
       "      <td>14058.000000</td>\n",
       "    </tr>\n",
       "    <tr>\n",
       "      <th>mean</th>\n",
       "      <td>7.319273</td>\n",
       "      <td>4.189856</td>\n",
       "    </tr>\n",
       "    <tr>\n",
       "      <th>std</th>\n",
       "      <td>1.167407</td>\n",
       "      <td>2.950111</td>\n",
       "    </tr>\n",
       "    <tr>\n",
       "      <th>min</th>\n",
       "      <td>4.000000</td>\n",
       "      <td>0.000000</td>\n",
       "    </tr>\n",
       "    <tr>\n",
       "      <th>25%</th>\n",
       "      <td>6.470000</td>\n",
       "      <td>1.000000</td>\n",
       "    </tr>\n",
       "    <tr>\n",
       "      <th>50%</th>\n",
       "      <td>7.300000</td>\n",
       "      <td>4.000000</td>\n",
       "    </tr>\n",
       "    <tr>\n",
       "      <th>75%</th>\n",
       "      <td>8.150000</td>\n",
       "      <td>7.000000</td>\n",
       "    </tr>\n",
       "    <tr>\n",
       "      <th>max</th>\n",
       "      <td>10.850000</td>\n",
       "      <td>8.000000</td>\n",
       "    </tr>\n",
       "  </tbody>\n",
       "</table>\n",
       "</div>"
      ],
      "text/plain": [
       "       pchembl_value     target_id\n",
       "count   14058.000000  14058.000000\n",
       "mean        7.319273      4.189856\n",
       "std         1.167407      2.950111\n",
       "min         4.000000      0.000000\n",
       "25%         6.470000      1.000000\n",
       "50%         7.300000      4.000000\n",
       "75%         8.150000      7.000000\n",
       "max        10.850000      8.000000"
      ]
     },
     "execution_count": 4,
     "metadata": {},
     "output_type": "execute_result"
    }
   ],
   "source": [
    "csv_files = glob(os.path.join(PATH_DATA / \"targets\" / \"*.csv\"))\n",
    "print(csv_files)\n",
    "\n",
    "data_list = []\n",
    "\n",
    "for file in csv_files:\n",
    "    df = pd.read_csv(\n",
    "        file, delimiter=\";\", usecols=[\"Smiles\", \"pChEMBL Value\", \"Target Name\"]\n",
    "    )\n",
    "    df.columns = [\"smiles\", \"pchembl_value\", \"target_name\"]\n",
    "    data_list.append(df)\n",
    "\n",
    "merged_df = pd.concat(data_list, ignore_index=True)\n",
    "print(f\"Total number of data points: {len(merged_df)}\")\n",
    "print(merged_df.head())\n",
    "\n",
    "merged_df[\"target_name\"] = merged_df[\"target_name\"].astype(\"category\")\n",
    "merged_df[\"target_id\"] = merged_df[\"target_name\"].cat.codes\n",
    "\n",
    "target_name_to_id = dict(\n",
    "    zip(\n",
    "        merged_df[\"target_name\"].cat.categories,\n",
    "        range(len(merged_df[\"target_name\"].cat.categories)),\n",
    "    )\n",
    ")\n",
    "target_id_to_name = {v: k for k, v in target_name_to_id.items()}\n",
    "\n",
    "merged_df.to_csv(os.path.join(PATH_DATA, \"merged_serotonin_data.csv\"), index=False)\n",
    "\n",
    "merged_df.describe()"
   ]
  },
  {
   "cell_type": "code",
   "execution_count": 5,
   "metadata": {
    "colab": {
     "base_uri": "https://localhost:8080/",
     "height": 0
    },
    "executionInfo": {
     "elapsed": 3656,
     "status": "ok",
     "timestamp": 1742151413746,
     "user": {
      "displayName": "Paul Utsch",
      "userId": "03470855315435454824"
     },
     "user_tz": -60
    },
    "id": "LcDKdwWkThRL",
    "outputId": "18eb6325-f568-40c9-f430-ce0dc15644d7"
   },
   "outputs": [
    {
     "data": {
      "image/png": "[encoded data removed]",
      "text/plain": [
       "<Figure size 1200x1200 with 9 Axes>"
      ]
     },
     "metadata": {},
     "output_type": "display_data"
    }
   ],
   "source": [
    "rows, cols = 3, 3\n",
    "num_targets = merged_df[\"target_name\"].nunique()\n",
    "target_names = merged_df[\"target_name\"].unique()\n",
    "\n",
    "fig, axes = plt.subplots(nrows=rows, ncols=cols, figsize=(12, 12))\n",
    "\n",
    "axes = axes.flatten()\n",
    "\n",
    "for i, target in enumerate(target_names):\n",
    "    target_data = merged_df[merged_df[\"target_name\"] == target][\"pchembl_value\"]\n",
    "    target_count = merged_df[\"target_name\"].value_counts()[target]\n",
    "\n",
    "    sns.histplot(target_data, kde=True, bins=30, ax=axes[i])\n",
    "\n",
    "    axes[i].set_title(f\"{target} (n={target_count})\")\n",
    "    axes[i].set_xlabel(\"-log_10(Ki)\")\n",
    "    axes[i].set_ylabel(\"Frequency\")\n",
    "\n",
    "plt.tight_layout()\n",
    "plt.show()"
   ]
  },
  {
   "cell_type": "code",
   "execution_count": 6,
   "metadata": {
    "colab": {
     "base_uri": "https://localhost:8080/"
    },
    "executionInfo": {
     "elapsed": 7315,
     "status": "ok",
     "timestamp": 1742151421063,
     "user": {
      "displayName": "Paul Utsch",
      "userId": "03470855315435454824"
     },
     "user_tz": -60
    },
    "id": "6sUonIb3wM1I",
    "outputId": "aa4047ee-fa87-408c-f845-33ca42cb1edd"
   },
   "outputs": [
    {
     "name": "stdout",
     "output_type": "stream",
     "text": [
      "Loading processed data...\n",
      "Done\n"
     ]
    }
   ],
   "source": [
    "pickle_file_path = os.path.join(PATH_DATA, \"merged_serotonin_data_processed.pkl\")\n",
    "\n",
    "if os.path.exists(pickle_file_path):\n",
    "    print(\"Loading processed data...\")\n",
    "    with open(pickle_file_path, \"rb\") as f:\n",
    "        merged_serotonin_data_processed = pickle.load(f)\n",
    "    print(\"Done\")\n",
    "else:\n",
    "    merged_serotonin_data_processed = None\n",
    "    print(\"Will have to create new processed data.\")"
   ]
  },
  {
   "cell_type": "markdown",
   "metadata": {
    "id": "LQlehqYVhQoU"
   },
   "source": [
    "### Creating 3D Molecular Graph Data from Serotonin Data\n"
   ]
  },
  {
   "cell_type": "code",
   "execution_count": 7,
   "metadata": {
    "colab": {
     "base_uri": "https://localhost:8080/"
    },
    "executionInfo": {
     "elapsed": 5,
     "status": "ok",
     "timestamp": 1742151421078,
     "user": {
      "displayName": "Paul Utsch",
      "userId": "03470855315435454824"
     },
     "user_tz": -60
    },
    "id": "63VicadqVXW3",
    "outputId": "926faab1-aa77-4f3e-861d-676d9d837753"
   },
   "outputs": [
    {
     "name": "stdout",
     "output_type": "stream",
     "text": [
      "merged_serotonin_data_processed[0] Data(x=[41, 10], edge_index=[2, 84], edge_attr=[84, 5], y=7.46999979019165, pos=[41, 3], target_id=7, smiles='CCN/C(=N\\S(=O)(=O)c1ccccc1)N1CC(CC)C=N1', mol_features=[1, 8])\n"
     ]
    }
   ],
   "source": [
    "periodic_table = rdchem.GetPeriodicTable()\n",
    "\n",
    "ATOM_PROPERTIES = {\n",
    "    atomic_num: [\n",
    "        periodic_table.GetAtomicWeight(atomic_num),\n",
    "        periodic_table.GetRvdw(atomic_num),\n",
    "        periodic_table.GetDefaultValence(atomic_num),\n",
    "    ]\n",
    "    for atomic_num in range(1, 119)  # all elements in periodic table\n",
    "}\n",
    "\n",
    "BOND_TYPES = [\n",
    "    Chem.rdchem.BondType.SINGLE,\n",
    "    Chem.rdchem.BondType.AROMATIC,\n",
    "    Chem.rdchem.BondType.DOUBLE,\n",
    "    Chem.rdchem.BondType.TRIPLE,\n",
    "]\n",
    "\n",
    "\n",
    "def create_torch_data(smiles: str, target_value: torch.Tensor, target_id) -> Data:\n",
    "    # getting RDKit molecule object\n",
    "    mol = Chem.MolFromSmiles(smiles)\n",
    "\n",
    "    if mol is None:\n",
    "        return None\n",
    "\n",
    "    # add explicit hydrogen atoms to the molecule (are not included in the SMILES string) so that its 3D structure is complete\n",
    "    mol = Chem.AddHs(mol)\n",
    "    Chem.SanitizeMol(mol)\n",
    "\n",
    "    # EmbedMolecule positions atoms of mol in 3D space stochastically; if it fails (returning -1) return None\n",
    "    if AllChem.EmbedMolecule(mol, randomSeed=42) == -1:\n",
    "        return None\n",
    "\n",
    "    # optimize the 3D structure using Universal Force Field (UFF) to lower mol's energy\n",
    "    status = AllChem.UFFOptimizeMolecule(mol)\n",
    "    if status == -1:\n",
    "        print(f\"UFF optimization failed for molecule: {smiles}\")\n",
    "        return None\n",
    "    AllChem.UFFOptimizeMolecule(mol)\n",
    "\n",
    "    # conformer contains 3D coordinates for mol's atoms\n",
    "    conformer = mol.GetConformer()\n",
    "\n",
    "    # molecule-level features\n",
    "    mol_features = [\n",
    "        Descriptors.ExactMolWt(mol),\n",
    "        Descriptors.MolLogP(mol),\n",
    "        Descriptors.TPSA(mol),\n",
    "        rdMolDescriptors.CalcNumAromaticRings(mol),\n",
    "        rdMolDescriptors.CalcNumBridgeheadAtoms(mol),\n",
    "        rdMolDescriptors.CalcNumRotatableBonds(mol),\n",
    "        rdMolDescriptors.CalcNumHBD(mol),\n",
    "        rdMolDescriptors.CalcNumHBA(mol),\n",
    "    ]\n",
    "\n",
    "    # atom-level features and 3D positions\n",
    "    atom_features, positions = [], []\n",
    "    for atom in mol.GetAtoms():\n",
    "        atomic_num = atom.GetAtomicNum()\n",
    "        atomic_mass, vdw_radius, valence = ATOM_PROPERTIES.get(\n",
    "            atomic_num, [0.0, 0.0, 0]\n",
    "        )\n",
    "\n",
    "        features = [\n",
    "            atomic_mass,\n",
    "            vdw_radius,\n",
    "            valence,\n",
    "            atom.GetFormalCharge(),\n",
    "            int(atom.GetIsAromatic()),\n",
    "            atom.GetDegree(),\n",
    "            int(atom.IsInRing()),\n",
    "        ] + [\n",
    "            1.0 if atom.GetHybridization() == h else 0.0\n",
    "            for h in (\n",
    "                Chem.rdchem.HybridizationType.SP,\n",
    "                Chem.rdchem.HybridizationType.SP2,\n",
    "                Chem.rdchem.HybridizationType.SP3,\n",
    "            )\n",
    "        ]\n",
    "\n",
    "        atom_features.append(features)\n",
    "\n",
    "        pos = conformer.GetAtomPosition(atom.GetIdx())\n",
    "        positions.append([pos.x, pos.y, pos.z])\n",
    "\n",
    "    # transform to PyTorch tensors\n",
    "    x = torch.tensor(atom_features, dtype=torch.float)\n",
    "    pos = torch.tensor(positions, dtype=torch.float)\n",
    "\n",
    "    # bonds between atoms – indices of connected atoms as well as types and conjugation\n",
    "    edge_index, edge_attr = [], []\n",
    "    for bond in mol.GetBonds():\n",
    "        # indices of bonded atoms\n",
    "        i, j = bond.GetBeginAtomIdx(), bond.GetEndAtomIdx()\n",
    "\n",
    "        # one-hot encode bond type\n",
    "        bond_type = bond.GetBondType()\n",
    "        bond_type_one_hot = [1.0 if bond_type == b else 0.0 for b in BOND_TYPES]\n",
    "\n",
    "        # is_conjugated = 1.0 if bond.GetIsConjugated() else 0.0\n",
    "        bond_length = rdMolTransforms.GetBondLength(conformer, i, j)\n",
    "\n",
    "        bond_feat = bond_type_one_hot + [bond_length]\n",
    "\n",
    "        # adding bond to both nodes\n",
    "        edge_index += [[i, j], [j, i]]\n",
    "        edge_attr += [bond_feat, bond_feat]\n",
    "\n",
    "    # transform to PyTorch tensors\n",
    "    # edge_index tensor is transposed to fit torch_geometric's expected shape (2, number_of_edges).\n",
    "    edge_index = torch.tensor(edge_index, dtype=torch.long).t().contiguous()\n",
    "    edge_attr = torch.tensor(edge_attr, dtype=torch.float)\n",
    "    mol_features = torch.tensor(mol_features, dtype=torch.float).unsqueeze(0)\n",
    "\n",
    "    # graph as PyTorch Geometric Data object\n",
    "    # x: atom features, [atomic number, degree, formal charge, hybridization]\n",
    "    # pos: 3D positions of atoms, [x, y, z]\n",
    "    # edge_index: connectivity indices between atoms, [[i, j], [j, i]]\n",
    "    # edge_attr: features per bond, [[bond type, conjugation], [bond type, conjugation]]\n",
    "    return Data(\n",
    "        x=x,\n",
    "        pos=pos,\n",
    "        edge_index=edge_index,\n",
    "        edge_attr=edge_attr,\n",
    "        y=target_value,\n",
    "        target_id=target_id,\n",
    "        smiles=smiles,\n",
    "        mol_features=mol_features,\n",
    "    )\n",
    "\n",
    "\n",
    "if not merged_serotonin_data_processed:\n",
    "    merged_serotonin_data_processed = []\n",
    "    for i, row in enumerate(merged_df.itertuples()):\n",
    "        pct_complete = 100 * i / len(merged_df)\n",
    "        sys.stdout.write(f\"\\r{pct_complete:.2f}% complete\")\n",
    "        sys.stdout.flush()\n",
    "\n",
    "        data_obj = create_torch_data(\n",
    "            row.smiles,\n",
    "            torch.tensor(row.pchembl_value, dtype=torch.float),\n",
    "            row.target_id,\n",
    "        )\n",
    "\n",
    "        if data_obj:\n",
    "            merged_serotonin_data_processed.append(data_obj)\n",
    "\n",
    "    pickle_file_path = PATH_DATA / \"merged_serotonin_data_processed.pkl\"\n",
    "\n",
    "    with open(pickle_file_path, \"wb\") as f:\n",
    "        pickle.dump(merged_serotonin_data_processed, f)\n",
    "\n",
    "    print(f\"Saved merged_serotonin_data_processed to {pickle_file_path}\")\n",
    "\n",
    "print(f\"merged_serotonin_data_processed[0] {merged_serotonin_data_processed[0]}\")"
   ]
  },
  {
   "cell_type": "markdown",
   "metadata": {
    "id": "XVDv1khB5ONd"
   },
   "source": [
    "### Normalizing Data\n"
   ]
  },
  {
   "cell_type": "code",
   "execution_count": 8,
   "metadata": {
    "colab": {
     "base_uri": "https://localhost:8080/"
    },
    "executionInfo": {
     "elapsed": 6335,
     "status": "ok",
     "timestamp": 1742151427413,
     "user": {
      "displayName": "Paul Utsch",
      "userId": "03470855315435454824"
     },
     "user_tz": -60
    },
    "id": "qdOBAG6b5Tgx",
    "outputId": "a6a5bd0b-34d6-43f6-b102-8f36452eba2a"
   },
   "outputs": [
    {
     "name": "stdout",
     "output_type": "stream",
     "text": [
      "z-normalization done\n",
      "examples normalized target: [tensor(1.6672), tensor(-2.4334), tensor(-0.2873), tensor(-0.9850), tensor(0.6981), tensor(-1.5366), tensor(0.3267), tensor(-0.9246), tensor(0.9100), tensor(-1.4940)]\n",
      "examples original target: [tensor(9.9700), tensor(4.4600), tensor(6.8400), tensor(6.3000), tensor(8.3000), tensor(5.6600), tensor(7.4600), tensor(6.1000), tensor(8.7000), tensor(5.3600)]\n"
     ]
    }
   ],
   "source": [
    "import copy\n",
    "import torch\n",
    "\n",
    "np.random.seed(42)\n",
    "np.random.shuffle(merged_serotonin_data_processed)\n",
    "\n",
    "x_sum, x_sq_sum, x_count = 0, 0, 0\n",
    "edge_attr_sum, edge_attr_sq_sum, edge_count = 0, 0, 0\n",
    "mol_features_sum, mol_features_sq_sum, mol_count = 0, 0, 0\n",
    "\n",
    "pchembl_sum, pchembl_sq_sum, pchembl_count = {}, {}, {}\n",
    "\n",
    "for d in merged_serotonin_data_processed:\n",
    "    x_sum += d.x.sum(dim=0)\n",
    "    x_sq_sum += (d.x**2).sum(dim=0)\n",
    "    x_count += d.x.shape[0]\n",
    "\n",
    "    edge_attr_sum += d.edge_attr.sum(dim=0)\n",
    "    edge_attr_sq_sum += (d.edge_attr**2).sum(dim=0)\n",
    "    edge_count += d.edge_attr.shape[0]\n",
    "\n",
    "    mol_features_sum += d.mol_features.sum(dim=0)\n",
    "    mol_features_sq_sum += (d.mol_features**2).sum(dim=0)\n",
    "    mol_count += d.mol_features.shape[0]\n",
    "\n",
    "    target_id = d.target_id\n",
    "    if target_id not in pchembl_sum:\n",
    "        pchembl_sum[target_id], pchembl_sq_sum[target_id], pchembl_count[target_id] = (\n",
    "            0,\n",
    "            0,\n",
    "            0,\n",
    "        )\n",
    "\n",
    "    pchembl_sum[target_id] += d.y.sum()\n",
    "    pchembl_sq_sum[target_id] += (d.y**2).sum()\n",
    "    pchembl_count[target_id] += 1\n",
    "\n",
    "x_mean = x_sum / x_count\n",
    "x_std = ((x_sq_sum / x_count) - (x_mean**2)).sqrt()\n",
    "\n",
    "edge_attr_mean = edge_attr_sum / edge_count\n",
    "edge_attr_std = ((edge_attr_sq_sum / edge_count) - (edge_attr_mean**2)).sqrt()\n",
    "\n",
    "mol_features_mean = mol_features_sum / mol_count\n",
    "mol_features_std = ((mol_features_sq_sum / mol_count) - (mol_features_mean**2)).sqrt()\n",
    "\n",
    "pchembl_mean, pchembl_std = {}, {}\n",
    "for target_id in pchembl_sum.keys():\n",
    "    pchembl_mean[target_id] = pchembl_sum[target_id] / pchembl_count[target_id]\n",
    "    pchembl_std[target_id] = torch.sqrt(\n",
    "        (pchembl_sq_sum[target_id] / pchembl_count[target_id])\n",
    "        - (pchembl_mean[target_id] ** 2)\n",
    "    )\n",
    "\n",
    "\n",
    "def normalize_dataset(dataset):\n",
    "    normalized_dataset = []\n",
    "\n",
    "    for d in dataset:\n",
    "        d_cloned = copy.deepcopy(d)  # no referenceto original\n",
    "        target_id = d.target_id\n",
    "\n",
    "        d_cloned.x = (d_cloned.x - x_mean) / x_std\n",
    "        d_cloned.edge_attr = (d_cloned.edge_attr - edge_attr_mean) / edge_attr_std\n",
    "        d_cloned.mol_features = (\n",
    "            d_cloned.mol_features - mol_features_mean\n",
    "        ) / mol_features_std\n",
    "        d_cloned.y = (d_cloned.y - pchembl_mean[target_id]) / pchembl_std[target_id]\n",
    "\n",
    "        normalized_dataset.append(d_cloned)\n",
    "\n",
    "    return normalized_dataset\n",
    "\n",
    "\n",
    "merged_serotonin_data_processed_normalized = normalize_dataset(\n",
    "    merged_serotonin_data_processed\n",
    ")\n",
    "\n",
    "print(\"z-normalization done\")\n",
    "print(\n",
    "    f\"examples normalized target: {[merged_serotonin_data_processed_normalized[i].y for i in range(10)]}\"\n",
    ")\n",
    "print(\n",
    "    f\"examples original target: {[merged_serotonin_data_processed[i].y for i in range(10)]}\"\n",
    ")"
   ]
  },
  {
   "cell_type": "markdown",
   "metadata": {
    "id": "HA3rlMSlwM1J"
   },
   "source": [
    "### Splitting Data\n",
    "\n",
    "Splitting serotonin data into target / pretraining sets (5-HT2A / other).\n",
    "Splitting 5-HT2A data into train / test sets.\n"
   ]
  },
  {
   "cell_type": "code",
   "execution_count": 9,
   "metadata": {
    "colab": {
     "base_uri": "https://localhost:8080/"
    },
    "executionInfo": {
     "elapsed": 15,
     "status": "ok",
     "timestamp": 1742151427430,
     "user": {
      "displayName": "Paul Utsch",
      "userId": "03470855315435454824"
     },
     "user_tz": -60
    },
    "id": "7g3NG7QMwM1J",
    "outputId": "41f32ad7-89bf-4304-e952-0dc8ae207f29"
   },
   "outputs": [
    {
     "name": "stdout",
     "output_type": "stream",
     "text": [
      "5-HT2a receptor data: 2351 samples\n",
      "Pretraining data: 11702 samples\n",
      "\n",
      "5-HT2a receptor training data: 2115 samples\n",
      "5-HT2a receptor test data: 236 samples\n",
      "\n",
      "Example 5-HT2a data object: Data(x=[54, 10], edge_index=[2, 112], edge_attr=[112, 5], y=-1.4940271377563477, pos=[54, 3], target_id=3, smiles='Nc1nc(N)nc(NCCCCCN2CCN(c3ccccc3)CC2)n1', mol_features=[1, 8])\n",
      "Example pretraining data object: Data(x=[67, 10], edge_index=[2, 140], edge_attr=[140, 5], y=1.6671613454818726, pos=[67, 3], target_id=6, smiles='COC(=O)CCCCCN1CCC(CNC(=O)c2c3n(c4ccccc24)CCCO3)CC1', mol_features=[1, 8])\n",
      "\n",
      "Standard deviation of z-normalized -log_10(Ki) in 5-HT2a train set: 0.9995005\n"
     ]
    }
   ],
   "source": [
    "target_id = target_name_to_id[\"Serotonin 2a (5-HT2a) receptor\"]\n",
    "\n",
    "merged_serotonin_data_processed_5ht2a = [\n",
    "    data\n",
    "    for data in merged_serotonin_data_processed_normalized\n",
    "    if data.target_id == target_id\n",
    "]\n",
    "merged_serotonin_data_processed_pretrain = [\n",
    "    data\n",
    "    for data in merged_serotonin_data_processed_normalized\n",
    "    if data.target_id != target_id\n",
    "]\n",
    "\n",
    "print(f\"5-HT2a receptor data: {len(merged_serotonin_data_processed_5ht2a)} samples\")\n",
    "print(f\"Pretraining data: {len(merged_serotonin_data_processed_pretrain)} samples\\n\")\n",
    "\n",
    "split_idx = int(0.9 * len(merged_serotonin_data_processed_5ht2a))\n",
    "\n",
    "merged_serotonin_data_processed_5ht2a_train = merged_serotonin_data_processed_5ht2a[\n",
    "    :split_idx\n",
    "]\n",
    "merged_serotonin_data_processed_5ht2a_test = merged_serotonin_data_processed_5ht2a[\n",
    "    split_idx:\n",
    "]\n",
    "\n",
    "print(\n",
    "    f\"5-HT2a receptor training data: {len(merged_serotonin_data_processed_5ht2a_train)} samples\"\n",
    ")\n",
    "print(\n",
    "    f\"5-HT2a receptor test data: {len(merged_serotonin_data_processed_5ht2a_test)} samples\\n\"\n",
    ")\n",
    "\n",
    "print(f\"Example 5-HT2a data object: {merged_serotonin_data_processed_5ht2a_train[0]}\")\n",
    "print(\n",
    "    f\"Example pretraining data object: {merged_serotonin_data_processed_pretrain[0]}\\n\"\n",
    ")\n",
    "\n",
    "y_train = [\n",
    "    d.y.cpu().numpy()\n",
    "    for d in merged_serotonin_data_processed_5ht2a_train\n",
    "    if d.y.numel() > 0\n",
    "]\n",
    "sigma_train = np.nanstd(y_train)\n",
    "\n",
    "print(\n",
    "    \"Standard deviation of z-normalized -log_10(Ki) in 5-HT2a train set:\", sigma_train\n",
    ")"
   ]
  },
  {
   "cell_type": "markdown",
   "metadata": {
    "id": "5vDOpQmFhQoW"
   },
   "source": [
    "---\n",
    "\n",
    "## Model Architectures\n"
   ]
  },
  {
   "cell_type": "markdown",
   "metadata": {
    "id": "zXYo_QiqhQoW"
   },
   "source": [
    "### Naive Baseline\n"
   ]
  },
  {
   "cell_type": "code",
   "execution_count": 13,
   "metadata": {
    "executionInfo": {
     "elapsed": 1,
     "status": "ok",
     "timestamp": 1742151427432,
     "user": {
      "displayName": "Paul Utsch",
      "userId": "03470855315435454824"
     },
     "user_tz": -60
    },
    "id": "EzwGqdrhhQoW"
   },
   "outputs": [],
   "source": [
    "class MeanBaseline:\n",
    "    def __init__(self):\n",
    "        self.mean_ = None\n",
    "\n",
    "    def fit(self, y):\n",
    "        self.mean_ = np.nanmean(y)\n",
    "\n",
    "    def predict(self, n):\n",
    "        return np.tile(self.mean_, n)"
   ]
  },
  {
   "cell_type": "markdown",
   "metadata": {
    "id": "QvehcFMGhQoW"
   },
   "source": [
    "### SeroGCN\n"
   ]
  },
  {
   "cell_type": "code",
   "execution_count": 18,
   "metadata": {
    "executionInfo": {
     "elapsed": 1,
     "status": "ok",
     "timestamp": 1742151427437,
     "user": {
      "displayName": "Paul Utsch",
      "userId": "03470855315435454824"
     },
     "user_tz": -60
    },
    "id": "f9C_6NOzhQoW"
   },
   "outputs": [],
   "source": [
    "from torch_geometric.nn import GCNConv, global_max_pool\n",
    "from torch.nn import Linear\n",
    "import torch.nn.functional as F\n",
    "\n",
    "n_features = merged_serotonin_data_processed_5ht2a_train[0].x.shape[1]\n",
    "\n",
    "\n",
    "class SeroGCN(torch.nn.Module):\n",
    "    def __init__(self, n_hidden, n_out=1):\n",
    "        super(SeroGCN, self).__init__()\n",
    "\n",
    "        self.conv1 = GCNConv(n_features, n_hidden)\n",
    "        self.conv2 = GCNConv(n_hidden, n_hidden)\n",
    "        self.fc = Linear(n_hidden, n_out)\n",
    "        self.sigma = 1.0  # distance weighting parameter\n",
    "\n",
    "    def forward(self, mol_batch) -> torch.Tensor:\n",
    "        x, pos, edge_index = (\n",
    "            mol_batch.x,\n",
    "            mol_batch.pos,\n",
    "            mol_batch.edge_index,\n",
    "        )\n",
    "\n",
    "        row, col = edge_index\n",
    "        eucl_edge_dist = torch.norm(pos[row] - pos[col], p=2, dim=1)\n",
    "        weight_distance = torch.exp(\n",
    "            -(eucl_edge_dist**2) / (2 * self.sigma**2)\n",
    "        )  # Gaussian distance weighting\n",
    "\n",
    "        # message passing with diustance weights\n",
    "        x = self.conv1(x, edge_index, edge_weight=weight_distance)\n",
    "        x = F.relu(x)\n",
    "        x = self.conv2(x, edge_index)\n",
    "        x = F.relu(x)\n",
    "\n",
    "        # global pooling for graph-level representation\n",
    "        x = global_max_pool(x, mol_batch.batch)\n",
    "        x = self.fc(x)\n",
    "\n",
    "        return x"
   ]
  },
  {
   "cell_type": "markdown",
   "metadata": {
    "id": "QiVYy5b9hQoX"
   },
   "source": [
    "---\n",
    "\n",
    "## Training Logic\n"
   ]
  },
  {
   "cell_type": "code",
   "execution_count": 19,
   "metadata": {
    "executionInfo": {
     "elapsed": 0,
     "status": "ok",
     "timestamp": 1742151427440,
     "user": {
      "displayName": "Paul Utsch",
      "userId": "03470855315435454824"
     },
     "user_tz": -60
    },
    "id": "u-SuA9MehQoX"
   },
   "outputs": [],
   "source": [
    "def fit(\n",
    "    model: torch.nn.Module,\n",
    "    train_loader: DataLoader,\n",
    "    val_loader: DataLoader,\n",
    "    optimizer: torch.optim.Optimizer,\n",
    "    criterion,\n",
    "    epochs: int,\n",
    "):\n",
    "    train_losses = []\n",
    "    val_losses = []\n",
    "\n",
    "    for epoch in range(epochs):\n",
    "        # --- Training ---\n",
    "        model.train()\n",
    "        epoch_loss = 0.0\n",
    "        start_epoch = time.time()\n",
    "\n",
    "        for i, data in enumerate(train_loader):\n",
    "            data = data.to(device)\n",
    "            optimizer.zero_grad()\n",
    "            out = model(data)  # (batch_size, n_out)\n",
    "\n",
    "            batch_size = out.shape[0]\n",
    "            target_values = data.y.view(batch_size)  # (batch_size)\n",
    "            # if all data.target_id are 3, make target_indices all 0\n",
    "\n",
    "            if torch.all(\n",
    "                data.target_id == 3\n",
    "            ):  # if all targets are 5-HT2a, set all indices to 0\n",
    "                target_indices = torch.zeros_like(data.target_id)\n",
    "            else:\n",
    "                target_indices = torch.where(\n",
    "                    data.target_id > 3, data.target_id - 1, data.target_id\n",
    "                )  # not the nicest approach, but the 5-HT2a receptor unfortunately has target_id 3\n",
    "            selected_outputs = out[\n",
    "                torch.arange(batch_size), target_indices\n",
    "            ]  # (batch_size)\n",
    "\n",
    "            loss = criterion(selected_outputs, target_values)\n",
    "\n",
    "            loss.backward()\n",
    "            optimizer.step()\n",
    "            epoch_loss += loss.item()\n",
    "\n",
    "            pct_complete = 100 * (i + 1) / len(train_loader)\n",
    "            sys.stdout.write(\n",
    "                f\"\\rEpoch {epoch+1}/{epochs} - {pct_complete:.2f}% complete\"\n",
    "            )\n",
    "            sys.stdout.flush()\n",
    "\n",
    "        train_loss_avg = epoch_loss / len(train_loader)\n",
    "\n",
    "        # --- Validation ---\n",
    "        model.eval()\n",
    "        val_epoch_loss = 0.0\n",
    "        with torch.no_grad():\n",
    "            for val_data in val_loader:\n",
    "                val_data = val_data.to(device)\n",
    "                val_out = model(val_data)\n",
    "\n",
    "                batch_size = val_out.shape[0]\n",
    "                val_target_values = val_data.y.view(batch_size)\n",
    "                if torch.all(val_data.target_id == 3):\n",
    "                    val_target_indices = torch.zeros_like(val_data.target_id)\n",
    "                else:\n",
    "                    val_target_indices = torch.where(\n",
    "                        val_data.target_id > 3,\n",
    "                        val_data.target_id - 1,\n",
    "                        val_data.target_id,\n",
    "                    )  # again – I know – not the nicest approach\n",
    "                val_selected_outputs = val_out[\n",
    "                    torch.arange(batch_size), val_target_indices\n",
    "                ]\n",
    "\n",
    "                val_loss = criterion(val_selected_outputs, val_target_values)\n",
    "\n",
    "                val_epoch_loss += val_loss.item()\n",
    "        val_loss_avg = val_epoch_loss / len(val_loader)\n",
    "        end_epoch = time.time()\n",
    "\n",
    "        print(\n",
    "            f\"\\nEpoch {epoch+1} completed. Train Loss = {train_loss_avg:.4f} | Val Loss = {val_loss_avg:.4f}. Time taken: {end_epoch - start_epoch:.2f}s\"\n",
    "        )\n",
    "        train_losses.append(train_loss_avg)\n",
    "        val_losses.append(val_loss_avg)\n",
    "\n",
    "    return train_losses, val_losses"
   ]
  },
  {
   "cell_type": "code",
   "execution_count": 20,
   "metadata": {
    "executionInfo": {
     "elapsed": 270,
     "status": "ok",
     "timestamp": 1742151427719,
     "user": {
      "displayName": "Paul Utsch",
      "userId": "03470855315435454824"
     },
     "user_tz": -60
    },
    "id": "k5vqfLNAhQoY"
   },
   "outputs": [],
   "source": [
    "import copy\n",
    "\n",
    "from sklearn.model_selection import KFold\n",
    "from torch.utils.data import Subset\n",
    "from torch_geometric.loader import DataLoader\n",
    "import torch\n",
    "\n",
    "\n",
    "def k_fold_cv(\n",
    "    initialized_model,\n",
    "    Optimizer,\n",
    "    criterion,\n",
    "    dataset,\n",
    "    k=5,\n",
    "    epochs=10,\n",
    "    batch_size=32,\n",
    "    lr=0.01,\n",
    "    fit_final_model=False,\n",
    "):\n",
    "    kf = KFold(n_splits=k, shuffle=True, random_state=42)\n",
    "    fold_train_losses = []\n",
    "    fold_val_losses = []\n",
    "\n",
    "    for fold, (train_idx, val_idx) in enumerate(kf.split(dataset)):\n",
    "        print(f\"\\n--- Fold {fold+1}/{k} ---\")\n",
    "\n",
    "        train_subset = Subset(dataset, train_idx)\n",
    "        val_subset = Subset(dataset, val_idx)\n",
    "\n",
    "        train_loader = DataLoader(train_subset, batch_size=batch_size, shuffle=True)\n",
    "        val_loader = DataLoader(val_subset, batch_size=batch_size, shuffle=False)\n",
    "\n",
    "        model_tmp = copy.deepcopy(initialized_model)\n",
    "        optimizer_tmp = Optimizer(model_tmp.parameters(), lr=lr, weight_decay=1e-4)\n",
    "\n",
    "        train_losses, val_losses = fit(\n",
    "            model_tmp, train_loader, val_loader, optimizer_tmp, criterion, epochs\n",
    "        )\n",
    "\n",
    "        fold_train_losses.append(train_losses)\n",
    "        fold_val_losses.append(val_losses)\n",
    "\n",
    "        print(\n",
    "            f\"Fold {fold+1} completed. Final train loss: {train_losses[-1]:.4f} | Final val loss: {val_losses[-1]:.4f}\"\n",
    "        )\n",
    "\n",
    "    print(\"\\n--- K-Fold CV completed ---\")\n",
    "    print(\n",
    "        f\"Average final train loss: {sum([l[-1] for l in fold_train_losses]) / k:.4f}\"\n",
    "    )\n",
    "    print(f\"Average final val loss: {sum([l[-1] for l in fold_val_losses]) / k:.4f}\")\n",
    "\n",
    "    if fit_final_model:\n",
    "        print(\"\\nFitting final model on entire dataset\")\n",
    "        optimizer_final = Optimizer(\n",
    "            initialized_model.parameters(), lr=lr, weight_decay=1e-4\n",
    "        )\n",
    "        data_loader = DataLoader(dataset, batch_size=batch_size, shuffle=True)\n",
    "        fit(\n",
    "            initialized_model,\n",
    "            data_loader,\n",
    "            data_loader,\n",
    "            optimizer_final,\n",
    "            criterion,\n",
    "            epochs,\n",
    "        )\n",
    "\n",
    "    return fold_train_losses, fold_val_losses"
   ]
  },
  {
   "cell_type": "code",
   "execution_count": 21,
   "metadata": {
    "executionInfo": {
     "elapsed": 1,
     "status": "ok",
     "timestamp": 1742151427722,
     "user": {
      "displayName": "Paul Utsch",
      "userId": "03470855315435454824"
     },
     "user_tz": -60
    },
    "id": "TouwAhcIhQoY"
   },
   "outputs": [],
   "source": [
    "from itertools import product\n",
    "from sklearn.model_selection import KFold\n",
    "from torch.utils.data import Subset\n",
    "\n",
    "\n",
    "def nested_cv(\n",
    "    Model,\n",
    "    n_out,\n",
    "    Optimizer,\n",
    "    criterion,\n",
    "    hyperparam_grid,\n",
    "    dataset,\n",
    "    k_outer=5,\n",
    "    k_inner=5,\n",
    "):\n",
    "    # list of one dict per parameter combination\n",
    "    param_combinations = [\n",
    "        dict(zip(hyperparam_grid.keys(), values))\n",
    "        for values in product(*hyperparam_grid.values())\n",
    "    ]\n",
    "    n_combinations = len(param_combinations)\n",
    "\n",
    "    # risk estimate for each outer fold and each hyperparam combo\n",
    "    R_ests = np.zeros((k_outer, n_combinations))\n",
    "\n",
    "    if k_outer > 1:\n",
    "        outer_kf = KFold(n_splits=k_outer, shuffle=True, random_state=42)\n",
    "    else:  # for compute reasons\n",
    "\n",
    "        class DummyKFold:\n",
    "            def split(self, X):\n",
    "                yield X, X\n",
    "\n",
    "        outer_kf = DummyKFold()\n",
    "    dataset_indices = np.arange(len(dataset))\n",
    "\n",
    "    for i, (outer_train_idx, outer_val_idx) in enumerate(\n",
    "        outer_kf.split(dataset_indices)\n",
    "    ):\n",
    "        print(f\"\\n--- Outer Fold {i+1}/{k_outer} ---\")\n",
    "\n",
    "        outer_train_dataset = Subset(dataset, outer_train_idx)\n",
    "        outer_val_dataset = Subset(dataset, outer_val_idx)\n",
    "\n",
    "        # per hyperparam combo, perform inner k_fold_cv\n",
    "        for j, params in enumerate(param_combinations):\n",
    "            model = Model(params[\"n_hidden\"], n_out).to(device)\n",
    "\n",
    "            # Run k_fold_cv on the outer training dataset.\n",
    "            _, fold_val_losses = k_fold_cv(\n",
    "                initialized_model=model,\n",
    "                Optimizer=Optimizer,\n",
    "                criterion=criterion,\n",
    "                dataset=outer_train_dataset,\n",
    "                k=k_inner,\n",
    "                epochs=params[\"epochs\"],\n",
    "                # batch_size=params[\"batch_size\"],\n",
    "                batch_size=64,  # hard-coded for compute reasons\n",
    "                lr=params[\"lr\"],\n",
    "            )\n",
    "            # average val risk over inner folds\n",
    "            final_losses = [losses[-1] for losses in fold_val_losses]\n",
    "            R_est = np.mean(final_losses)\n",
    "            R_ests[i, j] = R_est\n",
    "            print(\n",
    "                f\"Outer fold {i+1}, param set {j+1}/{n_combinations}: Risk = {R_est:.4f}\"\n",
    "            )\n",
    "\n",
    "    # average risk per hyperparam combination over outer folds\n",
    "    R_ests_params = np.mean(R_ests, axis=0)\n",
    "    best_idx = np.argmin(R_ests_params)\n",
    "    best_params = param_combinations[best_idx]\n",
    "\n",
    "    print(\n",
    "        f\"\\nSelected best hyperparameters (avg risk {R_ests_params[best_idx]:.4f}): {best_params}\"\n",
    "    )\n",
    "\n",
    "    # train final model on full dataset\n",
    "    model_final = Model(best_params[\"n_hidden\"], n_out).to(device)\n",
    "    _, final_val_losses = k_fold_cv(\n",
    "        initialized_model=model_final,\n",
    "        Optimizer=Optimizer,\n",
    "        criterion=criterion,\n",
    "        dataset=dataset,\n",
    "        k=k_inner,\n",
    "        epochs=best_params[\"epochs\"],\n",
    "        # batch_size=params[\"batch_size\"],\n",
    "        batch_size=64,  # hard-coded for compute reasons\n",
    "        lr=best_params[\"lr\"],\n",
    "        fit_final_model=True,\n",
    "    )\n",
    "    final_R_est = np.mean([losses[-1] for losses in final_val_losses])\n",
    "    print(f\"Final model empirical risk estimate on full dataset: {final_R_est:.4f}\")\n",
    "\n",
    "    return model_final, best_params, final_R_est"
   ]
  },
  {
   "cell_type": "markdown",
   "metadata": {
    "id": "fUKhw2PrhQoY"
   },
   "source": [
    "---\n",
    "\n",
    "## Training & Model Selection\n"
   ]
  },
  {
   "cell_type": "markdown",
   "metadata": {
    "id": "YBl2khqehQoY"
   },
   "source": [
    "### Naive Baseline: Average Prediction\n"
   ]
  },
  {
   "cell_type": "code",
   "execution_count": 18,
   "metadata": {
    "colab": {
     "base_uri": "https://localhost:8080/"
    },
    "executionInfo": {
     "elapsed": 5,
     "status": "ok",
     "timestamp": 1742151427733,
     "user": {
      "displayName": "Paul Utsch",
      "userId": "03470855315435454824"
     },
     "user_tz": -60
    },
    "id": "HUIVMVd6hQoY",
    "outputId": "033e4ff8-8559-4190-c102-fd54f5a7fc5f"
   },
   "outputs": [
    {
     "name": "stdout",
     "output_type": "stream",
     "text": [
      "Naive baseline RMSE: 1.013871669769287\n"
     ]
    }
   ],
   "source": [
    "split_idx_baseline = int(0.8 * len(merged_serotonin_data_processed_5ht2a_train))\n",
    "\n",
    "y_train_baseline = [\n",
    "    d.y.numpy()\n",
    "    for d in merged_serotonin_data_processed_5ht2a_train[:split_idx_baseline]\n",
    "]\n",
    "y_val_baseline = [\n",
    "    d.y.numpy()\n",
    "    for d in merged_serotonin_data_processed_5ht2a_train[split_idx_baseline:]\n",
    "]\n",
    "\n",
    "naive_baseline = MeanBaseline()\n",
    "naive_baseline.fit(y_train_baseline)\n",
    "naive_baseline_predictions = naive_baseline.predict(len(y_val_baseline))\n",
    "\n",
    "# compute mse\n",
    "mse = np.nanmean((y_val_baseline - naive_baseline_predictions) ** 2, axis=0)\n",
    "rmse = np.sqrt(mse)\n",
    "print(f\"Naive baseline RMSE: {rmse}\")"
   ]
  },
  {
   "cell_type": "markdown",
   "metadata": {
    "id": "kvgld7xIhQoY"
   },
   "source": [
    "### Baseline: Random Forest with 2D Descriptors\n"
   ]
  },
  {
   "cell_type": "code",
   "execution_count": 16,
   "metadata": {
    "colab": {
     "base_uri": "https://localhost:8080/"
    },
    "executionInfo": {
     "elapsed": 15555,
     "status": "ok",
     "timestamp": 1742151443293,
     "user": {
      "displayName": "Paul Utsch",
      "userId": "03470855315435454824"
     },
     "user_tz": -60
    },
    "id": "1nmBUWPuhQoY",
    "outputId": "734e450a-c193-433e-a497-fb50affad612"
   },
   "outputs": [
    {
     "name": "stdout",
     "output_type": "stream",
     "text": [
      "Training Fold 1...\n",
      "Fold 1 RMSE: 0.6344\n",
      "Training Fold 2...\n",
      "Fold 2 RMSE: 0.6269\n",
      "Training Fold 3...\n",
      "Fold 3 RMSE: 0.6337\n",
      "Training Fold 4...\n",
      "Fold 4 RMSE: 0.6111\n",
      "Training Fold 5...\n",
      "Fold 5 RMSE: 0.6404\n",
      "\n",
      "Average 5-Fold CV RMSE: 0.6293\n"
     ]
    }
   ],
   "source": [
    "from sklearn.ensemble import RandomForestRegressor\n",
    "from sklearn.metrics import mean_squared_error\n",
    "from rdkit.Chem import Descriptors\n",
    "\n",
    "# tried a bunch of descriptor functions from Descriptors._descList\n",
    "# – these are the ones that did NOT crash the kernel ...\n",
    "safe_descriptors = [\n",
    "    \"MolWt\",\n",
    "    \"MolLogP\",\n",
    "    \"MolMR\",\n",
    "    \"NumValenceElectrons\",\n",
    "    \"NumRadicalElectrons\",\n",
    "    \"HeavyAtomCount\",\n",
    "    \"NHOHCount\",\n",
    "    \"NOCount\",\n",
    "    \"RingCount\",\n",
    "    \"FractionCSP3\",\n",
    "    \"TPSA\",\n",
    "    \"NumHDonors\",\n",
    "    \"NumHAcceptors\",\n",
    "    \"NumRotatableBonds\",\n",
    "    \"HallKierAlpha\",\n",
    "    \"Kappa1\",\n",
    "    \"Kappa2\",\n",
    "    \"Kappa3\",\n",
    "    \"Chi0\",\n",
    "    \"Chi1\",\n",
    "    \"fr_Al_COO\",\n",
    "    \"fr_Al_OH\",\n",
    "    \"fr_Ar_N\",\n",
    "    \"fr_C_O\",\n",
    "    \"fr_NH1\",\n",
    "    \"fr_NH2\",\n",
    "]\n",
    "\n",
    "descriptor_functions = {name: getattr(Descriptors, name) for name in safe_descriptors}\n",
    "\n",
    "\n",
    "# extract a fixed-length feature vector from the graph data, as input to RF model\n",
    "def compute_descriptors(smiles):\n",
    "    mol = Chem.MolFromSmiles(smiles)\n",
    "    if mol is None:\n",
    "        return None\n",
    "    desc_values = []\n",
    "    for _, func in descriptor_functions.items():\n",
    "        try:\n",
    "            desc_values.append(func(mol))\n",
    "        except:\n",
    "            print(f\"Error computing descriptor {func}\")\n",
    "    return np.array(desc_values)\n",
    "\n",
    "\n",
    "X = []\n",
    "y = []\n",
    "for data in merged_serotonin_data_processed_5ht2a_train:\n",
    "    features = compute_descriptors(data.smiles)\n",
    "    if features is None:\n",
    "        continue\n",
    "    mol_features = (\n",
    "        data.mol_features.cpu().numpy()\n",
    "        if hasattr(data.mol_features, \"cpu\")\n",
    "        else np.array(data.mol_features)\n",
    "    )\n",
    "    combined_features = np.concatenate([features, mol_features[0]])\n",
    "    X.append(features)\n",
    "    target_val = data.y.cpu().numpy() if data.y.numel() > 0 else np.nan\n",
    "    y.append(target_val)\n",
    "\n",
    "X = np.array(X)\n",
    "y = np.array(y)\n",
    "\n",
    "kf = KFold(n_splits=5, shuffle=True, random_state=42)\n",
    "rmse_scores = []\n",
    "\n",
    "for fold, (train_idx, val_idx) in enumerate(kf.split(X)):\n",
    "    print(f\"Training Fold {fold + 1}...\")\n",
    "\n",
    "    X_train, X_val = X[train_idx], X[val_idx]\n",
    "    y_train, y_val = y[train_idx], y[val_idx]\n",
    "\n",
    "    rf = RandomForestRegressor(n_estimators=100, random_state=42)\n",
    "    rf.fit(X_train, y_train)\n",
    "\n",
    "    y_pred = rf.predict(X_val)\n",
    "    mse = mean_squared_error(y_val, y_pred)\n",
    "    rmse = np.sqrt(mse)\n",
    "    rmse_scores.append(rmse)\n",
    "\n",
    "    print(f\"Fold {fold + 1} RMSE: {rmse:.4f}\")\n",
    "\n",
    "# Report average RMSE\n",
    "avg_rmse = np.mean(rmse_scores)\n",
    "print(f\"\\nAverage 5-Fold CV RMSE: {avg_rmse:.4f}\")"
   ]
  },
  {
   "cell_type": "markdown",
   "metadata": {
    "id": "nyInMxaihQoZ"
   },
   "source": [
    "### Approach 1: SeroGCN without Pretraining\n"
   ]
  },
  {
   "cell_type": "code",
   "execution_count": 20,
   "metadata": {
    "colab": {
     "base_uri": "https://localhost:8080/"
    },
    "executionInfo": {
     "elapsed": 1132479,
     "status": "ok",
     "timestamp": 1742152580905,
     "user": {
      "displayName": "Paul Utsch",
      "userId": "03470855315435454824"
     },
     "user_tz": -60
    },
    "id": "LOo8Rdh9hQoZ",
    "outputId": "3ff7a63d-d80f-4b92-c28c-d9f22152ced8"
   },
   "outputs": [
    {
     "name": "stdout",
     "output_type": "stream",
     "text": [
      "Loading existing trained model and best hyperparameters...\n",
      "Done\n"
     ]
    }
   ],
   "source": [
    "weights_path = PATH_WEIGHTS / \"sero_gcn_final_weights.pth\"\n",
    "params_path = PATH_WEIGHTS / \"best_params_sero.json\"\n",
    "\n",
    "if os.path.exists(weights_path) and os.path.exists(params_path):\n",
    "    print(\"Loading existing trained model and best hyperparameters...\")\n",
    "\n",
    "    with open(params_path, \"r\") as f:\n",
    "        best_params_sero_gcn = json.load(f)[\"best_params_sero_gcn\"]\n",
    "\n",
    "    sero_gcn_final = SeroGCN(best_params_sero_gcn[\"n_hidden\"]).to(device)\n",
    "\n",
    "    sero_gcn_final.load_state_dict(\n",
    "        torch.load(weights_path, map_location=device, weights_only=True)\n",
    "    )\n",
    "\n",
    "    print(\"Done\")\n",
    "else:\n",
    "    n_out = 1\n",
    "\n",
    "    hyperparam_grid = {\n",
    "        \"lr\": [0.1, 0.01, 0.001],\n",
    "        \"n_hidden\": [32, 64, 128],\n",
    "        \"epochs\": [10, 20, 30],\n",
    "    }\n",
    "\n",
    "    sero_gcn_final, best_params_sero_gcn, final_R_est_sero_gcn = nested_cv(\n",
    "        SeroGCN,\n",
    "        n_out,\n",
    "        torch.optim.Adam,\n",
    "        torch.nn.MSELoss(),\n",
    "        hyperparam_grid,\n",
    "        merged_serotonin_data_processed_5ht2a_train,\n",
    "        k_outer=1,  # compute reasons\n",
    "        k_inner=5,\n",
    "    )\n",
    "\n",
    "    torch.save(sero_gcn_final.state_dict(), PATH_WEIGHTS / \"sero_gcn_final_weights.pth\")\n",
    "\n",
    "    with open(PATH_WEIGHTS / \"best_params_sero.json\", \"w\") as f:\n",
    "        json.dump(\n",
    "            {\n",
    "                \"best_params_sero_gcn\": best_params_sero_gcn,\n",
    "                \"final_R_est_sero_gcn\": final_R_est_sero_gcn,\n",
    "            },\n",
    "            f,\n",
    "        )"
   ]
  },
  {
   "cell_type": "markdown",
   "metadata": {
    "id": "sqGa2vpxhQoZ"
   },
   "source": [
    "### Approach 2: SeroGCN with Pretraining\n"
   ]
  },
  {
   "cell_type": "markdown",
   "metadata": {
    "id": "BqooqV7zhQoZ"
   },
   "source": [
    "#### Pretraining: Hyperparameter Selection\n"
   ]
  },
  {
   "cell_type": "code",
   "execution_count": 21,
   "metadata": {
    "colab": {
     "base_uri": "https://localhost:8080/"
    },
    "executionInfo": {
     "elapsed": 2346903,
     "status": "ok",
     "timestamp": 1742156091678,
     "user": {
      "displayName": "Paul Utsch",
      "userId": "03470855315435454824"
     },
     "user_tz": -60
    },
    "id": "fepVtdrzhQoZ",
    "outputId": "3d1ad0a6-d3fb-4d1f-b2a8-808aefd7f7b8"
   },
   "outputs": [
    {
     "name": "stdout",
     "output_type": "stream",
     "text": [
      "Loading existing pretrained model and best hyperparameters...\n",
      "Done\n"
     ]
    }
   ],
   "source": [
    "weights_path = PATH_WEIGHTS / \"pretrained_sero_gcn_pretrained_weights.pth\"\n",
    "params_path = PATH_WEIGHTS / \"best_params_pretrained_sero.json\"\n",
    "if os.path.exists(weights_path) and os.path.exists(params_path):\n",
    "    print(\"Loading existing pretrained model and best hyperparameters...\")\n",
    "\n",
    "    with open(params_path, \"r\") as f:\n",
    "        best_params_pretrained_sero_gcn = json.load(f)[\n",
    "            \"best_params_pretrained_sero_gcn\"\n",
    "        ]\n",
    "\n",
    "    n_out = len(target_name_to_id.values()) - 1\n",
    "\n",
    "    pretrained_sero_gcn = SeroGCN(\n",
    "        best_params_pretrained_sero_gcn[\"n_hidden\"], n_out\n",
    "    ).to(device)\n",
    "\n",
    "    pretrained_sero_gcn.load_state_dict(\n",
    "        torch.load(weights_path, map_location=device, weights_only=True)\n",
    "    )\n",
    "\n",
    "    print(\"Done\")\n",
    "else:\n",
    "    # adapted hyperparams based on performance of previous 5-HT2A model\n",
    "    hyperparam_grid = {\n",
    "        \"lr\": [0.01, 0.005, 0.001],\n",
    "        \"n_hidden\": [64],\n",
    "        \"epochs\": [\n",
    "            30,\n",
    "            40,\n",
    "        ],\n",
    "    }\n",
    "\n",
    "    n_out = len(target_name_to_id.values()) - 1  # excluding 5-HT2A target\n",
    "    print(f\"Number of targets: {n_out}\")\n",
    "\n",
    "    (\n",
    "        pretrained_sero_gcn,\n",
    "        best_params_pretrained_sero_gcn,\n",
    "        final_R_est_pretrained_sero_gcn,\n",
    "    ) = nested_cv(\n",
    "        SeroGCN,\n",
    "        n_out,\n",
    "        torch.optim.Adam,\n",
    "        torch.nn.MSELoss(),\n",
    "        hyperparam_grid,\n",
    "        merged_serotonin_data_processed_pretrain,\n",
    "        k_outer=1,  # compute reasons\n",
    "        k_inner=5,\n",
    "    )\n",
    "\n",
    "    torch.save(\n",
    "        pretrained_sero_gcn.state_dict(),\n",
    "        PATH_WEIGHTS / \"pretrained_sero_gcn_pretrained_weights.pth\",\n",
    "    )\n",
    "\n",
    "    with open(PATH_WEIGHTS / \"best_params_pretrained_sero.json\", \"w\") as f:\n",
    "        json.dump(\n",
    "            {\n",
    "                \"best_params_pretrained_sero_gcn\": best_params_pretrained_sero_gcn,\n",
    "                \"final_R_est_pretrained_sero_gcn\": final_R_est_pretrained_sero_gcn,\n",
    "            },\n",
    "            f,\n",
    "        )"
   ]
  },
  {
   "cell_type": "markdown",
   "metadata": {
    "id": "zBTj2oQfhQoZ"
   },
   "source": [
    "#### Finetuning on 5-HT2A Data\n"
   ]
  },
  {
   "cell_type": "code",
   "execution_count": 27,
   "metadata": {
    "colab": {
     "base_uri": "https://localhost:8080/"
    },
    "executionInfo": {
     "elapsed": 138399,
     "status": "ok",
     "timestamp": 1742156406861,
     "user": {
      "displayName": "Paul Utsch",
      "userId": "03470855315435454824"
     },
     "user_tz": -60
    },
    "id": "iX_8Qr17hQoZ",
    "outputId": "b18b3ff0-c0ae-4480-97d1-80dc1f16fa4d"
   },
   "outputs": [
    {
     "name": "stdout",
     "output_type": "stream",
     "text": [
      "Loading existing pretrained model and best hyperparameters...\n",
      "Done\n"
     ]
    }
   ],
   "source": [
    "weights_path = PATH_WEIGHTS / \"pretrained_sero_gcn_final_weights.pth\"\n",
    "params_path = PATH_WEIGHTS / \"best_params_pretrained_sero.json\"\n",
    "params_path_pretrained = PATH_WEIGHTS / \"pretrained_sero_gcn_pretrained_weights.pth\"\n",
    "\n",
    "if os.path.exists(weights_path) and os.path.exists(params_path):\n",
    "    print(\"Loading existing pretrained model and best hyperparameters...\")\n",
    "\n",
    "    with open(params_path, \"r\") as f:\n",
    "        best_params_pretrained_sero_gcn = json.load(f)[\n",
    "            \"best_params_pretrained_sero_gcn\"\n",
    "        ]\n",
    "\n",
    "    pretrained_sero_gcn = SeroGCN(best_params_pretrained_sero_gcn[\"n_hidden\"], 1).to(\n",
    "        device\n",
    "    )\n",
    "\n",
    "    pretrained_sero_gcn.load_state_dict(\n",
    "        torch.load(weights_path, map_location=device, weights_only=True)\n",
    "    )\n",
    "\n",
    "    print(\"Done\")\n",
    "elif os.path.exists(params_path_pretrained):\n",
    "    print(\"Loading pretrained SeroGCN weights from file\")\n",
    "    pretrained_weights = torch.load(\n",
    "        params_path_pretrained, map_location=device, weights_only=True\n",
    "    )\n",
    "\n",
    "    n_out = 1\n",
    "\n",
    "    sero_gcn_finetune = SeroGCN(best_params_pretrained_sero_gcn[\"n_hidden\"], n_out).to(\n",
    "        device\n",
    "    )\n",
    "    model_dict = sero_gcn_finetune.state_dict()  # including fc layer\n",
    "    pretrained_weights_filtered = {\n",
    "        k: v for k, v in pretrained_weights.items() if \"fc\" not in k\n",
    "    }  # excluding fc layer\n",
    "    model_dict.update(pretrained_weights_filtered)  # load pretrained weights\n",
    "\n",
    "    sero_gcn_finetune.load_state_dict(\n",
    "        model_dict, strict=False\n",
    "    )  # allow missing fc weights\n",
    "\n",
    "    print(\"Done\")\n",
    "\n",
    "    _, final_val_losses_pretrained_sero_gcn = k_fold_cv(\n",
    "        initialized_model=sero_gcn_finetune,\n",
    "        Optimizer=torch.optim.Adam,\n",
    "        criterion=torch.nn.MSELoss(),\n",
    "        dataset=merged_serotonin_data_processed_5ht2a_train,\n",
    "        k=5,\n",
    "        epochs=best_params_pretrained_sero_gcn[\"epochs\"],\n",
    "        lr=best_params_pretrained_sero_gcn[\"lr\"]\n",
    "        * 0.7,  # reduce LR for fine-tuning to prevent overwriting pretrained params\n",
    "        fit_final_model=True,\n",
    "    )\n",
    "\n",
    "    final_losses = [losses[-1] for losses in final_val_losses_pretrained_sero_gcn]\n",
    "    R_est = np.mean(final_losses)\n",
    "\n",
    "    torch.save(\n",
    "        sero_gcn_finetune.state_dict(),\n",
    "        PATH_WEIGHTS / \"pretrained_sero_gcn_final_weights.pth\",\n",
    "    )\n",
    "\n",
    "    with open(PATH_WEIGHTS / \"best_params_pretrained_sero_final.json\", \"w\") as f:\n",
    "        json.dump(\n",
    "            {\n",
    "                \"best_params_pretrained_sero_gcn\": best_params_pretrained_sero_gcn,\n",
    "                \"final_R_est_pretrained_sero_gcn\": R_est,\n",
    "            },\n",
    "            f,\n",
    "        )\n",
    "else:\n",
    "    print(\"No pretrained weights – pretrain first\")"
   ]
  },
  {
   "cell_type": "markdown",
   "metadata": {
    "id": "DxB4ngu_hQoZ"
   },
   "source": [
    "---\n",
    "\n",
    "## Test Set Evaluation\n"
   ]
  },
  {
   "cell_type": "markdown",
   "metadata": {},
   "source": [
    "### Baseline: Random Forest with 2D Descriptors\n"
   ]
  },
  {
   "cell_type": "code",
   "execution_count": 15,
   "metadata": {},
   "outputs": [
    {
     "name": "stdout",
     "output_type": "stream",
     "text": [
      "Random Forest Test RMSE: 0.6100\n"
     ]
    }
   ],
   "source": [
    "X_test = []\n",
    "y_test = []\n",
    "\n",
    "for data in merged_serotonin_data_processed_5ht2a_test:\n",
    "    features = compute_descriptors(data.smiles)\n",
    "    if features is None:\n",
    "        continue\n",
    "    X_test.append(features)\n",
    "    target_val = data.y.cpu().numpy() if data.y.numel() > 0 else np.nan\n",
    "    y_test.append(target_val)\n",
    "\n",
    "X_test = np.array(X_test)\n",
    "y_test = np.array(y_test)\n",
    "\n",
    "\n",
    "X_train_rf = []\n",
    "y_train_rf = []\n",
    "\n",
    "for data in merged_serotonin_data_processed_5ht2a_train:\n",
    "    features = compute_descriptors(data.smiles)\n",
    "    if features is None:\n",
    "        continue\n",
    "    X_train_rf.append(features)\n",
    "    target_val = data.y.cpu().numpy() if data.y.numel() > 0 else np.nan\n",
    "    y_train_rf.append(target_val)\n",
    "\n",
    "X_train_rf = np.array(X_train_rf)\n",
    "y_train_rf = np.array(y_train_rf)\n",
    "\n",
    "rf = RandomForestRegressor(n_estimators=100, random_state=42)\n",
    "rf.fit(X_train_rf, y_train_rf)\n",
    "\n",
    "y_pred_rf = rf.predict(X_test)\n",
    "\n",
    "mse_rf_test = mean_squared_error(y_test, y_pred_rf)\n",
    "rmse_rf_test = np.sqrt(mse_rf_test)\n",
    "\n",
    "print(f\"Random Forest Test RMSE: {rmse_rf_test:.4f}\")"
   ]
  },
  {
   "cell_type": "markdown",
   "metadata": {},
   "source": [
    "### Pre-Trained SeroGCN\n"
   ]
  },
  {
   "cell_type": "code",
   "execution_count": 27,
   "metadata": {
    "colab": {
     "base_uri": "https://localhost:8080/"
    },
    "executionInfo": {
     "elapsed": 61,
     "status": "ok",
     "timestamp": 1741176754742,
     "user": {
      "displayName": "Paul Utsch",
      "userId": "03470855315435454824"
     },
     "user_tz": -60
    },
    "id": "nQcnyNwHBph7",
    "outputId": "2c42c8c6-cb04-430b-89aa-bff649005800"
   },
   "outputs": [
    {
     "name": "stdout",
     "output_type": "stream",
     "text": [
      "Loaded fine-tuned model weights\n",
      "Test RMSE: 0.6211\n",
      "Saved test predictions.\n"
     ]
    }
   ],
   "source": [
    "with open(PATH_WEIGHTS / \"best_params_pretrained_sero_final.json\", \"r\") as f:\n",
    "    best_params_finetuned_sero_gcn = json.load(f)[\"best_params_pretrained_sero_gcn\"]\n",
    "\n",
    "n_out = 1\n",
    "sero_gcn_finetune = SeroGCN(best_params_finetuned_sero_gcn[\"n_hidden\"], 1).to(\n",
    "    device\n",
    ")\n",
    "\n",
    "fine_tuned_weights_path = PATH_WEIGHTS / \"pretrained_sero_gcn_final_weights.pth\"\n",
    "sero_gcn_finetune.load_state_dict(\n",
    "    torch.load(fine_tuned_weights_path, map_location=device, weights_only=True)\n",
    ")\n",
    "\n",
    "print(\"Loaded fine-tuned model weights\")\n",
    "\n",
    "sero_gcn_finetune.eval()\n",
    "\n",
    "test_loader = DataLoader(\n",
    "    merged_serotonin_data_processed_5ht2a_test, batch_size=32, shuffle=False\n",
    ")\n",
    "\n",
    "predictions = []\n",
    "true_labels = []\n",
    "\n",
    "with torch.no_grad():\n",
    "    for data in test_loader:\n",
    "        data = data.to(device)\n",
    "        out = sero_gcn_finetune(data).squeeze()  # only one target, so squeeze\n",
    "\n",
    "        predictions.append(out.cpu().numpy())\n",
    "        true_labels.append(data.y.cpu().numpy())\n",
    "\n",
    "predictions = np.concatenate(predictions, axis=0)\n",
    "true_labels = np.concatenate(true_labels, axis=0)\n",
    "\n",
    "mse = np.mean((predictions - true_labels) ** 2)\n",
    "print(f\"Test RMSE: {np.sqrt(mse):.4f}\")\n",
    "\n",
    "np.save(PATH_WEIGHTS / \"sero_gcn_test_predictions.npy\", predictions)\n",
    "print(\"Saved test predictions.\")"
   ]
  }
 ],
 "metadata": {
  "accelerator": "GPU",
  "colab": {
   "collapsed_sections": [
    "q7iFshPsYhff",
    "WEEdENl6NzpP",
    "LQlehqYVhQoU",
    "XVDv1khB5ONd",
    "HA3rlMSlwM1J",
    "zXYo_QiqhQoW",
    "QvehcFMGhQoW",
    "YBl2khqehQoY",
    "kvgld7xIhQoY",
    "nyInMxaihQoZ"
   ],
   "gpuType": "A100",
   "machine_shape": "hm",
   "provenance": []
  },
  "kernelspec": {
   "display_name": ".venv",
   "language": "python",
   "name": "python3"
  },
  "language_info": {
   "codemirror_mode": {
    "name": "ipython",
    "version": 3
   },
   "file_extension": ".py",
   "mimetype": "text/x-python",
   "name": "python",
   "nbconvert_exporter": "python",
   "pygments_lexer": "ipython3",
   "version": "3.13.2"
  }
 },
 "nbformat": 4,
 "nbformat_minor": 0
}
