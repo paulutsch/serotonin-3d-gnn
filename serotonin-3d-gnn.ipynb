{
  "cells": [
    {
      "cell_type": "markdown",
      "metadata": {
        "id": "6jiKdt3EYQ6d"
      },
      "source": [
        "# Serotonin 3D GNN Project\n"
      ]
    },
    {
      "cell_type": "markdown",
      "metadata": {
        "id": "gswc-LH5YWga"
      },
      "source": [
        "This project builds upon research done by Łapińska et al. (2024): https://doi.org/10.3390/pharmaceutics16030349\n",
        "\n",
        "Data used: https://ftp.ebi.ac.uk/pub/databases/chembl/ChEMBLdb/releases/chembl_35/\n",
        "\n",
        "Move the unpacked chembl_35_sqlite.tar.gz file into the data/ dir.\n",
        "\n",
        "The research linked above presents two Quantitative Structure-Activity Relationship (QSAR) models to predict serotonergic binding affinity and selectivity, respectively, using Mordred molecular 2D descriptors. Specifically, one model classifies compounds binarily as \"active\" or \"inactive\", with a cutoff of pKi = 7. Another model does multiclass classification to predict the serotonergic selectivity of compounds previously classified as \"active\".\n",
        "\n",
        "I am following a similar approach, but using 3D molecular graph representations instead of 2D molecular descriptors as input modality and using only the ChEMBL database, not ZINC.\n"
      ]
    },
    {
      "cell_type": "markdown",
      "metadata": {
        "id": "xGK0LMuRYC6g"
      },
      "source": [
        "## Google Colab Setup\n"
      ]
    },
    {
      "cell_type": "markdown",
      "metadata": {
        "id": "ugvkdqJgYMum"
      },
      "source": [
        "### Configuration\n"
      ]
    },
    {
      "cell_type": "code",
      "execution_count": 1,
      "metadata": {
        "id": "q2XchrWsWuIk"
      },
      "outputs": [],
      "source": [
        "from pathlib import Path\n",
        "\n",
        "IN_COLAB = False\n",
        "\n",
        "PATH_NOTEBOOK = (\n",
        "    Path(\"/content/drive/MyDrive/Colab Notebooks/serotonin-3d-gnn.ipynb\")\n",
        "    if IN_COLAB\n",
        "    else Path(\n",
        "        \"/Users/paul/Library/CloudStorage/GoogleDrive-unoutsch@gmail.com/My Drive/Colab Notebooks/serotonin-3d-gnn.ipynb\"\n",
        "    )\n",
        ")\n",
        "PATH_REPO = (\n",
        "    Path(\"/content/drive/MyDrive/Repositories/serotonin-3d-gnn\")\n",
        "    if IN_COLAB\n",
        "    else Path.cwd()\n",
        ")\n",
        "PATH_DATA = PATH_REPO / \"data\""
      ]
    },
    {
      "cell_type": "markdown",
      "metadata": {
        "id": "cUmzYXPCZYV1"
      },
      "source": [
        "### Syncing Google Drive with Google Colab Content\n"
      ]
    },
    {
      "cell_type": "code",
      "execution_count": 2,
      "metadata": {
        "colab": {
          "base_uri": "https://localhost:8080/"
        },
        "id": "hu_DKQrjtID_",
        "outputId": "dfa0ebf5-6916-4f6d-b4cc-5d98b34efc5e"
      },
      "outputs": [],
      "source": [
        "if IN_COLAB:\n",
        "    from google.colab import drive\n",
        "\n",
        "    drive.mount(\"/content/drive\")"
      ]
    },
    {
      "cell_type": "markdown",
      "metadata": {
        "id": "ko5Es7NyYw7W"
      },
      "source": [
        "### Installing Requirements\n"
      ]
    },
    {
      "cell_type": "code",
      "execution_count": 3,
      "metadata": {
        "id": "sPtfbBFEYwKR"
      },
      "outputs": [
        {
          "name": "stdout",
          "output_type": "stream",
          "text": [
            "Requirement already satisfied: aiohappyeyeballs==2.4.4 in ./.venv/lib/python3.11/site-packages (from -r /Users/paul/My Drive/Repositories/serotonin-3d-gnn/requirements.txt (line 1)) (2.4.4)\n",
            "Requirement already satisfied: aiohttp==3.11.11 in ./.venv/lib/python3.11/site-packages (from -r /Users/paul/My Drive/Repositories/serotonin-3d-gnn/requirements.txt (line 2)) (3.11.11)\n",
            "Requirement already satisfied: aiosignal==1.3.2 in ./.venv/lib/python3.11/site-packages (from -r /Users/paul/My Drive/Repositories/serotonin-3d-gnn/requirements.txt (line 3)) (1.3.2)\n",
            "Requirement already satisfied: appnope==0.1.4 in ./.venv/lib/python3.11/site-packages (from -r /Users/paul/My Drive/Repositories/serotonin-3d-gnn/requirements.txt (line 4)) (0.1.4)\n",
            "Requirement already satisfied: asttokens==3.0.0 in ./.venv/lib/python3.11/site-packages (from -r /Users/paul/My Drive/Repositories/serotonin-3d-gnn/requirements.txt (line 5)) (3.0.0)\n",
            "Requirement already satisfied: attrs==25.1.0 in ./.venv/lib/python3.11/site-packages (from -r /Users/paul/My Drive/Repositories/serotonin-3d-gnn/requirements.txt (line 6)) (25.1.0)\n",
            "Requirement already satisfied: certifi==2025.1.31 in ./.venv/lib/python3.11/site-packages (from -r /Users/paul/My Drive/Repositories/serotonin-3d-gnn/requirements.txt (line 7)) (2025.1.31)\n",
            "Requirement already satisfied: charset-normalizer==3.4.1 in ./.venv/lib/python3.11/site-packages (from -r /Users/paul/My Drive/Repositories/serotonin-3d-gnn/requirements.txt (line 8)) (3.4.1)\n",
            "Requirement already satisfied: comm==0.2.2 in ./.venv/lib/python3.11/site-packages (from -r /Users/paul/My Drive/Repositories/serotonin-3d-gnn/requirements.txt (line 9)) (0.2.2)\n",
            "Requirement already satisfied: contourpy==1.3.1 in ./.venv/lib/python3.11/site-packages (from -r /Users/paul/My Drive/Repositories/serotonin-3d-gnn/requirements.txt (line 10)) (1.3.1)\n",
            "Requirement already satisfied: cycler==0.12.1 in ./.venv/lib/python3.11/site-packages (from -r /Users/paul/My Drive/Repositories/serotonin-3d-gnn/requirements.txt (line 11)) (0.12.1)\n",
            "Requirement already satisfied: debugpy==1.8.12 in ./.venv/lib/python3.11/site-packages (from -r /Users/paul/My Drive/Repositories/serotonin-3d-gnn/requirements.txt (line 12)) (1.8.12)\n",
            "Requirement already satisfied: decorator==5.1.1 in ./.venv/lib/python3.11/site-packages (from -r /Users/paul/My Drive/Repositories/serotonin-3d-gnn/requirements.txt (line 13)) (5.1.1)\n",
            "Requirement already satisfied: executing==2.2.0 in ./.venv/lib/python3.11/site-packages (from -r /Users/paul/My Drive/Repositories/serotonin-3d-gnn/requirements.txt (line 14)) (2.2.0)\n",
            "Requirement already satisfied: filelock==3.17.0 in ./.venv/lib/python3.11/site-packages (from -r /Users/paul/My Drive/Repositories/serotonin-3d-gnn/requirements.txt (line 15)) (3.17.0)\n",
            "Requirement already satisfied: fonttools==4.55.8 in ./.venv/lib/python3.11/site-packages (from -r /Users/paul/My Drive/Repositories/serotonin-3d-gnn/requirements.txt (line 16)) (4.55.8)\n",
            "Requirement already satisfied: frozenlist==1.5.0 in ./.venv/lib/python3.11/site-packages (from -r /Users/paul/My Drive/Repositories/serotonin-3d-gnn/requirements.txt (line 17)) (1.5.0)\n",
            "Requirement already satisfied: fsspec==2025.2.0 in ./.venv/lib/python3.11/site-packages (from -r /Users/paul/My Drive/Repositories/serotonin-3d-gnn/requirements.txt (line 18)) (2025.2.0)\n",
            "Requirement already satisfied: idna==3.10 in ./.venv/lib/python3.11/site-packages (from -r /Users/paul/My Drive/Repositories/serotonin-3d-gnn/requirements.txt (line 19)) (3.10)\n",
            "Requirement already satisfied: ipykernel==6.29.5 in ./.venv/lib/python3.11/site-packages (from -r /Users/paul/My Drive/Repositories/serotonin-3d-gnn/requirements.txt (line 20)) (6.29.5)\n",
            "Requirement already satisfied: ipython==8.32.0 in ./.venv/lib/python3.11/site-packages (from -r /Users/paul/My Drive/Repositories/serotonin-3d-gnn/requirements.txt (line 21)) (8.32.0)\n",
            "Requirement already satisfied: jedi==0.19.2 in ./.venv/lib/python3.11/site-packages (from -r /Users/paul/My Drive/Repositories/serotonin-3d-gnn/requirements.txt (line 22)) (0.19.2)\n",
            "Requirement already satisfied: Jinja2==3.1.5 in ./.venv/lib/python3.11/site-packages (from -r /Users/paul/My Drive/Repositories/serotonin-3d-gnn/requirements.txt (line 23)) (3.1.5)\n",
            "Requirement already satisfied: jupyter_client==8.6.3 in ./.venv/lib/python3.11/site-packages (from -r /Users/paul/My Drive/Repositories/serotonin-3d-gnn/requirements.txt (line 24)) (8.6.3)\n",
            "Requirement already satisfied: jupyter_core==5.7.2 in ./.venv/lib/python3.11/site-packages (from -r /Users/paul/My Drive/Repositories/serotonin-3d-gnn/requirements.txt (line 25)) (5.7.2)\n",
            "Requirement already satisfied: kiwisolver==1.4.8 in ./.venv/lib/python3.11/site-packages (from -r /Users/paul/My Drive/Repositories/serotonin-3d-gnn/requirements.txt (line 26)) (1.4.8)\n",
            "Requirement already satisfied: MarkupSafe==3.0.2 in ./.venv/lib/python3.11/site-packages (from -r /Users/paul/My Drive/Repositories/serotonin-3d-gnn/requirements.txt (line 27)) (3.0.2)\n",
            "Requirement already satisfied: matplotlib==3.10.0 in ./.venv/lib/python3.11/site-packages (from -r /Users/paul/My Drive/Repositories/serotonin-3d-gnn/requirements.txt (line 28)) (3.10.0)\n",
            "Requirement already satisfied: matplotlib-inline==0.1.7 in ./.venv/lib/python3.11/site-packages (from -r /Users/paul/My Drive/Repositories/serotonin-3d-gnn/requirements.txt (line 29)) (0.1.7)\n",
            "Requirement already satisfied: mpmath==1.3.0 in ./.venv/lib/python3.11/site-packages (from -r /Users/paul/My Drive/Repositories/serotonin-3d-gnn/requirements.txt (line 30)) (1.3.0)\n",
            "Requirement already satisfied: multidict==6.1.0 in ./.venv/lib/python3.11/site-packages (from -r /Users/paul/My Drive/Repositories/serotonin-3d-gnn/requirements.txt (line 31)) (6.1.0)\n",
            "Requirement already satisfied: nest-asyncio==1.6.0 in ./.venv/lib/python3.11/site-packages (from -r /Users/paul/My Drive/Repositories/serotonin-3d-gnn/requirements.txt (line 32)) (1.6.0)\n",
            "Requirement already satisfied: networkx==3.4.2 in ./.venv/lib/python3.11/site-packages (from -r /Users/paul/My Drive/Repositories/serotonin-3d-gnn/requirements.txt (line 33)) (3.4.2)\n",
            "Requirement already satisfied: numpy==2.2.2 in ./.venv/lib/python3.11/site-packages (from -r /Users/paul/My Drive/Repositories/serotonin-3d-gnn/requirements.txt (line 34)) (2.2.2)\n",
            "Requirement already satisfied: packaging==24.2 in ./.venv/lib/python3.11/site-packages (from -r /Users/paul/My Drive/Repositories/serotonin-3d-gnn/requirements.txt (line 35)) (24.2)\n",
            "Requirement already satisfied: pandas==2.2.3 in ./.venv/lib/python3.11/site-packages (from -r /Users/paul/My Drive/Repositories/serotonin-3d-gnn/requirements.txt (line 36)) (2.2.3)\n",
            "Requirement already satisfied: parso==0.8.4 in ./.venv/lib/python3.11/site-packages (from -r /Users/paul/My Drive/Repositories/serotonin-3d-gnn/requirements.txt (line 37)) (0.8.4)\n",
            "Requirement already satisfied: pexpect==4.9.0 in ./.venv/lib/python3.11/site-packages (from -r /Users/paul/My Drive/Repositories/serotonin-3d-gnn/requirements.txt (line 38)) (4.9.0)\n",
            "Requirement already satisfied: pillow==11.1.0 in ./.venv/lib/python3.11/site-packages (from -r /Users/paul/My Drive/Repositories/serotonin-3d-gnn/requirements.txt (line 39)) (11.1.0)\n",
            "Requirement already satisfied: platformdirs==4.3.6 in ./.venv/lib/python3.11/site-packages (from -r /Users/paul/My Drive/Repositories/serotonin-3d-gnn/requirements.txt (line 40)) (4.3.6)\n",
            "Requirement already satisfied: prompt_toolkit==3.0.50 in ./.venv/lib/python3.11/site-packages (from -r /Users/paul/My Drive/Repositories/serotonin-3d-gnn/requirements.txt (line 41)) (3.0.50)\n",
            "Requirement already satisfied: propcache==0.2.1 in ./.venv/lib/python3.11/site-packages (from -r /Users/paul/My Drive/Repositories/serotonin-3d-gnn/requirements.txt (line 42)) (0.2.1)\n",
            "Requirement already satisfied: psutil==6.1.1 in ./.venv/lib/python3.11/site-packages (from -r /Users/paul/My Drive/Repositories/serotonin-3d-gnn/requirements.txt (line 43)) (6.1.1)\n",
            "Requirement already satisfied: ptyprocess==0.7.0 in ./.venv/lib/python3.11/site-packages (from -r /Users/paul/My Drive/Repositories/serotonin-3d-gnn/requirements.txt (line 44)) (0.7.0)\n",
            "Requirement already satisfied: pure_eval==0.2.3 in ./.venv/lib/python3.11/site-packages (from -r /Users/paul/My Drive/Repositories/serotonin-3d-gnn/requirements.txt (line 45)) (0.2.3)\n",
            "Requirement already satisfied: Pygments==2.19.1 in ./.venv/lib/python3.11/site-packages (from -r /Users/paul/My Drive/Repositories/serotonin-3d-gnn/requirements.txt (line 46)) (2.19.1)\n",
            "Requirement already satisfied: pyparsing==3.2.1 in ./.venv/lib/python3.11/site-packages (from -r /Users/paul/My Drive/Repositories/serotonin-3d-gnn/requirements.txt (line 47)) (3.2.1)\n",
            "Requirement already satisfied: python-dateutil==2.9.0.post0 in ./.venv/lib/python3.11/site-packages (from -r /Users/paul/My Drive/Repositories/serotonin-3d-gnn/requirements.txt (line 48)) (2.9.0.post0)\n",
            "Requirement already satisfied: pytz==2025.1 in ./.venv/lib/python3.11/site-packages (from -r /Users/paul/My Drive/Repositories/serotonin-3d-gnn/requirements.txt (line 49)) (2025.1)\n",
            "Requirement already satisfied: pyzmq==26.2.1 in ./.venv/lib/python3.11/site-packages (from -r /Users/paul/My Drive/Repositories/serotonin-3d-gnn/requirements.txt (line 50)) (26.2.1)\n",
            "Requirement already satisfied: rdkit-pypi==2022.9.5 in ./.venv/lib/python3.11/site-packages (from -r /Users/paul/My Drive/Repositories/serotonin-3d-gnn/requirements.txt (line 51)) (2022.9.5)\n",
            "Requirement already satisfied: requests==2.32.3 in ./.venv/lib/python3.11/site-packages (from -r /Users/paul/My Drive/Repositories/serotonin-3d-gnn/requirements.txt (line 52)) (2.32.3)\n",
            "Requirement already satisfied: six==1.17.0 in ./.venv/lib/python3.11/site-packages (from -r /Users/paul/My Drive/Repositories/serotonin-3d-gnn/requirements.txt (line 53)) (1.17.0)\n",
            "Requirement already satisfied: stack-data==0.6.3 in ./.venv/lib/python3.11/site-packages (from -r /Users/paul/My Drive/Repositories/serotonin-3d-gnn/requirements.txt (line 54)) (0.6.3)\n",
            "Requirement already satisfied: sympy==1.13.1 in ./.venv/lib/python3.11/site-packages (from -r /Users/paul/My Drive/Repositories/serotonin-3d-gnn/requirements.txt (line 55)) (1.13.1)\n",
            "Requirement already satisfied: torch==2.6.0 in ./.venv/lib/python3.11/site-packages (from -r /Users/paul/My Drive/Repositories/serotonin-3d-gnn/requirements.txt (line 56)) (2.6.0)\n",
            "Requirement already satisfied: torch-geometric==2.6.1 in ./.venv/lib/python3.11/site-packages (from -r /Users/paul/My Drive/Repositories/serotonin-3d-gnn/requirements.txt (line 57)) (2.6.1)\n",
            "Requirement already satisfied: tornado==6.4.2 in ./.venv/lib/python3.11/site-packages (from -r /Users/paul/My Drive/Repositories/serotonin-3d-gnn/requirements.txt (line 58)) (6.4.2)\n",
            "Requirement already satisfied: tqdm==4.67.1 in ./.venv/lib/python3.11/site-packages (from -r /Users/paul/My Drive/Repositories/serotonin-3d-gnn/requirements.txt (line 59)) (4.67.1)\n",
            "Requirement already satisfied: traitlets==5.14.3 in ./.venv/lib/python3.11/site-packages (from -r /Users/paul/My Drive/Repositories/serotonin-3d-gnn/requirements.txt (line 60)) (5.14.3)\n",
            "Requirement already satisfied: typing_extensions==4.12.2 in ./.venv/lib/python3.11/site-packages (from -r /Users/paul/My Drive/Repositories/serotonin-3d-gnn/requirements.txt (line 61)) (4.12.2)\n",
            "Requirement already satisfied: tzdata==2025.1 in ./.venv/lib/python3.11/site-packages (from -r /Users/paul/My Drive/Repositories/serotonin-3d-gnn/requirements.txt (line 62)) (2025.1)\n",
            "Requirement already satisfied: urllib3==2.3.0 in ./.venv/lib/python3.11/site-packages (from -r /Users/paul/My Drive/Repositories/serotonin-3d-gnn/requirements.txt (line 63)) (2.3.0)\n",
            "Requirement already satisfied: wcwidth==0.2.13 in ./.venv/lib/python3.11/site-packages (from -r /Users/paul/My Drive/Repositories/serotonin-3d-gnn/requirements.txt (line 64)) (0.2.13)\n",
            "Requirement already satisfied: yarl==1.18.3 in ./.venv/lib/python3.11/site-packages (from -r /Users/paul/My Drive/Repositories/serotonin-3d-gnn/requirements.txt (line 65)) (1.18.3)\n",
            "Note: you may need to restart the kernel to use updated packages.\n"
          ]
        }
      ],
      "source": [
        "%pip install -r \"$PATH_REPO/requirements.txt\""
      ]
    },
    {
      "cell_type": "markdown",
      "metadata": {
        "id": "gpNxNxd3UG04"
      },
      "source": [
        "## Imports\n"
      ]
    },
    {
      "cell_type": "code",
      "execution_count": 4,
      "metadata": {
        "colab": {
          "base_uri": "https://localhost:8080/",
          "height": 349
        },
        "id": "6qaxG6KzSQbs",
        "outputId": "9bd00a18-1e7b-4bff-88fe-3c2a797ec6f7"
      },
      "outputs": [],
      "source": [
        "import os\n",
        "import pandas as pd\n",
        "import pickle\n",
        "from rdkit import Chem\n",
        "from rdkit.Chem import AllChem\n",
        "import shutil\n",
        "import torch\n",
        "from torch_geometric.data import Data\n",
        "from torch_geometric.loader import DataLoader"
      ]
    },
    {
      "cell_type": "markdown",
      "metadata": {
        "id": "d0AtFuskQrkU"
      },
      "source": [
        "## Utils\n"
      ]
    },
    {
      "cell_type": "markdown",
      "metadata": {
        "id": "nyOFFWimQtGD"
      },
      "source": [
        "### Syncing this file between Colab and local Git repo\n"
      ]
    },
    {
      "cell_type": "markdown",
      "metadata": {
        "id": "P7qVn7CnR7FK"
      },
      "source": [
        "Make sure the paths exist.\n"
      ]
    },
    {
      "cell_type": "code",
      "execution_count": 5,
      "metadata": {
        "colab": {
          "base_uri": "https://localhost:8080/"
        },
        "id": "-AEKpQQaQ5U4",
        "outputId": "3616a8c4-0786-48f3-a11e-8ffc77ea24a7"
      },
      "outputs": [],
      "source": [
        "if IN_COLAB:\n",
        "    shutil.copyfile(PATH_NOTEBOOK, PATH_REPO / \"serotonin-3d-gnn.ipynb\")\n",
        "else:\n",
        "    shutil.copyfile(PATH_REPO / \"serotonin-3d-gnn.ipynb\", PATH_NOTEBOOK)"
      ]
    },
    {
      "cell_type": "markdown",
      "metadata": {
        "id": "q7iFshPsYhff"
      },
      "source": [
        "## Data\n"
      ]
    },
    {
      "cell_type": "markdown",
      "metadata": {
        "id": "eDQ9MbtCNEAb"
      },
      "source": [
        "### Note on Data Aquisition from chembl_35.db\n",
        "\n",
        "In order to collect the desired data from the ChEMBL SQL database and transform it into a .csv file, I undertook the steps detailed in `data/README.md`.\n"
      ]
    },
    {
      "cell_type": "markdown",
      "metadata": {
        "id": "WEEdENl6NzpP"
      },
      "source": [
        "### Loading the Data\n"
      ]
    },
    {
      "cell_type": "markdown",
      "metadata": {},
      "source": [
        "If the pickled torch_data_list already exists, load it.\n"
      ]
    },
    {
      "cell_type": "code",
      "execution_count": 6,
      "metadata": {},
      "outputs": [
        {
          "name": "stdout",
          "output_type": "stream",
          "text": [
            "Loaded torch_data_list from pickle file\n"
          ]
        }
      ],
      "source": [
        "pickle_file_path = PATH_DATA / \"torch_data_list.pkl\"\n",
        "\n",
        "if os.path.exists(pickle_file_path):\n",
        "    torch_data_list = pickle.load(open(pickle_file_path, \"rb\"))\n",
        "    print(\"Loaded torch_data_list from pickle file\")\n",
        "else:\n",
        "    print(\"Creating torch_data_list from scratch\")"
      ]
    },
    {
      "cell_type": "markdown",
      "metadata": {},
      "source": [
        "#### Load dataframe from .csv file\n"
      ]
    },
    {
      "cell_type": "code",
      "execution_count": 7,
      "metadata": {
        "colab": {
          "base_uri": "https://localhost:8080/",
          "height": 419
        },
        "id": "jFqLTK45YijM",
        "outputId": "5a15327a-3620-4a74-b2e2-8ce319066d61"
      },
      "outputs": [
        {
          "data": {
            "text/html": [
              "<div>\n",
              "<style scoped>\n",
              "    .dataframe tbody tr th:only-of-type {\n",
              "        vertical-align: middle;\n",
              "    }\n",
              "\n",
              "    .dataframe tbody tr th {\n",
              "        vertical-align: top;\n",
              "    }\n",
              "\n",
              "    .dataframe thead th {\n",
              "        text-align: right;\n",
              "    }\n",
              "</style>\n",
              "<table border=\"1\" class=\"dataframe\">\n",
              "  <thead>\n",
              "    <tr style=\"text-align: right;\">\n",
              "      <th></th>\n",
              "      <th>molecule_id</th>\n",
              "      <th>Serotonin (5-HT) receptor</th>\n",
              "      <th>Serotonin 1 (5-HT1) receptor</th>\n",
              "      <th>Serotonin 1 receptors; 5-HT1B &amp; 5-HT1D</th>\n",
              "      <th>Serotonin 1a (5-HT1a) receptor</th>\n",
              "      <th>Serotonin 1b (5-HT1b) receptor</th>\n",
              "      <th>Serotonin 1d (5-HT1d) receptor</th>\n",
              "      <th>Serotonin 1e (5-HT1e) receptor</th>\n",
              "      <th>Serotonin 1f (5-HT1f) receptor</th>\n",
              "      <th>Serotonin 2 (5-HT2) receptor</th>\n",
              "      <th>...</th>\n",
              "      <th>Serotonin 2b (5-HT2b) receptor</th>\n",
              "      <th>Serotonin 2c (5-HT2c) receptor</th>\n",
              "      <th>Serotonin 3 (5-HT3) receptor</th>\n",
              "      <th>Serotonin 3a (5-HT3a) receptor</th>\n",
              "      <th>Serotonin 3b (5-HT3b) receptor</th>\n",
              "      <th>Serotonin 4 (5-HT4) receptor</th>\n",
              "      <th>Serotonin 5a (5-HT5a) receptor</th>\n",
              "      <th>Serotonin 5b (5-HT5b) receptor</th>\n",
              "      <th>Serotonin 6 (5-HT6) receptor</th>\n",
              "      <th>Serotonin 7 (5-HT7) receptor</th>\n",
              "    </tr>\n",
              "  </thead>\n",
              "  <tbody>\n",
              "    <tr>\n",
              "      <th>count</th>\n",
              "      <td>2.345600e+04</td>\n",
              "      <td>90.000000</td>\n",
              "      <td>252.000000</td>\n",
              "      <td>1.0</td>\n",
              "      <td>9462.000000</td>\n",
              "      <td>1492.000000</td>\n",
              "      <td>1472.000000</td>\n",
              "      <td>91.000000</td>\n",
              "      <td>127.000000</td>\n",
              "      <td>1469.000000</td>\n",
              "      <td>...</td>\n",
              "      <td>2337.000000</td>\n",
              "      <td>4343.000000</td>\n",
              "      <td>939.000000</td>\n",
              "      <td>1040.000000</td>\n",
              "      <td>8.000000</td>\n",
              "      <td>1009.000000</td>\n",
              "      <td>422.000000</td>\n",
              "      <td>1.00</td>\n",
              "      <td>4221.000000</td>\n",
              "      <td>3100.000000</td>\n",
              "    </tr>\n",
              "    <tr>\n",
              "      <th>mean</th>\n",
              "      <td>1.003325e+06</td>\n",
              "      <td>6.081759</td>\n",
              "      <td>6.683902</td>\n",
              "      <td>6.2</td>\n",
              "      <td>7.258523</td>\n",
              "      <td>6.952528</td>\n",
              "      <td>7.554968</td>\n",
              "      <td>5.791172</td>\n",
              "      <td>7.458423</td>\n",
              "      <td>7.053201</td>\n",
              "      <td>...</td>\n",
              "      <td>6.603829</td>\n",
              "      <td>6.810210</td>\n",
              "      <td>7.625768</td>\n",
              "      <td>7.047520</td>\n",
              "      <td>7.203500</td>\n",
              "      <td>7.645809</td>\n",
              "      <td>6.573801</td>\n",
              "      <td>7.17</td>\n",
              "      <td>7.311171</td>\n",
              "      <td>6.977487</td>\n",
              "    </tr>\n",
              "    <tr>\n",
              "      <th>std</th>\n",
              "      <td>8.986583e+05</td>\n",
              "      <td>0.926906</td>\n",
              "      <td>1.104283</td>\n",
              "      <td>NaN</td>\n",
              "      <td>1.152004</td>\n",
              "      <td>1.226482</td>\n",
              "      <td>1.365880</td>\n",
              "      <td>0.652239</td>\n",
              "      <td>0.859240</td>\n",
              "      <td>1.159567</td>\n",
              "      <td>...</td>\n",
              "      <td>0.981462</td>\n",
              "      <td>1.032874</td>\n",
              "      <td>1.225942</td>\n",
              "      <td>1.535413</td>\n",
              "      <td>1.735342</td>\n",
              "      <td>1.179482</td>\n",
              "      <td>1.089819</td>\n",
              "      <td>NaN</td>\n",
              "      <td>1.143388</td>\n",
              "      <td>1.016128</td>\n",
              "    </tr>\n",
              "    <tr>\n",
              "      <th>min</th>\n",
              "      <td>9.700000e+01</td>\n",
              "      <td>4.390000</td>\n",
              "      <td>4.100000</td>\n",
              "      <td>6.2</td>\n",
              "      <td>4.000000</td>\n",
              "      <td>4.000000</td>\n",
              "      <td>4.000000</td>\n",
              "      <td>4.800000</td>\n",
              "      <td>5.140000</td>\n",
              "      <td>4.030000</td>\n",
              "      <td>...</td>\n",
              "      <td>4.190000</td>\n",
              "      <td>4.000000</td>\n",
              "      <td>4.010000</td>\n",
              "      <td>4.000000</td>\n",
              "      <td>5.460000</td>\n",
              "      <td>5.000000</td>\n",
              "      <td>4.070000</td>\n",
              "      <td>7.17</td>\n",
              "      <td>4.120000</td>\n",
              "      <td>4.000000</td>\n",
              "    </tr>\n",
              "    <tr>\n",
              "      <th>25%</th>\n",
              "      <td>2.291570e+05</td>\n",
              "      <td>5.385000</td>\n",
              "      <td>5.800000</td>\n",
              "      <td>6.2</td>\n",
              "      <td>6.480000</td>\n",
              "      <td>6.050000</td>\n",
              "      <td>6.470000</td>\n",
              "      <td>5.360000</td>\n",
              "      <td>7.000000</td>\n",
              "      <td>6.240000</td>\n",
              "      <td>...</td>\n",
              "      <td>5.900000</td>\n",
              "      <td>6.050000</td>\n",
              "      <td>6.800000</td>\n",
              "      <td>5.700000</td>\n",
              "      <td>5.490000</td>\n",
              "      <td>6.810000</td>\n",
              "      <td>5.800000</td>\n",
              "      <td>7.17</td>\n",
              "      <td>6.470000</td>\n",
              "      <td>6.285000</td>\n",
              "    </tr>\n",
              "    <tr>\n",
              "      <th>50%</th>\n",
              "      <td>5.757615e+05</td>\n",
              "      <td>5.925000</td>\n",
              "      <td>6.600000</td>\n",
              "      <td>6.2</td>\n",
              "      <td>7.280000</td>\n",
              "      <td>6.850000</td>\n",
              "      <td>7.640000</td>\n",
              "      <td>5.730000</td>\n",
              "      <td>7.720000</td>\n",
              "      <td>6.920000</td>\n",
              "      <td>...</td>\n",
              "      <td>6.523333</td>\n",
              "      <td>6.740000</td>\n",
              "      <td>7.700000</td>\n",
              "      <td>7.185000</td>\n",
              "      <td>7.015000</td>\n",
              "      <td>7.640000</td>\n",
              "      <td>6.390000</td>\n",
              "      <td>7.17</td>\n",
              "      <td>7.360000</td>\n",
              "      <td>6.990000</td>\n",
              "    </tr>\n",
              "    <tr>\n",
              "      <th>75%</th>\n",
              "      <td>1.965967e+06</td>\n",
              "      <td>6.657500</td>\n",
              "      <td>7.585000</td>\n",
              "      <td>6.2</td>\n",
              "      <td>8.060000</td>\n",
              "      <td>7.850000</td>\n",
              "      <td>8.700000</td>\n",
              "      <td>6.175000</td>\n",
              "      <td>8.020000</td>\n",
              "      <td>8.000000</td>\n",
              "      <td>...</td>\n",
              "      <td>7.210000</td>\n",
              "      <td>7.512500</td>\n",
              "      <td>8.580000</td>\n",
              "      <td>8.410000</td>\n",
              "      <td>8.393500</td>\n",
              "      <td>8.400000</td>\n",
              "      <td>7.068750</td>\n",
              "      <td>7.17</td>\n",
              "      <td>8.110000</td>\n",
              "      <td>7.700000</td>\n",
              "    </tr>\n",
              "    <tr>\n",
              "      <th>max</th>\n",
              "      <td>2.881244e+06</td>\n",
              "      <td>9.800000</td>\n",
              "      <td>9.300000</td>\n",
              "      <td>6.2</td>\n",
              "      <td>11.000000</td>\n",
              "      <td>10.000000</td>\n",
              "      <td>10.700000</td>\n",
              "      <td>8.200000</td>\n",
              "      <td>8.800000</td>\n",
              "      <td>10.300000</td>\n",
              "      <td>...</td>\n",
              "      <td>10.100000</td>\n",
              "      <td>10.700000</td>\n",
              "      <td>10.420000</td>\n",
              "      <td>10.400000</td>\n",
              "      <td>9.604000</td>\n",
              "      <td>10.800000</td>\n",
              "      <td>9.170000</td>\n",
              "      <td>7.17</td>\n",
              "      <td>10.400000</td>\n",
              "      <td>10.000000</td>\n",
              "    </tr>\n",
              "  </tbody>\n",
              "</table>\n",
              "<p>8 rows × 22 columns</p>\n",
              "</div>"
            ],
            "text/plain": [
              "        molecule_id  Serotonin (5-HT) receptor  Serotonin 1 (5-HT1) receptor  \\\n",
              "count  2.345600e+04                  90.000000                    252.000000   \n",
              "mean   1.003325e+06                   6.081759                      6.683902   \n",
              "std    8.986583e+05                   0.926906                      1.104283   \n",
              "min    9.700000e+01                   4.390000                      4.100000   \n",
              "25%    2.291570e+05                   5.385000                      5.800000   \n",
              "50%    5.757615e+05                   5.925000                      6.600000   \n",
              "75%    1.965967e+06                   6.657500                      7.585000   \n",
              "max    2.881244e+06                   9.800000                      9.300000   \n",
              "\n",
              "       Serotonin 1 receptors; 5-HT1B & 5-HT1D  Serotonin 1a (5-HT1a) receptor  \\\n",
              "count                                     1.0                     9462.000000   \n",
              "mean                                      6.2                        7.258523   \n",
              "std                                       NaN                        1.152004   \n",
              "min                                       6.2                        4.000000   \n",
              "25%                                       6.2                        6.480000   \n",
              "50%                                       6.2                        7.280000   \n",
              "75%                                       6.2                        8.060000   \n",
              "max                                       6.2                       11.000000   \n",
              "\n",
              "       Serotonin 1b (5-HT1b) receptor  Serotonin 1d (5-HT1d) receptor  \\\n",
              "count                     1492.000000                     1472.000000   \n",
              "mean                         6.952528                        7.554968   \n",
              "std                          1.226482                        1.365880   \n",
              "min                          4.000000                        4.000000   \n",
              "25%                          6.050000                        6.470000   \n",
              "50%                          6.850000                        7.640000   \n",
              "75%                          7.850000                        8.700000   \n",
              "max                         10.000000                       10.700000   \n",
              "\n",
              "       Serotonin 1e (5-HT1e) receptor  Serotonin 1f (5-HT1f) receptor  \\\n",
              "count                       91.000000                      127.000000   \n",
              "mean                         5.791172                        7.458423   \n",
              "std                          0.652239                        0.859240   \n",
              "min                          4.800000                        5.140000   \n",
              "25%                          5.360000                        7.000000   \n",
              "50%                          5.730000                        7.720000   \n",
              "75%                          6.175000                        8.020000   \n",
              "max                          8.200000                        8.800000   \n",
              "\n",
              "       Serotonin 2 (5-HT2) receptor  ...  Serotonin 2b (5-HT2b) receptor  \\\n",
              "count                   1469.000000  ...                     2337.000000   \n",
              "mean                       7.053201  ...                        6.603829   \n",
              "std                        1.159567  ...                        0.981462   \n",
              "min                        4.030000  ...                        4.190000   \n",
              "25%                        6.240000  ...                        5.900000   \n",
              "50%                        6.920000  ...                        6.523333   \n",
              "75%                        8.000000  ...                        7.210000   \n",
              "max                       10.300000  ...                       10.100000   \n",
              "\n",
              "       Serotonin 2c (5-HT2c) receptor  Serotonin 3 (5-HT3) receptor  \\\n",
              "count                     4343.000000                    939.000000   \n",
              "mean                         6.810210                      7.625768   \n",
              "std                          1.032874                      1.225942   \n",
              "min                          4.000000                      4.010000   \n",
              "25%                          6.050000                      6.800000   \n",
              "50%                          6.740000                      7.700000   \n",
              "75%                          7.512500                      8.580000   \n",
              "max                         10.700000                     10.420000   \n",
              "\n",
              "       Serotonin 3a (5-HT3a) receptor  Serotonin 3b (5-HT3b) receptor  \\\n",
              "count                     1040.000000                        8.000000   \n",
              "mean                         7.047520                        7.203500   \n",
              "std                          1.535413                        1.735342   \n",
              "min                          4.000000                        5.460000   \n",
              "25%                          5.700000                        5.490000   \n",
              "50%                          7.185000                        7.015000   \n",
              "75%                          8.410000                        8.393500   \n",
              "max                         10.400000                        9.604000   \n",
              "\n",
              "       Serotonin 4 (5-HT4) receptor  Serotonin 5a (5-HT5a) receptor  \\\n",
              "count                   1009.000000                      422.000000   \n",
              "mean                       7.645809                        6.573801   \n",
              "std                        1.179482                        1.089819   \n",
              "min                        5.000000                        4.070000   \n",
              "25%                        6.810000                        5.800000   \n",
              "50%                        7.640000                        6.390000   \n",
              "75%                        8.400000                        7.068750   \n",
              "max                       10.800000                        9.170000   \n",
              "\n",
              "       Serotonin 5b (5-HT5b) receptor  Serotonin 6 (5-HT6) receptor  \\\n",
              "count                            1.00                   4221.000000   \n",
              "mean                             7.17                      7.311171   \n",
              "std                               NaN                      1.143388   \n",
              "min                              7.17                      4.120000   \n",
              "25%                              7.17                      6.470000   \n",
              "50%                              7.17                      7.360000   \n",
              "75%                              7.17                      8.110000   \n",
              "max                              7.17                     10.400000   \n",
              "\n",
              "       Serotonin 7 (5-HT7) receptor  \n",
              "count                   3100.000000  \n",
              "mean                       6.977487  \n",
              "std                        1.016128  \n",
              "min                        4.000000  \n",
              "25%                        6.285000  \n",
              "50%                        6.990000  \n",
              "75%                        7.700000  \n",
              "max                       10.000000  \n",
              "\n",
              "[8 rows x 22 columns]"
            ]
          },
          "execution_count": 7,
          "metadata": {},
          "output_type": "execute_result"
        }
      ],
      "source": [
        "# if df is None:\n",
        "df = pd.read_csv(PATH_DATA / \"serotonin_binding_summary.csv\")\n",
        "\n",
        "df.describe()"
      ]
    },
    {
      "cell_type": "code",
      "execution_count": 8,
      "metadata": {},
      "outputs": [
        {
          "name": "stdout",
          "output_type": "stream",
          "text": [
            "Number of targets: 21\n",
            "Boolean mask: tensor([False, False, False,  True, False, False, False, False, False, False,\n",
            "        False, False, False, False, False, False, False, False, False, False,\n",
            "        False])\n",
            "Included targets (1): tensor([3])\n"
          ]
        }
      ],
      "source": [
        "df_targets = df.drop(columns=[\"molecule_id\", \"canonical_smiles\"])\n",
        "print(f\"Number of targets: {len(df_targets.columns)}\")\n",
        "\n",
        "# compute non-nan counts per column and create a boolean mask to filter targets to contain at least n_threshold non-nan values\n",
        "n_threshold = 9000\n",
        "non_nan_counts = torch.tensor(df_targets.notna().sum().values, dtype=torch.long)\n",
        "mask = non_nan_counts >= n_threshold\n",
        "valid_column_indices = torch.nonzero(mask, as_tuple=True)[0]\n",
        "\n",
        "print(\"Boolean mask:\", mask)\n",
        "print(f\"Included targets ({len(valid_column_indices)}):\", valid_column_indices)"
      ]
    },
    {
      "cell_type": "code",
      "execution_count": null,
      "metadata": {
        "colab": {
          "base_uri": "https://localhost:8080/",
          "height": 443
        },
        "id": "63VicadqVXW3",
        "outputId": "a2fdd631-c9ad-4974-faeb-59190376c726"
      },
      "outputs": [],
      "source": [
        "def create_torch_data(smiles: str, targets: torch.Tensor) -> Data:\n",
        "    # getting RDKit molecule object\n",
        "    mol = Chem.MolFromSmiles(smiles)\n",
        "\n",
        "    if mol is None:\n",
        "        return None\n",
        "\n",
        "    # add explicit hydrogen atoms to the molecule (are not included in the SMILES string) so that its 3D structure is complete\n",
        "    mol = Chem.AddHs(mol)\n",
        "\n",
        "    # EmbedMolecule positions atoms of mol in 3D space stochastically; if it fails (returning -1) return None\n",
        "    if AllChem.EmbedMolecule(mol, randomSeed=42) == -1:\n",
        "        return None\n",
        "\n",
        "    # optimize the 3D structure using Universal Force Field (UFF) to lower mol's energy\n",
        "    AllChem.UFFOptimizeMolecule(mol)\n",
        "\n",
        "    # conformer contains 3D coordinates for mol's atoms\n",
        "    conformer = mol.GetConformer()\n",
        "\n",
        "    # atom-level features and 3D positions\n",
        "    atom_features, positions = [], []\n",
        "    for atom in mol.GetAtoms():\n",
        "        features = [\n",
        "            atom.GetAtomicNum(),  # atomic number: uid of element (e.g., 6 for carbon, 8 for oxygen)\n",
        "            atom.GetDegree(),  # degree: number of bonds connecting the atom\n",
        "            atom.GetFormalCharge(),  # formal charge: atom's electrical charge\n",
        "            int(\n",
        "                atom.GetHybridization()\n",
        "            ),  # hybridization: type of atom's orbital hybridization (e.g., sp, sp2) as int\n",
        "        ]\n",
        "        atom_features.append(features)\n",
        "\n",
        "        # 3D coordinates of atom from conformer\n",
        "        pos = conformer.GetAtomPosition(atom.GetIdx())\n",
        "        positions.append([pos.x, pos.y, pos.z])\n",
        "\n",
        "    # transform to PyTorch tensors\n",
        "    x = torch.tensor(atom_features, dtype=torch.float)\n",
        "    pos = torch.tensor(positions, dtype=torch.float)\n",
        "\n",
        "    # bonds between atoms – indices of connected atoms as well as types and conjugation\n",
        "    edge_index, edge_attr = [], []\n",
        "    for bond in mol.GetBonds():\n",
        "        # indices of bonded atoms\n",
        "        i, j = bond.GetBeginAtomIdx(), bond.GetEndAtomIdx()\n",
        "\n",
        "        bond_feat = [\n",
        "            bond.GetBondTypeAsDouble(),  # bond type as float (e.g., 1.0 for single, 2.0 for double bonds)\n",
        "            (\n",
        "                1.0 if bond.GetIsConjugated() else 0.0\n",
        "            ),  # conjugation flag indicating whether the bond is conjugated (1.0 if true, else 0.0) (conjugated means that electrons are delocalized, moving freely between multiple atoms)\n",
        "        ]\n",
        "        # for undirected graph, add bond in both directions\n",
        "        edge_index += [[i, j], [j, i]]\n",
        "        edge_attr += [bond_feat, bond_feat]\n",
        "\n",
        "    # transform to PyTorch tensors\n",
        "    # edge_index tensor is transposed to fit torch_geometric's expected shape (2, number_of_edges).\n",
        "    edge_index = torch.tensor(edge_index, dtype=torch.long).t().contiguous()\n",
        "    edge_attr = torch.tensor(edge_attr, dtype=torch.float)\n",
        "\n",
        "    # graph as PyTorch Geometric Data object\n",
        "    # x: atom features, [atomic number, degree, formal charge, hybridization]\n",
        "    # pos: 3D positions of atoms, [x, y, z]\n",
        "    # edge_index: connectivity indices between atoms, [[i, j], [j, i]]\n",
        "    # edge_attr: features per bond, [[bond type, conjugation], [bond type, conjugation]]\n",
        "    return Data(x=x, pos=pos, edge_index=edge_index, edge_attr=edge_attr, y=targets)"
      ]
    },
    {
      "cell_type": "code",
      "execution_count": null,
      "metadata": {
        "id": "cBUAn2jhnfYr"
      },
      "outputs": [],
      "source": [
        "torch_data_list = [\n",
        "    create_torch_data(\n",
        "        row[\"canonical_smiles\"],\n",
        "        torch.tensor(df_targets.loc[row.name].values, dtype=torch.float),\n",
        "    )\n",
        "    for _, row in df.iterrows()\n",
        "]"
      ]
    },
    {
      "cell_type": "code",
      "execution_count": null,
      "metadata": {},
      "outputs": [
        {
          "name": "stdout",
          "output_type": "stream",
          "text": [
            "Saved torch_data_list to /Users/paul/My Drive/Repositories/serotonin-3d-gnn/data/torch_data_list.pkl\n"
          ]
        }
      ],
      "source": [
        "pickle_file_path = PATH_DATA / \"torch_data_list.pkl\"\n",
        "\n",
        "with open(pickle_file_path, \"wb\") as f:\n",
        "    pickle.dump(torch_data_list, f)\n",
        "\n",
        "print(f\"Saved torch_data_list to {pickle_file_path}\")"
      ]
    },
    {
      "cell_type": "markdown",
      "metadata": {},
      "source": [
        "Create training and test sets.\n"
      ]
    },
    {
      "cell_type": "code",
      "execution_count": 27,
      "metadata": {},
      "outputs": [
        {
          "name": "stdout",
          "output_type": "stream",
          "text": [
            "Number of items in filtered_torch_data_list: 23439 / 23456\n",
            "filtered_torch_data_list[0]: Data(x=[49, 4], edge_index=[2, 104], edge_attr=[104, 2], y=[21], pos=[49, 3])\n",
            "Number of items in new_filtered_torch_data_list: 9460 / 23439\n",
            "# training batches: 237\n",
            "# test batches: 60\n",
            "Example data point: Data(x=[54, 4], edge_index=[2, 114], edge_attr=[114, 2], y=[1], pos=[54, 3])\n"
          ]
        }
      ],
      "source": [
        "filtered_torch_data_list = [d.clone() for d in torch_data_list if d is not None]\n",
        "print(\n",
        "    f\"Number of items in filtered_torch_data_list: {len(filtered_torch_data_list)} / {len(torch_data_list)}\"\n",
        ")  # still retaining original torch_data_list for reference to df later\n",
        "print(f\"filtered_torch_data_list[0]: {filtered_torch_data_list[0]}\")\n",
        "\n",
        "new_filtered_torch_data_list = []\n",
        "\n",
        "# only include targets with at least n_threshold non-nan values\n",
        "for d in filtered_torch_data_list:\n",
        "    d.y = d.y[valid_column_indices]\n",
        "    if not torch.isnan(d.y).all():\n",
        "        new_filtered_torch_data_list.append(d)\n",
        "\n",
        "print(\n",
        "    f\"Number of items in new_filtered_torch_data_list: {len(new_filtered_torch_data_list)} / {len(filtered_torch_data_list)}\"\n",
        ")\n",
        "filtered_torch_data_list = new_filtered_torch_data_list\n",
        "\n",
        "split_idx = int(0.8 * len(filtered_torch_data_list))\n",
        "\n",
        "data_graph_train = DataLoader(\n",
        "    filtered_torch_data_list[:split_idx], batch_size=32, shuffle=True\n",
        ")\n",
        "data_graph_test = DataLoader(\n",
        "    filtered_torch_data_list[split_idx:], batch_size=32, shuffle=False\n",
        ")\n",
        "\n",
        "print(\n",
        "    f\"# training batches: {len(data_graph_train)}\\n# test batches: {len(data_graph_test)}\"\n",
        ")\n",
        "print(f\"Example data point: {filtered_torch_data_list[190]}\")"
      ]
    },
    {
      "cell_type": "markdown",
      "metadata": {},
      "source": [
        "## Models\n"
      ]
    },
    {
      "cell_type": "markdown",
      "metadata": {},
      "source": [
        "### Model 1: PyTorch Implementation of a 3D GCN\n",
        "\n",
        "In this section, a 3D graph convolutional network is created using PyTorch. The model takes as input a 3D molecular graph and outputs predictions of the serotonergic binding affinity of the molecule.\n",
        "\n",
        "Information about the graph input the model will receive and process:\n",
        "\n",
        "-   The feature matrix H contains the node (atom) features. Each row corresponds to a node, and each column corresponds to a feature.\n",
        "-   The adjacency matrix A is built from the edge_index tensor, which contains the indices of the edges in the graph. The matrix A is built under the hood of the GCNConv class.\n"
      ]
    },
    {
      "cell_type": "markdown",
      "metadata": {},
      "source": [
        "#### Model Architecture\n"
      ]
    },
    {
      "cell_type": "code",
      "execution_count": 10,
      "metadata": {},
      "outputs": [],
      "source": [
        "from torch_geometric.nn import NNConv, GCNConv, global_mean_pool\n",
        "from torch.nn import Linear\n",
        "import torch.nn.functional as F\n",
        "\n",
        "\n",
        "class SeroGCN(torch.nn.Module):\n",
        "    def __init__(self, n_in, n_hidden, n_out, n_edge_attr):\n",
        "        super(SeroGCN, self).__init__()\n",
        "\n",
        "        edge_network = torch.nn.Sequential(\n",
        "            torch.nn.Linear(n_edge_attr, n_hidden * n_in),\n",
        "            torch.nn.ReLU(),\n",
        "            torch.nn.Linear(n_hidden * n_in, n_hidden * n_in),\n",
        "        )\n",
        "\n",
        "        self.pos_lin = Linear(3, n_in)  # simple positional encoding layer\n",
        "\n",
        "        self.conv1 = NNConv(n_in, n_hidden, edge_network, aggr=\"mean\")\n",
        "        self.conv2 = GCNConv(n_hidden, n_hidden)\n",
        "\n",
        "        self.fc = Linear(n_hidden, n_out)\n",
        "\n",
        "    def forward(self, mol_batch) -> torch.Tensor:\n",
        "        x, pos, edge_index, edge_attr = (\n",
        "            mol_batch.x,\n",
        "            mol_batch.pos,\n",
        "            mol_batch.edge_index,\n",
        "            mol_batch.edge_attr,\n",
        "        )\n",
        "\n",
        "        pos_feat = self.pos_lin(pos)\n",
        "        x = x + pos_feat  # simple positional encoding\n",
        "\n",
        "        x = self.conv1(x, edge_index, edge_attr)\n",
        "        x = F.relu(x)\n",
        "\n",
        "        x = self.conv2(x, edge_index)\n",
        "        x = F.relu(x)\n",
        "\n",
        "        x = global_mean_pool(\n",
        "            x, mol_batch.batch\n",
        "        )  # global mean pooling aggregates node features, returning a single graph-level vectorial representation\n",
        "\n",
        "        x = self.fc(x)\n",
        "\n",
        "        return x"
      ]
    },
    {
      "cell_type": "markdown",
      "metadata": {},
      "source": [
        "### Model 2: Pretrained 3D GNN (...)\n"
      ]
    },
    {
      "cell_type": "code",
      "execution_count": null,
      "metadata": {},
      "outputs": [],
      "source": []
    },
    {
      "cell_type": "markdown",
      "metadata": {},
      "source": [
        "## Training\n"
      ]
    },
    {
      "cell_type": "code",
      "execution_count": 11,
      "metadata": {},
      "outputs": [
        {
          "name": "stdout",
          "output_type": "stream",
          "text": [
            "Using MPS\n"
          ]
        }
      ],
      "source": [
        "if torch.cuda.is_available():\n",
        "    print(\"Using CUDA\")\n",
        "    device = torch.device(\"cuda\")\n",
        "elif torch.backends.mps.is_available():\n",
        "    print(\"Using MPS\")\n",
        "    device = torch.device(\"mps\")\n",
        "else:\n",
        "    print(\"Using CPU\")\n",
        "    device = torch.device(\"cpu\")"
      ]
    },
    {
      "cell_type": "code",
      "execution_count": 12,
      "metadata": {},
      "outputs": [
        {
          "name": "stdout",
          "output_type": "stream",
          "text": [
            "Node features: 4, targets: 1, edge attributes: 2\n"
          ]
        }
      ],
      "source": [
        "epochs = 10\n",
        "n_hidden = 32\n",
        "\n",
        "n_in = data_graph_train.dataset[0].num_features\n",
        "n_out = len(valid_column_indices)\n",
        "n_edge_attr = data_graph_train.dataset[0].edge_attr.shape[1]\n",
        "\n",
        "print(f\"Node features: {n_in}, targets: {n_out}, edge attributes: {n_edge_attr}\")"
      ]
    },
    {
      "cell_type": "code",
      "execution_count": 13,
      "metadata": {},
      "outputs": [],
      "source": [
        "def masked_mse_loss(pred, target):\n",
        "    # mask of non-nan targets\n",
        "    mask = ~torch.isnan(target)\n",
        "    if mask.sum() == 0:\n",
        "        # return 0 loss, so that it doesn't affect the gradient\n",
        "        return torch.tensor(0.0, requires_grad=True, device=target.device)\n",
        "    # squared error for entries that are valid\n",
        "    loss = (pred[mask] - target[mask]) ** 2\n",
        "    return loss.mean()"
      ]
    },
    {
      "cell_type": "code",
      "execution_count": 21,
      "metadata": {},
      "outputs": [],
      "source": [
        "import time\n",
        "\n",
        "\n",
        "def train(\n",
        "    model: torch.nn.Module, data_loader: DataLoader, optimizer: torch.optim.Optimizer\n",
        "):\n",
        "    model.train()\n",
        "    for epoch in range(epochs):\n",
        "        for data in data_loader:\n",
        "            print(data.y)\n",
        "            data = data.to(device)\n",
        "            optimizer.zero_grad()\n",
        "            out = model(data)\n",
        "            # masked loss to ignore nans\n",
        "            start_time = time.now()\n",
        "            loss = masked_mse_loss(out, data.y.view(-1, n_out))\n",
        "            total_time = time.now() - start_time\n",
        "            print(f\"Time taken for loss calculation: {total_time}\")\n",
        "            loss.backward()\n",
        "            optimizer.step()\n",
        "\n",
        "        print(f\"Epoch {epoch+1}: Loss = {loss.item()}\")"
      ]
    },
    {
      "cell_type": "code",
      "execution_count": 22,
      "metadata": {},
      "outputs": [],
      "source": [
        "sero_gcn = SeroGCN(\n",
        "    n_in=n_in, n_hidden=n_hidden, n_out=n_out, n_edge_attr=n_edge_attr\n",
        ").to(device)\n",
        "sero_gcn_optimizer = torch.optim.Adam(sero_gcn.parameters(), lr=0.01)\n",
        "# sero_gcn_criterion = torch.nn.MSELoss()"
      ]
    },
    {
      "cell_type": "code",
      "execution_count": 23,
      "metadata": {},
      "outputs": [
        {
          "name": "stdout",
          "output_type": "stream",
          "text": [
            "tensor([   nan,    nan,    nan, 7.4000,    nan,    nan,    nan,    nan,    nan,\n",
            "        6.3500,    nan, 8.7600,    nan, 5.0800, 8.4600,    nan,    nan,    nan,\n",
            "           nan, 8.7700,    nan, 5.1800, 6.5100,    nan, 5.6600,    nan,    nan,\n",
            "        5.7173,    nan, 8.7000,    nan,    nan])\n"
          ]
        },
        {
          "ename": "AttributeError",
          "evalue": "module 'time' has no attribute 'now'",
          "output_type": "error",
          "traceback": [
            "\u001b[0;31m---------------------------------------------------------------------------\u001b[0m",
            "\u001b[0;31mAttributeError\u001b[0m                            Traceback (most recent call last)",
            "Cell \u001b[0;32mIn[23], line 1\u001b[0m\n\u001b[0;32m----> 1\u001b[0m \u001b[43mtrain\u001b[49m\u001b[43m(\u001b[49m\u001b[43msero_gcn\u001b[49m\u001b[43m,\u001b[49m\u001b[43m \u001b[49m\u001b[43mdata_graph_train\u001b[49m\u001b[43m,\u001b[49m\u001b[43m \u001b[49m\u001b[43msero_gcn_optimizer\u001b[49m\u001b[43m)\u001b[49m\n",
            "Cell \u001b[0;32mIn[21], line 15\u001b[0m, in \u001b[0;36mtrain\u001b[0;34m(model, data_loader, optimizer)\u001b[0m\n\u001b[1;32m     13\u001b[0m out \u001b[38;5;241m=\u001b[39m model(data)\n\u001b[1;32m     14\u001b[0m \u001b[38;5;66;03m# masked loss to ignore nans\u001b[39;00m\n\u001b[0;32m---> 15\u001b[0m start_time \u001b[38;5;241m=\u001b[39m \u001b[43mtime\u001b[49m\u001b[38;5;241;43m.\u001b[39;49m\u001b[43mnow\u001b[49m()\n\u001b[1;32m     16\u001b[0m loss \u001b[38;5;241m=\u001b[39m masked_mse_loss(out, data\u001b[38;5;241m.\u001b[39my\u001b[38;5;241m.\u001b[39mview(\u001b[38;5;241m-\u001b[39m\u001b[38;5;241m1\u001b[39m, n_out))\n\u001b[1;32m     17\u001b[0m total_time \u001b[38;5;241m=\u001b[39m time\u001b[38;5;241m.\u001b[39mnow() \u001b[38;5;241m-\u001b[39m start_time\n",
            "\u001b[0;31mAttributeError\u001b[0m: module 'time' has no attribute 'now'"
          ]
        }
      ],
      "source": [
        "train(sero_gcn, data_graph_train, sero_gcn_optimizer)"
      ]
    }
  ],
  "metadata": {
    "colab": {
      "provenance": []
    },
    "kernelspec": {
      "display_name": ".venv",
      "language": "python",
      "name": "python3"
    },
    "language_info": {
      "codemirror_mode": {
        "name": "ipython",
        "version": 3
      },
      "file_extension": ".py",
      "mimetype": "text/x-python",
      "name": "python",
      "nbconvert_exporter": "python",
      "pygments_lexer": "ipython3",
      "version": "3.11.5"
    }
  },
  "nbformat": 4,
  "nbformat_minor": 0
}
