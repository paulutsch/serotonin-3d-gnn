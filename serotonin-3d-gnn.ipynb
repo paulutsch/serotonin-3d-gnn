{
 "cells": [
  {
   "cell_type": "markdown",
   "metadata": {
    "id": "6jiKdt3EYQ6d"
   },
   "source": [
    "# Serotonin 3D GNN Project\n"
   ]
  },
  {
   "cell_type": "markdown",
   "metadata": {
    "id": "gswc-LH5YWga"
   },
   "source": [
    "This project builds upon research done by Łapińska et al. (2024): https://doi.org/10.3390/pharmaceutics16030349\n",
    "\n",
    "Data used: https://ftp.ebi.ac.uk/pub/databases/chembl/ChEMBLdb/releases/chembl_35/\n",
    "\n",
    "Move the unpacked chembl_35_sqlite.tar.gz file into the data/ dir.\n",
    "\n",
    "The research linked above presents two Quantitative Structure-Activity Relationship (QSAR) models to predict serotonergic binding affinity and selectivity, respectively, using Mordred molecular 2D descriptors. Specifically, one model classifies compounds binarily as \"active\" or \"inactive\", with a cutoff of pKi = 7. Another model does multiclass classification to predict the serotonergic selectivity of compounds previously classified as \"active\".\n",
    "\n",
    "I am following a similar approach, but using 3D molecular graph representations instead of 2D molecular descriptors as input modality and using only the ChEMBL database, not ZINC.\n"
   ]
  },
  {
   "cell_type": "markdown",
   "metadata": {
    "id": "xGK0LMuRYC6g"
   },
   "source": [
    "---\n",
    "\n",
    "## Setup\n"
   ]
  },
  {
   "cell_type": "markdown",
   "metadata": {
    "id": "ugvkdqJgYMum"
   },
   "source": [
    "### Configuration & Google Drive/Colab Sync\n"
   ]
  },
  {
   "cell_type": "code",
   "execution_count": 1,
   "metadata": {
    "colab": {
     "base_uri": "https://localhost:8080/"
    },
    "executionInfo": {
     "elapsed": 26308,
     "status": "ok",
     "timestamp": 1740843537391,
     "user": {
      "displayName": "Paul Utsch",
      "userId": "03470855315435454824"
     },
     "user_tz": -60
    },
    "id": "q2XchrWsWuIk",
    "outputId": "b9401ce7-35c4-453a-bfe0-9660263add1b"
   },
   "outputs": [
    {
     "name": "stdout",
     "output_type": "stream",
     "text": [
      "Running locally\n"
     ]
    }
   ],
   "source": [
    "from pathlib import Path\n",
    "\n",
    "try:\n",
    "    from google.colab import drive\n",
    "\n",
    "    drive.mount(\"/content/drive\")\n",
    "    IN_COLAB = True\n",
    "except:\n",
    "    IN_COLAB = False\n",
    "\n",
    "print(f\"{'Running in Colab' if IN_COLAB else 'Running locally'}\")\n",
    "\n",
    "PATH_NOTEBOOK = (\n",
    "    Path(\"/content/drive/MyDrive/Colab Notebooks/serotonin-3d-gnn.ipynb\")\n",
    "    if IN_COLAB\n",
    "    else Path(\n",
    "        \"/Users/paul/Library/CloudStorage/GoogleDrive-unoutsch@gmail.com/My Drive/Colab Notebooks/serotonin-3d-gnn.ipynb\"\n",
    "    )\n",
    ")\n",
    "PATH_REPO = (\n",
    "    Path(\"/content/drive/MyDrive/Repositories/serotonin-3d-gnn\")\n",
    "    if IN_COLAB\n",
    "    else Path.cwd()\n",
    ")\n",
    "PATH_DATA = PATH_REPO / \"data_fixed\"\n",
    "PATH_WEIGHTS = PATH_REPO / \"weights\""
   ]
  },
  {
   "cell_type": "markdown",
   "metadata": {
    "id": "ko5Es7NyYw7W"
   },
   "source": [
    "### Installing Requirements\n"
   ]
  },
  {
   "cell_type": "code",
   "execution_count": 2,
   "metadata": {
    "colab": {
     "base_uri": "https://localhost:8080/"
    },
    "executionInfo": {
     "elapsed": 93450,
     "status": "ok",
     "timestamp": 1740843631183,
     "user": {
      "displayName": "Paul Utsch",
      "userId": "03470855315435454824"
     },
     "user_tz": -60
    },
    "id": "sPtfbBFEYwKR",
    "outputId": "c172c072-cca4-413c-97df-26eb14398f98"
   },
   "outputs": [
    {
     "name": "stdout",
     "output_type": "stream",
     "text": [
      "Requirement already satisfied: matplotlib in ./.venv/lib/python3.13/site-packages (from -r /Users/paul/My Drive/Repositories/serotonin-3d-gnn/requirements.txt (line 1)) (3.10.0)\n",
      "Requirement already satisfied: numpy in ./.venv/lib/python3.13/site-packages (from -r /Users/paul/My Drive/Repositories/serotonin-3d-gnn/requirements.txt (line 2)) (2.2.3)\n",
      "Requirement already satisfied: pandas in ./.venv/lib/python3.13/site-packages (from -r /Users/paul/My Drive/Repositories/serotonin-3d-gnn/requirements.txt (line 3)) (2.2.3)\n",
      "Requirement already satisfied: rdkit in ./.venv/lib/python3.13/site-packages (from -r /Users/paul/My Drive/Repositories/serotonin-3d-gnn/requirements.txt (line 4)) (2024.9.5)\n",
      "Requirement already satisfied: scipy in ./.venv/lib/python3.13/site-packages (from -r /Users/paul/My Drive/Repositories/serotonin-3d-gnn/requirements.txt (line 5)) (1.15.2)\n",
      "Requirement already satisfied: scikit-learn in ./.venv/lib/python3.13/site-packages (from -r /Users/paul/My Drive/Repositories/serotonin-3d-gnn/requirements.txt (line 6)) (1.6.1)\n",
      "Requirement already satisfied: torch in ./.venv/lib/python3.13/site-packages (from -r /Users/paul/My Drive/Repositories/serotonin-3d-gnn/requirements.txt (line 7)) (2.6.0)\n",
      "Requirement already satisfied: torch-geometric in ./.venv/lib/python3.13/site-packages (from -r /Users/paul/My Drive/Repositories/serotonin-3d-gnn/requirements.txt (line 8)) (2.6.1)\n",
      "Requirement already satisfied: contourpy>=1.0.1 in ./.venv/lib/python3.13/site-packages (from matplotlib->-r /Users/paul/My Drive/Repositories/serotonin-3d-gnn/requirements.txt (line 1)) (1.3.1)\n",
      "Requirement already satisfied: cycler>=0.10 in ./.venv/lib/python3.13/site-packages (from matplotlib->-r /Users/paul/My Drive/Repositories/serotonin-3d-gnn/requirements.txt (line 1)) (0.12.1)\n",
      "Requirement already satisfied: fonttools>=4.22.0 in ./.venv/lib/python3.13/site-packages (from matplotlib->-r /Users/paul/My Drive/Repositories/serotonin-3d-gnn/requirements.txt (line 1)) (4.56.0)\n",
      "Requirement already satisfied: kiwisolver>=1.3.1 in ./.venv/lib/python3.13/site-packages (from matplotlib->-r /Users/paul/My Drive/Repositories/serotonin-3d-gnn/requirements.txt (line 1)) (1.4.8)\n",
      "Requirement already satisfied: packaging>=20.0 in ./.venv/lib/python3.13/site-packages (from matplotlib->-r /Users/paul/My Drive/Repositories/serotonin-3d-gnn/requirements.txt (line 1)) (24.2)\n",
      "Requirement already satisfied: pillow>=8 in ./.venv/lib/python3.13/site-packages (from matplotlib->-r /Users/paul/My Drive/Repositories/serotonin-3d-gnn/requirements.txt (line 1)) (11.1.0)\n",
      "Requirement already satisfied: pyparsing>=2.3.1 in ./.venv/lib/python3.13/site-packages (from matplotlib->-r /Users/paul/My Drive/Repositories/serotonin-3d-gnn/requirements.txt (line 1)) (3.2.1)\n",
      "Requirement already satisfied: python-dateutil>=2.7 in ./.venv/lib/python3.13/site-packages (from matplotlib->-r /Users/paul/My Drive/Repositories/serotonin-3d-gnn/requirements.txt (line 1)) (2.9.0.post0)\n",
      "Requirement already satisfied: pytz>=2020.1 in ./.venv/lib/python3.13/site-packages (from pandas->-r /Users/paul/My Drive/Repositories/serotonin-3d-gnn/requirements.txt (line 3)) (2025.1)\n",
      "Requirement already satisfied: tzdata>=2022.7 in ./.venv/lib/python3.13/site-packages (from pandas->-r /Users/paul/My Drive/Repositories/serotonin-3d-gnn/requirements.txt (line 3)) (2025.1)\n",
      "Requirement already satisfied: joblib>=1.2.0 in ./.venv/lib/python3.13/site-packages (from scikit-learn->-r /Users/paul/My Drive/Repositories/serotonin-3d-gnn/requirements.txt (line 6)) (1.4.2)\n",
      "Requirement already satisfied: threadpoolctl>=3.1.0 in ./.venv/lib/python3.13/site-packages (from scikit-learn->-r /Users/paul/My Drive/Repositories/serotonin-3d-gnn/requirements.txt (line 6)) (3.5.0)\n",
      "Requirement already satisfied: filelock in ./.venv/lib/python3.13/site-packages (from torch->-r /Users/paul/My Drive/Repositories/serotonin-3d-gnn/requirements.txt (line 7)) (3.17.0)\n",
      "Requirement already satisfied: typing-extensions>=4.10.0 in ./.venv/lib/python3.13/site-packages (from torch->-r /Users/paul/My Drive/Repositories/serotonin-3d-gnn/requirements.txt (line 7)) (4.12.2)\n",
      "Requirement already satisfied: networkx in ./.venv/lib/python3.13/site-packages (from torch->-r /Users/paul/My Drive/Repositories/serotonin-3d-gnn/requirements.txt (line 7)) (3.4.2)\n",
      "Requirement already satisfied: jinja2 in ./.venv/lib/python3.13/site-packages (from torch->-r /Users/paul/My Drive/Repositories/serotonin-3d-gnn/requirements.txt (line 7)) (3.1.5)\n",
      "Requirement already satisfied: fsspec in ./.venv/lib/python3.13/site-packages (from torch->-r /Users/paul/My Drive/Repositories/serotonin-3d-gnn/requirements.txt (line 7)) (2025.2.0)\n",
      "Requirement already satisfied: setuptools in ./.venv/lib/python3.13/site-packages (from torch->-r /Users/paul/My Drive/Repositories/serotonin-3d-gnn/requirements.txt (line 7)) (75.8.0)\n",
      "Requirement already satisfied: sympy==1.13.1 in ./.venv/lib/python3.13/site-packages (from torch->-r /Users/paul/My Drive/Repositories/serotonin-3d-gnn/requirements.txt (line 7)) (1.13.1)\n",
      "Requirement already satisfied: mpmath<1.4,>=1.1.0 in ./.venv/lib/python3.13/site-packages (from sympy==1.13.1->torch->-r /Users/paul/My Drive/Repositories/serotonin-3d-gnn/requirements.txt (line 7)) (1.3.0)\n",
      "Requirement already satisfied: aiohttp in ./.venv/lib/python3.13/site-packages (from torch-geometric->-r /Users/paul/My Drive/Repositories/serotonin-3d-gnn/requirements.txt (line 8)) (3.11.12)\n",
      "Requirement already satisfied: psutil>=5.8.0 in ./.venv/lib/python3.13/site-packages (from torch-geometric->-r /Users/paul/My Drive/Repositories/serotonin-3d-gnn/requirements.txt (line 8)) (7.0.0)\n",
      "Requirement already satisfied: requests in ./.venv/lib/python3.13/site-packages (from torch-geometric->-r /Users/paul/My Drive/Repositories/serotonin-3d-gnn/requirements.txt (line 8)) (2.32.3)\n",
      "Requirement already satisfied: tqdm in ./.venv/lib/python3.13/site-packages (from torch-geometric->-r /Users/paul/My Drive/Repositories/serotonin-3d-gnn/requirements.txt (line 8)) (4.67.1)\n",
      "Requirement already satisfied: six>=1.5 in ./.venv/lib/python3.13/site-packages (from python-dateutil>=2.7->matplotlib->-r /Users/paul/My Drive/Repositories/serotonin-3d-gnn/requirements.txt (line 1)) (1.17.0)\n",
      "Requirement already satisfied: aiohappyeyeballs>=2.3.0 in ./.venv/lib/python3.13/site-packages (from aiohttp->torch-geometric->-r /Users/paul/My Drive/Repositories/serotonin-3d-gnn/requirements.txt (line 8)) (2.4.6)\n",
      "Requirement already satisfied: aiosignal>=1.1.2 in ./.venv/lib/python3.13/site-packages (from aiohttp->torch-geometric->-r /Users/paul/My Drive/Repositories/serotonin-3d-gnn/requirements.txt (line 8)) (1.3.2)\n",
      "Requirement already satisfied: attrs>=17.3.0 in ./.venv/lib/python3.13/site-packages (from aiohttp->torch-geometric->-r /Users/paul/My Drive/Repositories/serotonin-3d-gnn/requirements.txt (line 8)) (25.1.0)\n",
      "Requirement already satisfied: frozenlist>=1.1.1 in ./.venv/lib/python3.13/site-packages (from aiohttp->torch-geometric->-r /Users/paul/My Drive/Repositories/serotonin-3d-gnn/requirements.txt (line 8)) (1.5.0)\n",
      "Requirement already satisfied: multidict<7.0,>=4.5 in ./.venv/lib/python3.13/site-packages (from aiohttp->torch-geometric->-r /Users/paul/My Drive/Repositories/serotonin-3d-gnn/requirements.txt (line 8)) (6.1.0)\n",
      "Requirement already satisfied: propcache>=0.2.0 in ./.venv/lib/python3.13/site-packages (from aiohttp->torch-geometric->-r /Users/paul/My Drive/Repositories/serotonin-3d-gnn/requirements.txt (line 8)) (0.2.1)\n",
      "Requirement already satisfied: yarl<2.0,>=1.17.0 in ./.venv/lib/python3.13/site-packages (from aiohttp->torch-geometric->-r /Users/paul/My Drive/Repositories/serotonin-3d-gnn/requirements.txt (line 8)) (1.18.3)\n",
      "Requirement already satisfied: MarkupSafe>=2.0 in ./.venv/lib/python3.13/site-packages (from jinja2->torch->-r /Users/paul/My Drive/Repositories/serotonin-3d-gnn/requirements.txt (line 7)) (3.0.2)\n",
      "Requirement already satisfied: charset-normalizer<4,>=2 in ./.venv/lib/python3.13/site-packages (from requests->torch-geometric->-r /Users/paul/My Drive/Repositories/serotonin-3d-gnn/requirements.txt (line 8)) (3.4.1)\n",
      "Requirement already satisfied: idna<4,>=2.5 in ./.venv/lib/python3.13/site-packages (from requests->torch-geometric->-r /Users/paul/My Drive/Repositories/serotonin-3d-gnn/requirements.txt (line 8)) (3.10)\n",
      "Requirement already satisfied: urllib3<3,>=1.21.1 in ./.venv/lib/python3.13/site-packages (from requests->torch-geometric->-r /Users/paul/My Drive/Repositories/serotonin-3d-gnn/requirements.txt (line 8)) (2.3.0)\n",
      "Requirement already satisfied: certifi>=2017.4.17 in ./.venv/lib/python3.13/site-packages (from requests->torch-geometric->-r /Users/paul/My Drive/Repositories/serotonin-3d-gnn/requirements.txt (line 8)) (2025.1.31)\n",
      "Note: you may need to restart the kernel to use updated packages.\n"
     ]
    }
   ],
   "source": [
    "%pip install --requirement \"$PATH_REPO/requirements.txt\""
   ]
  },
  {
   "cell_type": "markdown",
   "metadata": {
    "id": "gpNxNxd3UG04"
   },
   "source": [
    "### Imports\n"
   ]
  },
  {
   "cell_type": "code",
   "execution_count": 2,
   "metadata": {
    "executionInfo": {
     "elapsed": 25567,
     "status": "ok",
     "timestamp": 1740843656763,
     "user": {
      "displayName": "Paul Utsch",
      "userId": "03470855315435454824"
     },
     "user_tz": -60
    },
    "id": "6qaxG6KzSQbs"
   },
   "outputs": [],
   "source": [
    "import os\n",
    "import sys\n",
    "import time\n",
    "import json\n",
    "from glob import glob\n",
    "\n",
    "import matplotlib.pyplot as plt\n",
    "import numpy as np\n",
    "import pandas as pd\n",
    "import pickle\n",
    "from rdkit import Chem\n",
    "from rdkit.Chem import AllChem, rdchem, Descriptors, rdMolDescriptors, rdMolTransforms\n",
    "import shutil\n",
    "import torch\n",
    "from torch_geometric.data import Data\n",
    "from torch_geometric.loader import DataLoader"
   ]
  },
  {
   "cell_type": "markdown",
   "metadata": {
    "id": "nyOFFWimQtGD"
   },
   "source": [
    "### Syncing this file between Colab and local Git repo\n"
   ]
  },
  {
   "cell_type": "markdown",
   "metadata": {
    "id": "P7qVn7CnR7FK"
   },
   "source": [
    "Make sure the paths exist.\n"
   ]
  },
  {
   "cell_type": "code",
   "execution_count": 4,
   "metadata": {
    "colab": {
     "base_uri": "https://localhost:8080/"
    },
    "executionInfo": {
     "elapsed": 1326,
     "status": "ok",
     "timestamp": 1740830095025,
     "user": {
      "displayName": "Paul Utsch",
      "userId": "03470855315435454824"
     },
     "user_tz": -60
    },
    "id": "-AEKpQQaQ5U4",
    "outputId": "11b7fa39-b306-42ea-ddde-d4e55844bc95"
   },
   "outputs": [
    {
     "name": "stdout",
     "output_type": "stream",
     "text": [
      "Copied notebook to Google Drive.\n"
     ]
    }
   ],
   "source": [
    "def copy_notebook():\n",
    "    if IN_COLAB:\n",
    "        shutil.copyfile(PATH_NOTEBOOK, PATH_REPO / \"serotonin-3d-gnn.ipynb\")\n",
    "        print(\"Copied notebook to repo.\")\n",
    "    else:\n",
    "        shutil.copyfile(PATH_REPO / \"serotonin-3d-gnn.ipynb\", PATH_NOTEBOOK)\n",
    "        print(\"Copied notebook to Google Drive.\")\n",
    "\n",
    "\n",
    "copy_notebook()"
   ]
  },
  {
   "cell_type": "markdown",
   "metadata": {
    "id": "yxQZohBJhQoT"
   },
   "source": [
    "### Setting Torch Device\n"
   ]
  },
  {
   "cell_type": "code",
   "execution_count": 3,
   "metadata": {
    "colab": {
     "base_uri": "https://localhost:8080/"
    },
    "executionInfo": {
     "elapsed": 32,
     "status": "ok",
     "timestamp": 1740843656797,
     "user": {
      "displayName": "Paul Utsch",
      "userId": "03470855315435454824"
     },
     "user_tz": -60
    },
    "id": "YXkqUkBKhQoT",
    "outputId": "e65451db-cb27-4d56-a09d-3138c8bee6e4"
   },
   "outputs": [
    {
     "name": "stdout",
     "output_type": "stream",
     "text": [
      "Using MPS\n"
     ]
    }
   ],
   "source": [
    "if torch.cuda.is_available():\n",
    "    print(\"Using CUDA\")\n",
    "    device = torch.device(\"cuda\")\n",
    "elif torch.backends.mps.is_available():\n",
    "    print(\"Using MPS\")\n",
    "    device = torch.device(\"mps\")\n",
    "else:\n",
    "    print(\"Using CPU\")\n",
    "    device = torch.device(\"cpu\")"
   ]
  },
  {
   "cell_type": "markdown",
   "metadata": {
    "id": "q7iFshPsYhff"
   },
   "source": [
    "---\n",
    "\n",
    "## Data Preprocessing\n"
   ]
  },
  {
   "cell_type": "markdown",
   "metadata": {
    "id": "WEEdENl6NzpP"
   },
   "source": [
    "### Loading and Preprocessing Serotonin Data\n"
   ]
  },
  {
   "cell_type": "markdown",
   "metadata": {
    "id": "i-wRU6qqhQoU"
   },
   "source": [
    "If the pickled torch_data_list already exists, load it.\n"
   ]
  },
  {
   "cell_type": "code",
   "execution_count": null,
   "metadata": {
    "colab": {
     "base_uri": "https://localhost:8080/",
     "height": 436
    },
    "executionInfo": {
     "elapsed": 25879,
     "status": "ok",
     "timestamp": 1740843682677,
     "user": {
      "displayName": "Paul Utsch",
      "userId": "03470855315435454824"
     },
     "user_tz": -60
    },
    "id": "1yBrNIjphQoU",
    "outputId": "d71c3c40-b4ea-4197-a1ec-d978533651e7"
   },
   "outputs": [
    {
     "name": "stdout",
     "output_type": "stream",
     "text": [
      "['/Users/paul/My Drive/Repositories/serotonin-3d-gnn/data_fixed/targets/serotonin_6_2799.csv', '/Users/paul/My Drive/Repositories/serotonin-3d-gnn/data_fixed/targets/serotonin_1d_481.csv', '/Users/paul/My Drive/Repositories/serotonin-3d-gnn/data_fixed/targets/serotonin_4_338.csv', '/Users/paul/My Drive/Repositories/serotonin-3d-gnn/data_fixed/targets/serotonin_7_2317.csv', '/Users/paul/My Drive/Repositories/serotonin-3d-gnn/data_fixed/targets/serotonin_1b_466.csv', '/Users/paul/My Drive/Repositories/serotonin-3d-gnn/data_fixed/targets/serotonin_2b_833.csv', '/Users/paul/My Drive/Repositories/serotonin-3d-gnn/data_fixed/targets/serotonin_1a_3086.csv', '/Users/paul/My Drive/Repositories/serotonin-3d-gnn/data_fixed/targets/serotonin_2a_2353.csv', '/Users/paul/My Drive/Repositories/serotonin-3d-gnn/data_fixed/targets/serotonin_2c_1385.csv']\n",
      "{'Serotonin 1a (5-HT1a) receptor': 0, 'Serotonin 1b (5-HT1b) receptor': 1, 'Serotonin 1d (5-HT1d) receptor': 2, 'Serotonin 2a (5-HT2a) receptor': 3, 'Serotonin 2b (5-HT2b) receptor': 4, 'Serotonin 2c (5-HT2c) receptor': 5, 'Serotonin 4 (5-HT4) receptor': 6, 'Serotonin 6 (5-HT6) receptor': 7, 'Serotonin 7 (5-HT7) receptor': 8}\n"
     ]
    },
    {
     "data": {
      "text/html": [
       "<div>\n",
       "<style scoped>\n",
       "    .dataframe tbody tr th:only-of-type {\n",
       "        vertical-align: middle;\n",
       "    }\n",
       "\n",
       "    .dataframe tbody tr th {\n",
       "        vertical-align: top;\n",
       "    }\n",
       "\n",
       "    .dataframe thead th {\n",
       "        text-align: right;\n",
       "    }\n",
       "</style>\n",
       "<table border=\"1\" class=\"dataframe\">\n",
       "  <thead>\n",
       "    <tr style=\"text-align: right;\">\n",
       "      <th></th>\n",
       "      <th>pchembl_value</th>\n",
       "      <th>target_id</th>\n",
       "    </tr>\n",
       "  </thead>\n",
       "  <tbody>\n",
       "    <tr>\n",
       "      <th>count</th>\n",
       "      <td>14058.000000</td>\n",
       "      <td>14058.000000</td>\n",
       "    </tr>\n",
       "    <tr>\n",
       "      <th>mean</th>\n",
       "      <td>7.319273</td>\n",
       "      <td>4.189856</td>\n",
       "    </tr>\n",
       "    <tr>\n",
       "      <th>std</th>\n",
       "      <td>1.167407</td>\n",
       "      <td>2.950111</td>\n",
       "    </tr>\n",
       "    <tr>\n",
       "      <th>min</th>\n",
       "      <td>4.000000</td>\n",
       "      <td>0.000000</td>\n",
       "    </tr>\n",
       "    <tr>\n",
       "      <th>25%</th>\n",
       "      <td>6.470000</td>\n",
       "      <td>1.000000</td>\n",
       "    </tr>\n",
       "    <tr>\n",
       "      <th>50%</th>\n",
       "      <td>7.300000</td>\n",
       "      <td>4.000000</td>\n",
       "    </tr>\n",
       "    <tr>\n",
       "      <th>75%</th>\n",
       "      <td>8.150000</td>\n",
       "      <td>7.000000</td>\n",
       "    </tr>\n",
       "    <tr>\n",
       "      <th>max</th>\n",
       "      <td>10.850000</td>\n",
       "      <td>8.000000</td>\n",
       "    </tr>\n",
       "  </tbody>\n",
       "</table>\n",
       "</div>"
      ],
      "text/plain": [
       "       pchembl_value     target_id\n",
       "count   14058.000000  14058.000000\n",
       "mean        7.319273      4.189856\n",
       "std         1.167407      2.950111\n",
       "min         4.000000      0.000000\n",
       "25%         6.470000      1.000000\n",
       "50%         7.300000      4.000000\n",
       "75%         8.150000      7.000000\n",
       "max        10.850000      8.000000"
      ]
     },
     "execution_count": 8,
     "metadata": {},
     "output_type": "execute_result"
    }
   ],
   "source": [
    "csv_files = glob(os.path.join(PATH_DATA / \"targets\" / \"*.csv\"))\n",
    "print(csv_files)\n",
    "\n",
    "data_list = []\n",
    "\n",
    "for file in csv_files:\n",
    "    df = pd.read_csv(\n",
    "        file, delimiter=\";\", usecols=[\"Smiles\", \"pChEMBL Value\", \"Target Name\"]\n",
    "    )\n",
    "    df.columns = [\"smiles\", \"pchembl_value\", \"target_name\"]\n",
    "    data_list.append(df)\n",
    "\n",
    "merged_df = pd.concat(data_list, ignore_index=True)\n",
    "merged_df[\"target_name\"] = merged_df[\"target_name\"].astype(\"category\")\n",
    "merged_df[\"target_id\"] = merged_df[\"target_name\"].cat.codes\n",
    "\n",
    "target_name_to_id = dict(zip(merged_df[\"target_name\"].cat.categories, range(len(merged_df[\"target_name\"].cat.categories))))\n",
    "target_id_to_name = {v: k for k, v in target_name_to_id.items()}\n",
    "print(target_name_to_id)\n",
    "\n",
    "merged_df.to_csv(os.path.join(PATH_DATA, \"merged_serotonin_data.csv\"), index=False)\n",
    "\n",
    "merged_df.describe()"
   ]
  },
  {
   "cell_type": "code",
   "execution_count": 9,
   "metadata": {},
   "outputs": [
    {
     "name": "stdout",
     "output_type": "stream",
     "text": [
      "Loading processed data...\n"
     ]
    }
   ],
   "source": [
    "pickle_file_path = os.path.join(PATH_DATA, \"merged_serotonin_data_processed.pkl\")\n",
    "\n",
    "if os.path.exists(pickle_file_path):\n",
    "    print(\"Loading processed data...\")\n",
    "    with open(pickle_file_path, \"rb\") as f:\n",
    "        merged_serotonin_data_processed = pickle.load(f)\n",
    "else:\n",
    "    merged_serotonin_data_processed = None\n",
    "    print(\"Will create new processed data.\")"
   ]
  },
  {
   "cell_type": "markdown",
   "metadata": {
    "id": "LQlehqYVhQoU"
   },
   "source": [
    "### Creating 3D Molecular Graph Data from Serotonin Data\n"
   ]
  },
  {
   "cell_type": "code",
   "execution_count": null,
   "metadata": {
    "executionInfo": {
     "elapsed": 90,
     "status": "ok",
     "timestamp": 1740843684888,
     "user": {
      "displayName": "Paul Utsch",
      "userId": "03470855315435454824"
     },
     "user_tz": -60
    },
    "id": "63VicadqVXW3"
   },
   "outputs": [
    {
     "name": "stdout",
     "output_type": "stream",
     "text": [
      "merged_serotonin_data_processed[0] Data(x=[65, 10], edge_index=[2, 136], edge_attr=[136, 5], y=6.619999885559082, pos=[65, 3], target_id=7, smiles='Cl.O=S1(=O)c2cccc3cccc(c23)N1CCCCCCN1CCN(c2cccc(Cl)c2Cl)CC1', mol_features=[1, 8])\n"
     ]
    }
   ],
   "source": [
    "periodic_table = rdchem.GetPeriodicTable()\n",
    "\n",
    "ATOM_PROPERTIES = {\n",
    "    atomic_num: [\n",
    "        periodic_table.GetAtomicWeight(atomic_num),\n",
    "        periodic_table.GetRvdw(atomic_num),\n",
    "        periodic_table.GetDefaultValence(atomic_num),\n",
    "    ]\n",
    "    for atomic_num in range(1, 119)  # all elements in periodic table\n",
    "}\n",
    "\n",
    "BOND_TYPES = [\n",
    "    Chem.rdchem.BondType.SINGLE,\n",
    "    Chem.rdchem.BondType.AROMATIC,\n",
    "    Chem.rdchem.BondType.DOUBLE,\n",
    "    Chem.rdchem.BondType.TRIPLE,\n",
    "]\n",
    "\n",
    "\n",
    "def create_torch_data(smiles: str, target_value: torch.Tensor, target_id) -> Data:\n",
    "    # getting RDKit molecule object\n",
    "    mol = Chem.MolFromSmiles(smiles)\n",
    "\n",
    "    if mol is None:\n",
    "        return None\n",
    "\n",
    "    # add explicit hydrogen atoms to the molecule (are not included in the SMILES string) so that its 3D structure is complete\n",
    "    mol = Chem.AddHs(mol)\n",
    "    Chem.SanitizeMol(mol)\n",
    "\n",
    "    # EmbedMolecule positions atoms of mol in 3D space stochastically; if it fails (returning -1) return None\n",
    "    if AllChem.EmbedMolecule(mol, randomSeed=42) == -1:\n",
    "        return None\n",
    "\n",
    "    # optimize the 3D structure using Universal Force Field (UFF) to lower mol's energy\n",
    "    status = AllChem.UFFOptimizeMolecule(mol)\n",
    "    if status == -1:\n",
    "        print(f\"UFF optimization failed for molecule: {smiles}\")\n",
    "        return None\n",
    "    AllChem.UFFOptimizeMolecule(mol)\n",
    "\n",
    "    # conformer contains 3D coordinates for mol's atoms\n",
    "    conformer = mol.GetConformer()\n",
    "\n",
    "    # molecule-level features\n",
    "    mol_features = [\n",
    "        Descriptors.ExactMolWt(mol),\n",
    "        Descriptors.MolLogP(mol),\n",
    "        Descriptors.TPSA(mol),\n",
    "        rdMolDescriptors.CalcNumAromaticRings(mol),\n",
    "        rdMolDescriptors.CalcNumBridgeheadAtoms(mol),\n",
    "        rdMolDescriptors.CalcNumRotatableBonds(mol),\n",
    "        rdMolDescriptors.CalcNumHBD(mol),\n",
    "        rdMolDescriptors.CalcNumHBA(mol),\n",
    "    ]\n",
    "\n",
    "    # atom-level features and 3D positions\n",
    "    atom_features, positions = [], []\n",
    "    for atom in mol.GetAtoms():\n",
    "        atomic_num = atom.GetAtomicNum()\n",
    "        atomic_mass, vdw_radius, valence = ATOM_PROPERTIES.get(\n",
    "            atomic_num, [0.0, 0.0, 0]\n",
    "        )\n",
    "\n",
    "        features = [\n",
    "            atomic_mass,\n",
    "            vdw_radius,\n",
    "            valence,\n",
    "            atom.GetFormalCharge(),\n",
    "            int(atom.GetIsAromatic()),\n",
    "            atom.GetDegree(),\n",
    "            int(atom.IsInRing()),\n",
    "        ] + [\n",
    "            1.0 if atom.GetHybridization() == h else 0.0\n",
    "            for h in (\n",
    "                Chem.rdchem.HybridizationType.SP,\n",
    "                Chem.rdchem.HybridizationType.SP2,\n",
    "                Chem.rdchem.HybridizationType.SP3,\n",
    "            )\n",
    "        ]\n",
    "\n",
    "        atom_features.append(features)\n",
    "\n",
    "        pos = conformer.GetAtomPosition(atom.GetIdx())\n",
    "        positions.append([pos.x, pos.y, pos.z])\n",
    "\n",
    "    # transform to PyTorch tensors\n",
    "    x = torch.tensor(atom_features, dtype=torch.float)\n",
    "    pos = torch.tensor(positions, dtype=torch.float)\n",
    "\n",
    "    # bonds between atoms – indices of connected atoms as well as types and conjugation\n",
    "    edge_index, edge_attr = [], []\n",
    "    for bond in mol.GetBonds():\n",
    "        # indices of bonded atoms\n",
    "        i, j = bond.GetBeginAtomIdx(), bond.GetEndAtomIdx()\n",
    "\n",
    "        # one-hot encode bond type\n",
    "        bond_type = bond.GetBondType()\n",
    "        bond_type_one_hot = [1.0 if bond_type == b else 0.0 for b in BOND_TYPES]\n",
    "\n",
    "        # is_conjugated = 1.0 if bond.GetIsConjugated() else 0.0\n",
    "        bond_length = rdMolTransforms.GetBondLength(conformer, i, j)\n",
    "\n",
    "        bond_feat = bond_type_one_hot + [bond_length]\n",
    "\n",
    "        # adding bond to both nodes\n",
    "        edge_index += [[i, j], [j, i]]\n",
    "        edge_attr += [bond_feat, bond_feat]\n",
    "\n",
    "    # transform to PyTorch tensors\n",
    "    # edge_index tensor is transposed to fit torch_geometric's expected shape (2, number_of_edges).\n",
    "    edge_index = torch.tensor(edge_index, dtype=torch.long).t().contiguous()\n",
    "    edge_attr = torch.tensor(edge_attr, dtype=torch.float)\n",
    "    mol_features = torch.tensor(mol_features, dtype=torch.float).unsqueeze(0)\n",
    "\n",
    "    # graph as PyTorch Geometric Data object\n",
    "    # x: atom features, [atomic number, degree, formal charge, hybridization]\n",
    "    # pos: 3D positions of atoms, [x, y, z]\n",
    "    # edge_index: connectivity indices between atoms, [[i, j], [j, i]]\n",
    "    # edge_attr: features per bond, [[bond type, conjugation], [bond type, conjugation]]\n",
    "    return Data(\n",
    "        x=x,\n",
    "        pos=pos,\n",
    "        edge_index=edge_index,\n",
    "        edge_attr=edge_attr,\n",
    "        y=target_value,\n",
    "        target_id=target_id,\n",
    "        smiles=smiles,\n",
    "        mol_features=mol_features,\n",
    "    )\n",
    "\n",
    "\n",
    "# if not merged_serotonin_data_processed:\n",
    "merged_serotonin_data_processed = []\n",
    "\n",
    "for i, row in enumerate(merged_df.itertuples()):\n",
    "    pct_complete = 100 * i / len(merged_df)\n",
    "    sys.stdout.write(f\"\\r{pct_complete:.2f}% complete\")\n",
    "    sys.stdout.flush()\n",
    "\n",
    "    data_obj = create_torch_data(\n",
    "        row.smiles,\n",
    "        torch.tensor(row.pchembl_value, dtype=torch.float),\n",
    "        row.target_id,\n",
    "    )\n",
    "\n",
    "    if data_obj:\n",
    "        merged_serotonin_data_processed.append(data_obj)\n",
    "\n",
    "pickle_file_path = PATH_DATA / \"merged_serotonin_data_processed.pkl\"\n",
    "\n",
    "with open(pickle_file_path, \"wb\") as f:\n",
    "    pickle.dump(merged_serotonin_data_processed, f)\n",
    "\n",
    "print(f\"Saved merged_serotonin_data_processed to {pickle_file_path}\")\n",
    "print(f\"merged_serotonin_data_processed[0] {merged_serotonin_data_processed[1100]}\")\n",
    "    "
   ]
  },
  {
   "cell_type": "markdown",
   "metadata": {
    "id": "EW4epGYehQoV"
   },
   "source": [
    "### Splitting Serotonin Data into Train/Test (and Don't Touch the Test Set)\n"
   ]
  },
  {
   "cell_type": "code",
   "execution_count": 6,
   "metadata": {
    "colab": {
     "base_uri": "https://localhost:8080/"
    },
    "executionInfo": {
     "elapsed": 5177,
     "status": "ok",
     "timestamp": 1740843690067,
     "user": {
      "displayName": "Paul Utsch",
      "userId": "03470855315435454824"
     },
     "user_tz": -60
    },
    "id": "W95-P-6whQoV",
    "outputId": "ded440ed-ad17-4ed5-f7b7-252928dcd1d9"
   },
   "outputs": [
    {
     "name": "stdout",
     "output_type": "stream",
     "text": [
      "Number of items in filtered_merged_serotonin_data_processed: 14053 / 14053\n",
      "filtered_merged_serotonin_data_processed[0]: Data(x=[41, 10], edge_index=[2, 84], edge_attr=[84, 5], y=7.46999979019165, pos=[41, 3], target_id=7, smiles='CCN/C(=N\\S(=O)(=O)c1ccccc1)N1CC(CC)C=N1', mol_features=[1, 8])\n"
     ]
    },
    {
     "ename": "NameError",
     "evalue": "name 'target_name_to_id' is not defined",
     "output_type": "error",
     "traceback": [
      "\u001b[0;31m---------------------------------------------------------------------------\u001b[0m",
      "\u001b[0;31mNameError\u001b[0m                                 Traceback (most recent call last)",
      "Cell \u001b[0;32mIn[6], line 15\u001b[0m\n\u001b[1;32m     12\u001b[0m np\u001b[38;5;241m.\u001b[39mrandom\u001b[38;5;241m.\u001b[39mseed(\u001b[38;5;241m42\u001b[39m)\n\u001b[1;32m     13\u001b[0m np\u001b[38;5;241m.\u001b[39mrandom\u001b[38;5;241m.\u001b[39mshuffle(filtered_merged_serotonin_data_processed)\n\u001b[0;32m---> 15\u001b[0m target_id \u001b[38;5;241m=\u001b[39m \u001b[43mtarget_name_to_id\u001b[49m[\u001b[38;5;124m\"\u001b[39m\u001b[38;5;124mSerotonin 2a (5-HT2a) receptor\u001b[39m\u001b[38;5;124m\"\u001b[39m]\n\u001b[1;32m     16\u001b[0m split_idx \u001b[38;5;241m=\u001b[39m \u001b[38;5;28mint\u001b[39m(\u001b[38;5;241m0.8\u001b[39m \u001b[38;5;241m*\u001b[39m \u001b[38;5;28mlen\u001b[39m(filtered_merged_serotonin_data_processed))\n\u001b[1;32m     18\u001b[0m filtered_merged_serotonin_data_processed_train \u001b[38;5;241m=\u001b[39m filtered_merged_serotonin_data_processed[:split_idx]\n",
      "\u001b[0;31mNameError\u001b[0m: name 'target_name_to_id' is not defined"
     ]
    }
   ],
   "source": [
    "filtered_merged_serotonin_data_processed = [\n",
    "    d.clone() for d in merged_serotonin_data_processed if d is not None\n",
    "]\n",
    "print(\n",
    "    f\"Number of items in filtered_merged_serotonin_data_processed: {len(filtered_merged_serotonin_data_processed)} / {len(merged_serotonin_data_processed)}\"\n",
    ")  # still retaining original torch_data_list for reference to df later\n",
    "print(\n",
    "    f\"filtered_merged_serotonin_data_processed[0]: {filtered_merged_serotonin_data_processed[0]}\"\n",
    ")\n",
    "\n",
    "# shuffle the data\n",
    "np.random.seed(42)\n",
    "np.random.shuffle(filtered_merged_serotonin_data_processed)\n",
    "\n",
    "target_id = target_name_to_id[\"Serotonin 2a (5-HT2a) receptor\"]\n",
    "split_idx = int(0.8 * len(filtered_merged_serotonin_data_processed))\n",
    "\n",
    "filtered_merged_serotonin_data_processed_train = filtered_merged_serotonin_data_processed[:split_idx]\n",
    "filtered_merged_serotonin_data_processed_test = filtered_merged_serotonin_data_processed[split_idx:]\n",
    "\n",
    "y_train = [d.y.cpu().numpy() for d in filtered_merged_serotonin_data_processed_train if d.y.numel() > 0 and d.target_id == target_id]\n",
    "sigma_train = np.nanstd(y_train)\n",
    "\n",
    "print(filtered_merged_serotonin_data_processed_train[0])\n",
    "\n",
    "print(\"Standard deviation of training set:\", sigma_train)"
   ]
  },
  {
   "cell_type": "markdown",
   "metadata": {
    "id": "IfVKAQr1hQoV"
   },
   "source": [
    "### Loading ZINC Data\n"
   ]
  },
  {
   "cell_type": "markdown",
   "metadata": {
    "id": "lCS_tzY_hQoV"
   },
   "source": [
    "Data used for pre-training: https://www.kaggle.com/datasets/basu369victor/zinc250k?resource=download\n"
   ]
  },
  {
   "cell_type": "code",
   "execution_count": null,
   "metadata": {
    "colab": {
     "base_uri": "https://localhost:8080/",
     "height": 559
    },
    "executionInfo": {
     "elapsed": 3502,
     "status": "ok",
     "timestamp": 1740843693568,
     "user": {
      "displayName": "Paul Utsch",
      "userId": "03470855315435454824"
     },
     "user_tz": -60
    },
    "id": "hPickcJxhQoV",
    "outputId": "03cd916d-41e8-46be-9bd9-3bbc25ec11e0"
   },
   "outputs": [
    {
     "data": {
      "image/png": "[encoded data removed]",
      "text/plain": [
       "<Figure size 1200x600 with 1 Axes>"
      ]
     },
     "metadata": {},
     "output_type": "display_data"
    },
    {
     "name": "stdout",
     "output_type": "stream",
     "text": [
      "Standard deviation of qed in ZINC: 0.1395650745629226\n"
     ]
    }
   ],
   "source": [
    "pretraining_df = pd.read_csv(PATH_DATA / \"250k_rndm_zinc_drugs_clean_3.csv\")\n",
    "\n",
    "data_column = pretraining_df.iloc[:, 2]\n",
    "pretraining_df_sigma = data_column.std()\n",
    "\n",
    "num_bins = 10\n",
    "\n",
    "bin_edges = np.arange(0, 1.1, 0.1)\n",
    "counts, _ = np.histogram(data_column, bins=bin_edges)\n",
    "bin_centers = (bin_edges[:-1] + bin_edges[1:]) / 2\n",
    "\n",
    "plt.figure(figsize=(12, 6))\n",
    "plt.bar(\n",
    "    bin_centers,\n",
    "    counts,\n",
    "    width=(bin_edges[1] - bin_edges[0]) * 0.9,\n",
    "    alpha=0.7,\n",
    "    color=\"b\",\n",
    "    edgecolor=\"black\",\n",
    ")\n",
    "plt.xlabel(\"qed\")\n",
    "plt.ylabel(\"frequency\")\n",
    "plt.xticks(bin_edges)\n",
    "plt.grid(axis=\"y\", linestyle=\"--\", alpha=0.7)\n",
    "plt.show()\n",
    "\n",
    "print(f\"Standard deviation of qed in ZINC: {pretraining_df_sigma}\")"
   ]
  },
  {
   "cell_type": "markdown",
   "metadata": {
    "id": "ZXzTFSeUhQoV"
   },
   "source": [
    "### Creating 3D Molecular Graph Data from ZINC Data\n"
   ]
  },
  {
   "cell_type": "code",
   "execution_count": 11,
   "metadata": {
    "colab": {
     "base_uri": "https://localhost:8080/"
    },
    "executionInfo": {
     "elapsed": 135582,
     "status": "ok",
     "timestamp": 1740843913893,
     "user": {
      "displayName": "Paul Utsch",
      "userId": "03470855315435454824"
     },
     "user_tz": -60
    },
    "id": "WR1FQEtshQoV",
    "outputId": "0cefbd20-2295-4ea2-c3df-38e7b7a8f525"
   },
   "outputs": [
    {
     "name": "stdout",
     "output_type": "stream",
     "text": [
      "Loading pretraining_torch_data_list from pickle file\n",
      "Done\n"
     ]
    },
    {
     "data": {
      "text/plain": [
       "Data(x=[44, 9], edge_index=[2, 92], edge_attr=[92, 5], y=[1], pos=[44, 3], smiles='CC(C)(C)c1ccc2occ(CC(=O)Nc3ccccc3F)c2c1\n",
       "')"
      ]
     },
     "execution_count": 11,
     "metadata": {},
     "output_type": "execute_result"
    }
   ],
   "source": [
    "if os.path.exists(PATH_DATA / \"pretraining_torch_data_list.pkl\"):\n",
    "    print(\"Loading pretraining_torch_data_list from pickle file\")\n",
    "    pretraining_torch_data_list = pickle.load(\n",
    "        open(PATH_DATA / \"pretraining_torch_data_list.pkl\", \"rb\")\n",
    "    )\n",
    "    print(\"Done\")\n",
    "else:\n",
    "    print(\"Creating pretraining_torch_data_list\")\n",
    "    pretraining_torch_data_list = []\n",
    "    for i, row in enumerate(pretraining_df.itertuples(index=False)):\n",
    "        if i % 10 == 0:\n",
    "            pct_complete = i / len(pretraining_df) * 100\n",
    "            sys.stdout.write(f\"\\r{pct_complete:.2f}% complete\")\n",
    "            sys.stdout.flush()\n",
    "\n",
    "        pretraining_torch_data_list.append(\n",
    "            create_torch_data(\n",
    "                row.smiles,\n",
    "                torch.tensor(\n",
    "                    [row.qed], dtype=torch.float\n",
    "                ),  # use QED as target, representing \"drug-likeness\"\n",
    "            )\n",
    "        )\n",
    "\n",
    "    pickle_file_path = PATH_DATA / \"pretraining_torch_data_list.pkl\"\n",
    "\n",
    "    with open(pickle_file_path, \"wb\") as f:\n",
    "        pickle.dump(pretraining_torch_data_list, f)\n",
    "\n",
    "    print(f\"Saved pretraining_torch_data_list to {pickle_file_path}\")\n",
    "\n",
    "pretraining_torch_data_list[0]"
   ]
  },
  {
   "cell_type": "markdown",
   "metadata": {
    "id": "8JX8z8mrhQoW"
   },
   "source": [
    "Remove None objects from the ZINC data.\n"
   ]
  },
  {
   "cell_type": "code",
   "execution_count": 12,
   "metadata": {
    "colab": {
     "base_uri": "https://localhost:8080/"
    },
    "executionInfo": {
     "elapsed": 18434,
     "status": "ok",
     "timestamp": 1740843932327,
     "user": {
      "displayName": "Paul Utsch",
      "userId": "03470855315435454824"
     },
     "user_tz": -60
    },
    "id": "FoObyIZQhQoW",
    "outputId": "26b2f6c1-42c4-405a-f50e-2a9400ef60b8"
   },
   "outputs": [
    {
     "name": "stdout",
     "output_type": "stream",
     "text": [
      "Number of items in filtered_pretraining_torch_data_list: 249425 / 249455\n"
     ]
    }
   ],
   "source": [
    "filtered_pretraining_torch_data_list = [\n",
    "    d.clone() for d in pretraining_torch_data_list if d is not None\n",
    "]\n",
    "\n",
    "print(\n",
    "    f\"Number of items in filtered_pretraining_torch_data_list: {len(filtered_pretraining_torch_data_list)} / {len(pretraining_torch_data_list)}\"\n",
    ")"
   ]
  },
  {
   "cell_type": "markdown",
   "metadata": {
    "id": "MPVwASxvhQoW"
   },
   "source": [
    "### Create ZINC subset for hyperparam tuning\n",
    "\n",
    "Create a new list with the first 10k samples of the ZINC dataset for hyperparam tuning.\n"
   ]
  },
  {
   "cell_type": "code",
   "execution_count": 13,
   "metadata": {
    "colab": {
     "base_uri": "https://localhost:8080/"
    },
    "executionInfo": {
     "elapsed": 5021,
     "status": "ok",
     "timestamp": 1740843937346,
     "user": {
      "displayName": "Paul Utsch",
      "userId": "03470855315435454824"
     },
     "user_tz": -60
    },
    "id": "XeOLW7_6hQoW",
    "outputId": "79b88440-ae2b-44df-95d6-e090ec626815"
   },
   "outputs": [
    {
     "name": "stdout",
     "output_type": "stream",
     "text": [
      "Loaded filtered_pretraining_torch_data_list_10k from pickle file\n"
     ]
    }
   ],
   "source": [
    "if os.path.exists(PATH_DATA / \"filtered_pretraining_torch_data_list_10k.pkl\"):\n",
    "    filtered_pretraining_torch_data_list_10k = pickle.load(\n",
    "        open(PATH_DATA / \"filtered_pretraining_torch_data_list_10k.pkl\", \"rb\")\n",
    "    )\n",
    "    print(\"Loaded filtered_pretraining_torch_data_list_10k from pickle file\")\n",
    "else:\n",
    "    np.random.seed(42)\n",
    "    np.random.shuffle(filtered_pretraining_torch_data_list)\n",
    "\n",
    "    filtered_pretraining_torch_data_list_10k = filtered_pretraining_torch_data_list[\n",
    "        :10000\n",
    "    ]\n",
    "\n",
    "    pickle_file_path = PATH_DATA / \"filtered_pretraining_torch_data_list_10k.pkl\"\n",
    "    with open(pickle_file_path, \"wb\") as f:\n",
    "        pickle.dump(filtered_pretraining_torch_data_list_10k, f)\n",
    "        print(f\"Saved filtered_pretraining_torch_data_list_10k to {pickle_file_path}\")"
   ]
  },
  {
   "cell_type": "markdown",
   "metadata": {
    "id": "5vDOpQmFhQoW"
   },
   "source": [
    "---\n",
    "\n",
    "## Model Architectures\n"
   ]
  },
  {
   "cell_type": "markdown",
   "metadata": {
    "id": "zXYo_QiqhQoW"
   },
   "source": [
    "### Naive Baseline\n"
   ]
  },
  {
   "cell_type": "code",
   "execution_count": null,
   "metadata": {
    "id": "EzwGqdrhhQoW"
   },
   "outputs": [],
   "source": [
    "class MeanBaseline:\n",
    "    def __init__(self):\n",
    "        self.mean_ = None\n",
    "\n",
    "    def fit(self, y):\n",
    "        self.mean_ = np.nanmean(y, axis=0)\n",
    "\n",
    "    def predict(self, n):\n",
    "        return np.tile(self.mean_, (n, 1))"
   ]
  },
  {
   "cell_type": "markdown",
   "metadata": {
    "id": "QvehcFMGhQoW"
   },
   "source": [
    "### SeroGCN\n"
   ]
  },
  {
   "cell_type": "code",
   "execution_count": 14,
   "metadata": {
    "colab": {
     "base_uri": "https://localhost:8080/"
    },
    "executionInfo": {
     "elapsed": 7,
     "status": "ok",
     "timestamp": 1740843937379,
     "user": {
      "displayName": "Paul Utsch",
      "userId": "03470855315435454824"
     },
     "user_tz": -60
    },
    "id": "f9C_6NOzhQoW",
    "outputId": "023ca835-21b6-4af2-98d8-2b3f8d27732b"
   },
   "outputs": [
    {
     "name": "stdout",
     "output_type": "stream",
     "text": [
      "Node features: 9, targets: 1, edge attributes: 5\n"
     ]
    }
   ],
   "source": [
    "from torch_geometric.nn import GCNConv, global_mean_pool\n",
    "from torch.nn import Linear\n",
    "import torch.nn.functional as F\n",
    "\n",
    "n_in = filtered_torch_data_list_train[0].x.shape[1]\n",
    "n_out = len(valid_column_indices)\n",
    "n_edge_attr = filtered_torch_data_list_train[0].edge_attr.shape[1]\n",
    "\n",
    "print(f\"Node features: {n_in}, targets: {n_out}, edge attributes: {n_edge_attr}\")\n",
    "\n",
    "\n",
    "class SeroGCN(torch.nn.Module):\n",
    "    def __init__(self, n_hidden):\n",
    "        super(SeroGCN, self).__init__()\n",
    "\n",
    "        self.conv1 = GCNConv(n_in, n_hidden)\n",
    "        self.conv2 = GCNConv(n_hidden, n_hidden)\n",
    "        self.fc = Linear(n_hidden, n_out)\n",
    "        self.sigma = 1.0  # distance weighting parameter\n",
    "\n",
    "    def forward(self, mol_batch) -> torch.Tensor:\n",
    "        x, pos, edge_index, edge_attr = (\n",
    "            mol_batch.x,\n",
    "            mol_batch.pos,\n",
    "            mol_batch.edge_index,\n",
    "            mol_batch.edge_attr,\n",
    "        )\n",
    "\n",
    "        row, col = edge_index\n",
    "        eucl_edge_dist = torch.norm(pos[row] - pos[col], p=2, dim=1)\n",
    "        weight_distance = torch.exp(\n",
    "            -(eucl_edge_dist**2) / (2 * self.sigma**2)\n",
    "        )  # Gaussian distance weighting\n",
    "\n",
    "        # message passing with diustance and angle weights\n",
    "        x = self.conv1(x, edge_index, edge_weight=weight_distance)\n",
    "        x = F.relu(x)\n",
    "        x = self.conv2(x, edge_index, edge_weight=weight_distance)\n",
    "        x = F.relu(x)\n",
    "\n",
    "        # global pooling for graph-level representation\n",
    "        x = global_mean_pool(x, mol_batch.batch)\n",
    "        x = self.fc(x)\n",
    "\n",
    "        return x"
   ]
  },
  {
   "cell_type": "markdown",
   "metadata": {
    "id": "QiVYy5b9hQoX"
   },
   "source": [
    "---\n",
    "\n",
    "## Training Logic\n"
   ]
  },
  {
   "cell_type": "code",
   "execution_count": null,
   "metadata": {
    "id": "-epVrheQhQoX"
   },
   "outputs": [],
   "source": [
    "# def masked_mse_loss(pred, target):\n",
    "#     # mask of non-nan targets\n",
    "#     mask = ~torch.isnan(target)\n",
    "#     if mask.sum() == 0:\n",
    "#         # return 0 loss, so that it doesn't affect the gradient\n",
    "#         return torch.tensor(0.0, requires_grad=True, device=target.device)\n",
    "#     # squared error for entries that are valid\n",
    "#     loss = (pred[mask] - target[mask]) ** 2\n",
    "#     return loss.mean()"
   ]
  },
  {
   "cell_type": "code",
   "execution_count": 15,
   "metadata": {
    "executionInfo": {
     "elapsed": 1,
     "status": "ok",
     "timestamp": 1740843937381,
     "user": {
      "displayName": "Paul Utsch",
      "userId": "03470855315435454824"
     },
     "user_tz": -60
    },
    "id": "u-SuA9MehQoX"
   },
   "outputs": [],
   "source": [
    "def fit(\n",
    "    model: torch.nn.Module,\n",
    "    train_loader: DataLoader,\n",
    "    val_loader: DataLoader,\n",
    "    optimizer: torch.optim.Optimizer,\n",
    "    criterion,\n",
    "    epochs: int,\n",
    "):\n",
    "    train_losses = []\n",
    "    val_losses = []\n",
    "\n",
    "    for epoch in range(epochs):\n",
    "        # --- Training ---\n",
    "        model.train()\n",
    "        epoch_loss = 0.0\n",
    "        start_epoch = time.time()\n",
    "\n",
    "        for i, data in enumerate(train_loader):\n",
    "            data = data.to(device)\n",
    "            optimizer.zero_grad()\n",
    "            out = model(data)\n",
    "            loss = criterion(\n",
    "                out, data.y.view(-1, n_out)\n",
    "            )  # make sure that even if there's only one target var, it's still a 2D tensor\n",
    "            loss.backward()\n",
    "            optimizer.step()\n",
    "            epoch_loss += loss.item()\n",
    "\n",
    "            pct_complete = 100 * (i + 1) / len(train_loader)\n",
    "            sys.stdout.write(\n",
    "                f\"\\rEpoch {epoch+1}/{epochs} - {pct_complete:.2f}% complete\"\n",
    "            )\n",
    "            sys.stdout.flush()\n",
    "\n",
    "        train_loss_avg = epoch_loss / len(train_loader)\n",
    "\n",
    "        # --- Validation ---\n",
    "        model.eval()\n",
    "        val_epoch_loss = 0.0\n",
    "        with torch.no_grad():\n",
    "            for val_data in val_loader:\n",
    "                val_data = val_data.to(device)\n",
    "                val_out = model(val_data)\n",
    "                val_loss = criterion(val_out, val_data.y.view(-1, n_out))\n",
    "                val_epoch_loss += val_loss.item()\n",
    "        val_loss_avg = val_epoch_loss / len(val_loader)\n",
    "        end_epoch = time.time()\n",
    "\n",
    "        print(\n",
    "            f\"\\nEpoch {epoch+1} completed. Train Loss = {train_loss_avg:.4f} | Val Loss = {val_loss_avg:.4f}. Time taken: {end_epoch - start_epoch:.2f}s\"\n",
    "        )\n",
    "        train_losses.append(train_loss_avg)\n",
    "        val_losses.append(val_loss_avg)\n",
    "\n",
    "    return train_losses, val_losses"
   ]
  },
  {
   "cell_type": "code",
   "execution_count": null,
   "metadata": {
    "executionInfo": {
     "elapsed": 365,
     "status": "ok",
     "timestamp": 1740843937746,
     "user": {
      "displayName": "Paul Utsch",
      "userId": "03470855315435454824"
     },
     "user_tz": -60
    },
    "id": "k5vqfLNAhQoY"
   },
   "outputs": [],
   "source": [
    "import copy\n",
    "\n",
    "from sklearn.model_selection import KFold\n",
    "from torch.utils.data import Subset\n",
    "from torch_geometric.loader import DataLoader\n",
    "import torch\n",
    "\n",
    "\n",
    "def k_fold_cv(\n",
    "    initialized_model,\n",
    "    Optimizer,\n",
    "    criterion,\n",
    "    dataset,\n",
    "    k=5,\n",
    "    epochs=10,\n",
    "    batch_size=32,\n",
    "    lr=0.01,\n",
    "    fit_final_model=False,\n",
    "):\n",
    "    kf = KFold(n_splits=k, shuffle=True, random_state=42)\n",
    "    fold_train_losses = []\n",
    "    fold_val_losses = []\n",
    "\n",
    "    for fold, (train_idx, val_idx) in enumerate(kf.split(dataset)):\n",
    "        print(f\"\\n--- Fold {fold+1}/{k} ---\")\n",
    "\n",
    "        train_subset = Subset(dataset, train_idx)\n",
    "        val_subset = Subset(dataset, val_idx)\n",
    "\n",
    "        train_loader = DataLoader(train_subset, batch_size=batch_size, shuffle=True)\n",
    "        val_loader = DataLoader(val_subset, batch_size=batch_size, shuffle=False)\n",
    "\n",
    "        model_tmp = copy.deepcopy(initialized_model)\n",
    "        optimizer_tmp = Optimizer(model_tmp.parameters(), lr=lr)\n",
    "\n",
    "        train_losses, val_losses = fit(\n",
    "            model_tmp, train_loader, val_loader, optimizer_tmp, criterion, epochs\n",
    "        )\n",
    "\n",
    "        fold_train_losses.append(train_losses)\n",
    "        fold_val_losses.append(val_losses)\n",
    "\n",
    "        print(\n",
    "            f\"Fold {fold+1} completed. Final train loss: {train_losses[-1]:.4f} | Final val loss: {val_losses[-1]:.4f}\"\n",
    "        )\n",
    "\n",
    "    print(\"\\n--- K-Fold CV completed ---\")\n",
    "    print(\n",
    "        f\"Average final train loss: {sum([l[-1] for l in fold_train_losses]) / k:.4f}\"\n",
    "    )\n",
    "    print(f\"Average final val loss: {sum([l[-1] for l in fold_val_losses]) / k:.4f}\")\n",
    "\n",
    "    if fit_final_model:\n",
    "        print(\"\\nFitting final model on entire dataset\")\n",
    "        optimizer_final = Optimizer(initialized_model.parameters(), lr=lr)\n",
    "        data_loader = DataLoader(dataset, batch_size=batch_size, shuffle=True)\n",
    "        fit(\n",
    "            initialized_model,\n",
    "            data_loader,\n",
    "            data_loader,\n",
    "            optimizer_final,\n",
    "            criterion,\n",
    "            epochs,\n",
    "        )\n",
    "\n",
    "    return fold_train_losses, fold_val_losses"
   ]
  },
  {
   "cell_type": "code",
   "execution_count": null,
   "metadata": {
    "executionInfo": {
     "elapsed": 40,
     "status": "ok",
     "timestamp": 1740843937789,
     "user": {
      "displayName": "Paul Utsch",
      "userId": "03470855315435454824"
     },
     "user_tz": -60
    },
    "id": "TouwAhcIhQoY"
   },
   "outputs": [],
   "source": [
    "from itertools import product\n",
    "from sklearn.model_selection import KFold\n",
    "from torch.utils.data import Subset\n",
    "\n",
    "hyperparam_grid = {\n",
    "    # \"lr\": [0.01, 0.001, 0.0001],\n",
    "    \"lr\": [0.01],\n",
    "    # \"batch_size\": [16, 32, 64],\n",
    "    # \"n_hidden\": [32, 64, 128],\n",
    "    \"n_hidden\": [64],\n",
    "    # \"epochs\": [10, 20, 30],\n",
    "    \"epochs\": [30],\n",
    "}\n",
    "\n",
    "\n",
    "def nested_cv(\n",
    "    Model,\n",
    "    Optimizer,\n",
    "    criterion,\n",
    "    hyperparam_grid,\n",
    "    dataset,\n",
    "    k_outer=5,\n",
    "    k_inner=5,\n",
    "):\n",
    "    # list of one dict per parameter combination\n",
    "    param_combinations = [\n",
    "        dict(zip(hyperparam_grid.keys(), values))\n",
    "        for values in product(*hyperparam_grid.values())\n",
    "    ]\n",
    "    n_combinations = len(param_combinations)\n",
    "\n",
    "    # risk estimate for each outer fold and each hyperparam combo\n",
    "    R_ests = np.zeros((k_outer, n_combinations))\n",
    "\n",
    "    if k_outer > 1:\n",
    "        outer_kf = KFold(n_splits=k_outer, shuffle=True, random_state=42)\n",
    "    else:  # for compute reasons\n",
    "\n",
    "        class DummyKFold:\n",
    "            def split(self, X):\n",
    "                yield X, X\n",
    "\n",
    "        outer_kf = DummyKFold()\n",
    "    dataset_indices = np.arange(len(dataset))\n",
    "\n",
    "    for i, (outer_train_idx, outer_val_idx) in enumerate(\n",
    "        outer_kf.split(dataset_indices)\n",
    "    ):\n",
    "        print(f\"\\n--- Outer Fold {i+1}/{k_outer} ---\")\n",
    "\n",
    "        outer_train_dataset = Subset(dataset, outer_train_idx)\n",
    "        outer_val_dataset = Subset(dataset, outer_val_idx)\n",
    "\n",
    "        # per hyperparam combo, perform inner k_fold_cv\n",
    "        for j, params in enumerate(param_combinations):\n",
    "            model = Model(params[\"n_hidden\"]).to(device)\n",
    "\n",
    "            # Run k_fold_cv on the outer training dataset.\n",
    "            _, fold_val_losses = k_fold_cv(\n",
    "                initialized_model=model,\n",
    "                Optimizer=Optimizer,\n",
    "                criterion=criterion,\n",
    "                dataset=outer_train_dataset,\n",
    "                k=k_inner,\n",
    "                epochs=params[\"epochs\"],\n",
    "                # batch_size=params[\"batch_size\"],\n",
    "                batch_size=64,  # hard-coded for compute reasons\n",
    "                lr=params[\"lr\"],\n",
    "            )\n",
    "            # average val risk over inner folds\n",
    "            final_losses = [losses[-1] for losses in fold_val_losses]\n",
    "            R_est = np.mean(final_losses)\n",
    "            R_ests[i, j] = R_est\n",
    "            print(\n",
    "                f\"Outer fold {i+1}, param set {j+1}/{n_combinations}: Risk = {R_est:.4f}\"\n",
    "            )\n",
    "\n",
    "    # average risk per hyperparam combination over outer folds\n",
    "    R_ests_params = np.mean(R_ests, axis=0)\n",
    "    best_idx = np.argmin(R_ests_params)\n",
    "    best_params = param_combinations[best_idx]\n",
    "\n",
    "    print(\n",
    "        f\"\\nSelected best hyperparameters (avg risk {R_ests_params[best_idx]:.4f}): {best_params}\"\n",
    "    )\n",
    "\n",
    "    # train final model on full dataset\n",
    "    model_final = Model(best_params[\"n_hidden\"]).to(device)\n",
    "    _, final_val_losses = k_fold_cv(\n",
    "        initialized_model=model_final,\n",
    "        Optimizer=Optimizer,\n",
    "        criterion=criterion,\n",
    "        dataset=dataset,\n",
    "        k=k_inner,\n",
    "        epochs=best_params[\"epochs\"],\n",
    "        # batch_size=params[\"batch_size\"],\n",
    "        batch_size=64,  # hard-coded for compute reasons\n",
    "        lr=best_params[\"lr\"],\n",
    "        fit_final_model=True,\n",
    "    )\n",
    "    final_R_est = np.mean([losses[-1] for losses in final_val_losses])\n",
    "    print(f\"Final model empirical risk estimate on full dataset: {final_R_est:.4f}\")\n",
    "\n",
    "    return model_final, best_params, final_R_est"
   ]
  },
  {
   "cell_type": "markdown",
   "metadata": {
    "id": "fUKhw2PrhQoY"
   },
   "source": [
    "---\n",
    "\n",
    "## Training & Model Selection\n"
   ]
  },
  {
   "cell_type": "markdown",
   "metadata": {
    "id": "YBl2khqehQoY"
   },
   "source": [
    "### Naive Baseline: Average Prediction\n"
   ]
  },
  {
   "cell_type": "code",
   "execution_count": null,
   "metadata": {
    "id": "HUIVMVd6hQoY",
    "outputId": "60b1f76a-7e0e-4445-972b-0facfa1df702"
   },
   "outputs": [
    {
     "name": "stdout",
     "output_type": "stream",
     "text": [
      "MSE per target: [1.1797696]\n"
     ]
    }
   ],
   "source": [
    "split_idx_baseline = int(0.8 * len(filtered_torch_data_list_train))\n",
    "\n",
    "y_train_baseline = [\n",
    "    d.y.numpy() for d in filtered_torch_data_list_train[:split_idx_baseline]\n",
    "]\n",
    "y_val_baseline = [\n",
    "    d.y.numpy() for d in filtered_torch_data_list_train[split_idx_baseline:]\n",
    "]\n",
    "\n",
    "naive_baseline = MeanBaseline()\n",
    "naive_baseline.fit(y_train_baseline)\n",
    "naive_baseline_predictions = naive_baseline.predict(len(y_val_baseline))\n",
    "\n",
    "# compute mse\n",
    "mse_per_target = np.nanmean((y_val_baseline - naive_baseline_predictions) ** 2, axis=0)\n",
    "print(f\"MSE per target: {mse_per_target}\")"
   ]
  },
  {
   "cell_type": "markdown",
   "metadata": {
    "id": "kvgld7xIhQoY"
   },
   "source": [
    "### Baseline: Random Forest with 2D/3D Descriptors\n"
   ]
  },
  {
   "cell_type": "code",
   "execution_count": null,
   "metadata": {
    "colab": {
     "background_save": true,
     "base_uri": "https://localhost:8080/"
    },
    "id": "1nmBUWPuhQoY"
   },
   "outputs": [
    {
     "name": "stderr",
     "output_type": "stream",
     "text": [
      "[15:55:03] UFFTYPER: Unrecognized charge state for atom: 12\n",
      "[15:55:03] UFFTYPER: Unrecognized charge state for atom: 12\n",
      "[15:57:22] Interrupted, cancelling conformer generation\n"
     ]
    },
    {
     "ename": "KeyboardInterrupt",
     "evalue": "Embedding cancelled",
     "output_type": "error",
     "traceback": [
      "\u001b[0;31m---------------------------------------------------------------------------\u001b[0m",
      "\u001b[0;31mKeyboardInterrupt\u001b[0m                         Traceback (most recent call last)",
      "\u001b[0;32m<ipython-input-21-c01faf1debc6>\u001b[0m in \u001b[0;36m<cell line: 0>\u001b[0;34m()\u001b[0m\n\u001b[1;32m     62\u001b[0m \u001b[0my\u001b[0m \u001b[0;34m=\u001b[0m \u001b[0;34m[\u001b[0m\u001b[0;34m]\u001b[0m\u001b[0;34m\u001b[0m\u001b[0;34m\u001b[0m\u001b[0m\n\u001b[1;32m     63\u001b[0m \u001b[0;32mfor\u001b[0m \u001b[0mdata\u001b[0m \u001b[0;32min\u001b[0m \u001b[0mfiltered_torch_data_list_train\u001b[0m\u001b[0;34m:\u001b[0m\u001b[0;34m\u001b[0m\u001b[0;34m\u001b[0m\u001b[0m\n\u001b[0;32m---> 64\u001b[0;31m     \u001b[0mfeatures\u001b[0m \u001b[0;34m=\u001b[0m \u001b[0mcompute_descriptors\u001b[0m\u001b[0;34m(\u001b[0m\u001b[0mdata\u001b[0m\u001b[0;34m.\u001b[0m\u001b[0msmiles\u001b[0m\u001b[0;34m)\u001b[0m\u001b[0;34m\u001b[0m\u001b[0;34m\u001b[0m\u001b[0m\n\u001b[0m\u001b[1;32m     65\u001b[0m     \u001b[0;32mif\u001b[0m \u001b[0mfeatures\u001b[0m \u001b[0;32mis\u001b[0m \u001b[0;32mNone\u001b[0m\u001b[0;34m:\u001b[0m\u001b[0;34m\u001b[0m\u001b[0;34m\u001b[0m\u001b[0m\n\u001b[1;32m     66\u001b[0m         \u001b[0;32mcontinue\u001b[0m\u001b[0;34m\u001b[0m\u001b[0;34m\u001b[0m\u001b[0m\n",
      "\u001b[0;32m<ipython-input-21-c01faf1debc6>\u001b[0m in \u001b[0;36mcompute_descriptors\u001b[0;34m(smiles)\u001b[0m\n\u001b[1;32m     36\u001b[0m     \u001b[0;31m# Generate 3D conformer\u001b[0m\u001b[0;34m\u001b[0m\u001b[0;34m\u001b[0m\u001b[0m\n\u001b[1;32m     37\u001b[0m     \u001b[0mmol\u001b[0m \u001b[0;34m=\u001b[0m \u001b[0mChem\u001b[0m\u001b[0;34m.\u001b[0m\u001b[0mAddHs\u001b[0m\u001b[0;34m(\u001b[0m\u001b[0mmol\u001b[0m\u001b[0;34m)\u001b[0m\u001b[0;34m\u001b[0m\u001b[0;34m\u001b[0m\u001b[0m\n\u001b[0;32m---> 38\u001b[0;31m     \u001b[0;32mif\u001b[0m \u001b[0mAllChem\u001b[0m\u001b[0;34m.\u001b[0m\u001b[0mEmbedMolecule\u001b[0m\u001b[0;34m(\u001b[0m\u001b[0mmol\u001b[0m\u001b[0;34m,\u001b[0m \u001b[0mAllChem\u001b[0m\u001b[0;34m.\u001b[0m\u001b[0mETKDG\u001b[0m\u001b[0;34m(\u001b[0m\u001b[0;34m)\u001b[0m\u001b[0;34m)\u001b[0m \u001b[0;34m!=\u001b[0m \u001b[0;36m0\u001b[0m\u001b[0;34m:\u001b[0m\u001b[0;34m\u001b[0m\u001b[0;34m\u001b[0m\u001b[0m\n\u001b[0m\u001b[1;32m     39\u001b[0m         \u001b[0;32mreturn\u001b[0m \u001b[0;32mNone\u001b[0m  \u001b[0;31m# Skip if 3D generation fails\u001b[0m\u001b[0;34m\u001b[0m\u001b[0;34m\u001b[0m\u001b[0m\n\u001b[1;32m     40\u001b[0m     \u001b[0mAllChem\u001b[0m\u001b[0;34m.\u001b[0m\u001b[0mUFFOptimizeMolecule\u001b[0m\u001b[0;34m(\u001b[0m\u001b[0mmol\u001b[0m\u001b[0;34m)\u001b[0m  \u001b[0;31m# Optimize conformation\u001b[0m\u001b[0;34m\u001b[0m\u001b[0;34m\u001b[0m\u001b[0m\n",
      "\u001b[0;31mKeyboardInterrupt\u001b[0m: Embedding cancelled"
     ]
    }
   ],
   "source": [
    "from sklearn.ensemble import RandomForestRegressor\n",
    "from sklearn.metrics import mean_squared_error\n",
    "from rdkit.Chem import Descriptors\n",
    "\n",
    "# tried a bunch of descriptor functions from Descriptors._descList – these are the ones that did NOT crash the kernel ...\n",
    "safe_descriptors = [\n",
    "    \"MolWt\",\n",
    "    \"MolLogP\",\n",
    "    \"MolMR\",\n",
    "    \"NumValenceElectrons\",\n",
    "    \"NumRadicalElectrons\",\n",
    "    \"HeavyAtomCount\",\n",
    "    \"NHOHCount\",\n",
    "    \"NOCount\",\n",
    "    \"RingCount\",\n",
    "    \"FractionCSP3\",\n",
    "    \"TPSA\",\n",
    "    \"NumHDonors\",\n",
    "    \"NumHAcceptors\",\n",
    "    \"NumRotatableBonds\",\n",
    "    \"HallKierAlpha\",\n",
    "    \"Kappa1\",\n",
    "    \"Kappa2\",\n",
    "    \"Kappa3\",\n",
    "    \"Chi0\",\n",
    "    \"Chi1\",\n",
    "    \"fr_Al_COO\",\n",
    "    \"fr_Al_OH\",\n",
    "    \"fr_Ar_N\",\n",
    "    \"fr_C_O\",\n",
    "    \"fr_NH1\",\n",
    "    \"fr_NH2\",\n",
    "]\n",
    "\n",
    "descriptor_functions = {name: getattr(Descriptors, name) for name in safe_descriptors}\n",
    "\n",
    "\n",
    "# extract a fixed-length feature vector from the graph data, as input to RF model\n",
    "def compute_descriptors(smiles):\n",
    "    mol = Chem.MolFromSmiles(smiles)\n",
    "    if mol is None:\n",
    "        return None\n",
    "    desc_values = []\n",
    "    for _, func in descriptor_functions.items():\n",
    "        try:\n",
    "            desc_values.append(func(mol))\n",
    "        except:\n",
    "            print(f\"Error computing descriptor {func}\")\n",
    "    return np.array(desc_values)\n",
    "\n",
    "\n",
    "X = []\n",
    "y = []\n",
    "for data in filtered_torch_data_list_train:\n",
    "    features = compute_descriptors(data.smiles)\n",
    "    if features is None:\n",
    "        continue\n",
    "    X.append(features)\n",
    "    target_val = data.y.cpu().numpy() if data.y.numel() > 0 else np.nan\n",
    "    y.append(target_val)\n",
    "\n",
    "X = np.array(X)\n",
    "y = np.array(y)\n",
    "\n",
    "split_idx_rf = int(0.8 * len(filtered_torch_data_list_train))\n",
    "X_train, X_val = X[:split_idx_rf], X[split_idx_rf:]\n",
    "y_train, y_val = y[:split_idx_rf], y[split_idx_rf:]\n",
    "\n",
    "rf = RandomForestRegressor(n_estimators=100, random_state=42)\n",
    "rf.fit(X_train, y_train)\n",
    "\n",
    "y_pred = rf.predict(X_val)\n",
    "mse = mean_squared_error(y_val, y_pred)\n",
    "print(\"Val MSE:\", mse)"
   ]
  },
  {
   "cell_type": "markdown",
   "metadata": {
    "id": "nyInMxaihQoZ"
   },
   "source": [
    "### Approach 1: SeroGCN without Pretraining\n"
   ]
  },
  {
   "cell_type": "code",
   "execution_count": null,
   "metadata": {
    "id": "LOo8Rdh9hQoZ"
   },
   "outputs": [],
   "source": [
    "sero_gcn_final, best_params_sero_gcn, final_R_est_sero_gcn = nested_cv(\n",
    "    SeroGCN,\n",
    "    torch.optim.Adam,\n",
    "    torch.nn.MSELoss(),\n",
    "    hyperparam_grid,\n",
    "    filtered_torch_data_list_train,\n",
    "    k_outer=1,  # compute reasons\n",
    "    k_inner=5,\n",
    ")\n",
    "\n",
    "torch.save(sero_gcn_final.state_dict(), PATH_WEIGHTS / \"sero_gcn_final_weights.pth\")\n",
    "\n",
    "with open(PATH_WEIGHTS / \"best_params_sero.json\", \"w\") as f:\n",
    "    json.dump(\n",
    "        {\n",
    "            \"best_params_sero_gcn\": best_params_sero_gcn,\n",
    "            \"final_R_est_sero_gcn\": final_R_est_sero_gcn,\n",
    "        },\n",
    "        f,\n",
    "    )"
   ]
  },
  {
   "cell_type": "markdown",
   "metadata": {
    "id": "sqGa2vpxhQoZ"
   },
   "source": [
    "### Approach 2: SeroGCN with Pretraining on ZINC\n"
   ]
  },
  {
   "cell_type": "markdown",
   "metadata": {
    "id": "BqooqV7zhQoZ"
   },
   "source": [
    "#### Pretraining: Hyperparameter Tuning\n"
   ]
  },
  {
   "cell_type": "code",
   "execution_count": null,
   "metadata": {
    "colab": {
     "base_uri": "https://localhost:8080/"
    },
    "executionInfo": {
     "elapsed": 573416,
     "status": "ok",
     "timestamp": 1740315168031,
     "user": {
      "displayName": "Paul Utsch",
      "userId": "03470855315435454824"
     },
     "user_tz": -60
    },
    "id": "fepVtdrzhQoZ",
    "outputId": "5ad19d8e-2388-4d1a-d3fb-5d2930ae74a5"
   },
   "outputs": [
    {
     "name": "stdout",
     "output_type": "stream",
     "text": [
      "\n",
      "--- Outer Fold 1/1 ---\n",
      "\n",
      "--- Fold 1/5 ---\n",
      "Epoch 1/30 - 100.00% complete\n",
      "Epoch 1 completed. Train Loss = 0.0582 | Val Loss = 0.0175. Time taken: 2.55s\n",
      "Epoch 2/30 - 100.00% complete\n",
      "Epoch 2 completed. Train Loss = 0.0188 | Val Loss = 0.0166. Time taken: 1.89s\n",
      "Epoch 3/30 - 100.00% complete\n",
      "Epoch 3 completed. Train Loss = 0.0184 | Val Loss = 0.0182. Time taken: 1.42s\n",
      "Epoch 4/30 - 100.00% complete\n",
      "Epoch 4 completed. Train Loss = 0.0187 | Val Loss = 0.0165. Time taken: 1.49s\n",
      "Epoch 5/30 - 100.00% complete\n",
      "Epoch 5 completed. Train Loss = 0.0177 | Val Loss = 0.0165. Time taken: 1.44s\n",
      "Epoch 6/30 - 100.00% complete\n",
      "Epoch 6 completed. Train Loss = 0.0182 | Val Loss = 0.0173. Time taken: 1.49s\n",
      "Epoch 7/30 - 100.00% complete\n",
      "Epoch 7 completed. Train Loss = 0.0183 | Val Loss = 0.0163. Time taken: 1.49s\n",
      "Epoch 8/30 - 100.00% complete\n",
      "Epoch 8 completed. Train Loss = 0.0181 | Val Loss = 0.0168. Time taken: 1.52s\n",
      "Epoch 9/30 - 100.00% complete\n",
      "Epoch 9 completed. Train Loss = 0.0178 | Val Loss = 0.0164. Time taken: 1.58s\n",
      "Epoch 10/30 - 100.00% complete\n",
      "Epoch 10 completed. Train Loss = 0.0180 | Val Loss = 0.0173. Time taken: 1.86s\n",
      "Epoch 11/30 - 100.00% complete\n",
      "Epoch 11 completed. Train Loss = 0.0176 | Val Loss = 0.0161. Time taken: 1.73s\n",
      "Epoch 12/30 - 100.00% complete\n",
      "Epoch 12 completed. Train Loss = 0.0174 | Val Loss = 0.0160. Time taken: 1.44s\n",
      "Epoch 13/30 - 100.00% complete\n",
      "Epoch 13 completed. Train Loss = 0.0174 | Val Loss = 0.0167. Time taken: 1.49s\n",
      "Epoch 14/30 - 100.00% complete\n",
      "Epoch 14 completed. Train Loss = 0.0184 | Val Loss = 0.0163. Time taken: 1.47s\n",
      "Epoch 15/30 - 100.00% complete\n",
      "Epoch 15 completed. Train Loss = 0.0173 | Val Loss = 0.0159. Time taken: 1.53s\n",
      "Epoch 16/30 - 100.00% complete\n",
      "Epoch 16 completed. Train Loss = 0.0179 | Val Loss = 0.0158. Time taken: 1.42s\n",
      "Epoch 17/30 - 100.00% complete\n",
      "Epoch 17 completed. Train Loss = 0.0176 | Val Loss = 0.0158. Time taken: 1.50s\n",
      "Epoch 18/30 - 100.00% complete\n",
      "Epoch 18 completed. Train Loss = 0.0171 | Val Loss = 0.0165. Time taken: 1.83s\n",
      "Epoch 19/30 - 100.00% complete\n",
      "Epoch 19 completed. Train Loss = 0.0167 | Val Loss = 0.0158. Time taken: 1.91s\n",
      "Epoch 20/30 - 100.00% complete\n",
      "Epoch 20 completed. Train Loss = 0.0165 | Val Loss = 0.0173. Time taken: 1.47s\n",
      "Epoch 21/30 - 100.00% complete\n",
      "Epoch 21 completed. Train Loss = 0.0164 | Val Loss = 0.0155. Time taken: 1.46s\n",
      "Epoch 22/30 - 100.00% complete\n",
      "Epoch 22 completed. Train Loss = 0.0165 | Val Loss = 0.0153. Time taken: 1.46s\n",
      "Epoch 23/30 - 100.00% complete\n",
      "Epoch 23 completed. Train Loss = 0.0167 | Val Loss = 0.0163. Time taken: 1.43s\n",
      "Epoch 24/30 - 100.00% complete\n",
      "Epoch 24 completed. Train Loss = 0.0159 | Val Loss = 0.0170. Time taken: 1.46s\n",
      "Epoch 25/30 - 100.00% complete\n",
      "Epoch 25 completed. Train Loss = 0.0160 | Val Loss = 0.0153. Time taken: 1.44s\n",
      "Epoch 26/30 - 100.00% complete\n",
      "Epoch 26 completed. Train Loss = 0.0162 | Val Loss = 0.0154. Time taken: 1.61s\n",
      "Epoch 27/30 - 100.00% complete\n",
      "Epoch 27 completed. Train Loss = 0.0163 | Val Loss = 0.0159. Time taken: 1.89s\n",
      "Epoch 28/30 - 100.00% complete\n",
      "Epoch 28 completed. Train Loss = 0.0160 | Val Loss = 0.0152. Time taken: 1.77s\n",
      "Epoch 29/30 - 100.00% complete\n",
      "Epoch 29 completed. Train Loss = 0.0159 | Val Loss = 0.0155. Time taken: 1.47s\n",
      "Epoch 30/30 - 100.00% complete\n",
      "Epoch 30 completed. Train Loss = 0.0159 | Val Loss = 0.0161. Time taken: 1.45s\n",
      "Fold 1 completed. Final train loss: 0.0159 | Final val loss: 0.0161\n",
      "\n",
      "--- Fold 2/5 ---\n",
      "Epoch 1/30 - 100.00% complete\n",
      "Epoch 1 completed. Train Loss = 0.0548 | Val Loss = 0.0195. Time taken: 1.46s\n",
      "Epoch 2/30 - 100.00% complete\n",
      "Epoch 2 completed. Train Loss = 0.0177 | Val Loss = 0.0185. Time taken: 1.51s\n",
      "Epoch 3/30 - 100.00% complete\n",
      "Epoch 3 completed. Train Loss = 0.0177 | Val Loss = 0.0192. Time taken: 1.51s\n",
      "Epoch 4/30 - 100.00% complete\n",
      "Epoch 4 completed. Train Loss = 0.0176 | Val Loss = 0.0185. Time taken: 1.45s\n",
      "Epoch 5/30 - 100.00% complete\n",
      "Epoch 5 completed. Train Loss = 0.0179 | Val Loss = 0.0182. Time taken: 1.90s\n",
      "Epoch 6/30 - 100.00% complete\n",
      "Epoch 6 completed. Train Loss = 0.0181 | Val Loss = 0.0252. Time taken: 1.87s\n",
      "Epoch 7/30 - 100.00% complete\n",
      "Epoch 7 completed. Train Loss = 0.0178 | Val Loss = 0.0182. Time taken: 1.47s\n",
      "Epoch 8/30 - 100.00% complete\n",
      "Epoch 8 completed. Train Loss = 0.0175 | Val Loss = 0.0197. Time taken: 1.45s\n",
      "Epoch 9/30 - 100.00% complete\n",
      "Epoch 9 completed. Train Loss = 0.0178 | Val Loss = 0.0193. Time taken: 1.50s\n",
      "Epoch 10/30 - 100.00% complete\n",
      "Epoch 10 completed. Train Loss = 0.0174 | Val Loss = 0.0181. Time taken: 1.48s\n",
      "Epoch 11/30 - 100.00% complete\n",
      "Epoch 11 completed. Train Loss = 0.0177 | Val Loss = 0.0179. Time taken: 1.46s\n",
      "Epoch 12/30 - 100.00% complete\n",
      "Epoch 12 completed. Train Loss = 0.0177 | Val Loss = 0.0180. Time taken: 1.46s\n",
      "Epoch 13/30 - 100.00% complete\n",
      "Epoch 13 completed. Train Loss = 0.0174 | Val Loss = 0.0182. Time taken: 1.63s\n",
      "Epoch 14/30 - 100.00% complete\n",
      "Epoch 14 completed. Train Loss = 0.0170 | Val Loss = 0.0178. Time taken: 1.93s\n",
      "Epoch 15/30 - 100.00% complete\n",
      "Epoch 15 completed. Train Loss = 0.0171 | Val Loss = 0.0181. Time taken: 1.74s\n",
      "Epoch 16/30 - 100.00% complete\n",
      "Epoch 16 completed. Train Loss = 0.0169 | Val Loss = 0.0176. Time taken: 1.48s\n",
      "Epoch 17/30 - 100.00% complete\n",
      "Epoch 17 completed. Train Loss = 0.0170 | Val Loss = 0.0179. Time taken: 1.46s\n",
      "Epoch 18/30 - 100.00% complete\n",
      "Epoch 18 completed. Train Loss = 0.0177 | Val Loss = 0.0201. Time taken: 1.52s\n",
      "Epoch 19/30 - 100.00% complete\n",
      "Epoch 19 completed. Train Loss = 0.0171 | Val Loss = 0.0175. Time taken: 1.46s\n",
      "Epoch 20/30 - 100.00% complete\n",
      "Epoch 20 completed. Train Loss = 0.0171 | Val Loss = 0.0175. Time taken: 1.49s\n",
      "Epoch 21/30 - 100.00% complete\n",
      "Epoch 21 completed. Train Loss = 0.0163 | Val Loss = 0.0171. Time taken: 1.44s\n",
      "Epoch 22/30 - 100.00% complete\n",
      "Epoch 22 completed. Train Loss = 0.0162 | Val Loss = 0.0167. Time taken: 1.86s\n",
      "Epoch 23/30 - 100.00% complete\n",
      "Epoch 23 completed. Train Loss = 0.0162 | Val Loss = 0.0175. Time taken: 1.97s\n",
      "Epoch 24/30 - 100.00% complete\n",
      "Epoch 24 completed. Train Loss = 0.0164 | Val Loss = 0.0166. Time taken: 1.48s\n",
      "Epoch 25/30 - 100.00% complete\n",
      "Epoch 25 completed. Train Loss = 0.0158 | Val Loss = 0.0175. Time taken: 1.56s\n",
      "Epoch 26/30 - 100.00% complete\n",
      "Epoch 26 completed. Train Loss = 0.0157 | Val Loss = 0.0165. Time taken: 1.48s\n",
      "Epoch 27/30 - 100.00% complete\n",
      "Epoch 27 completed. Train Loss = 0.0157 | Val Loss = 0.0165. Time taken: 1.49s\n",
      "Epoch 28/30 - 100.00% complete\n",
      "Epoch 28 completed. Train Loss = 0.0157 | Val Loss = 0.0163. Time taken: 2.09s\n",
      "Epoch 29/30 - 100.00% complete\n",
      "Epoch 29 completed. Train Loss = 0.0155 | Val Loss = 0.0161. Time taken: 1.51s\n",
      "Epoch 30/30 - 100.00% complete\n",
      "Epoch 30 completed. Train Loss = 0.0157 | Val Loss = 0.0168. Time taken: 1.89s\n",
      "Fold 2 completed. Final train loss: 0.0157 | Final val loss: 0.0168\n",
      "\n",
      "--- Fold 3/5 ---\n",
      "Epoch 1/30 - 100.00% complete\n",
      "Epoch 1 completed. Train Loss = 0.0572 | Val Loss = 0.0190. Time taken: 1.91s\n",
      "Epoch 2/30 - 100.00% complete\n",
      "Epoch 2 completed. Train Loss = 0.0182 | Val Loss = 0.0179. Time taken: 1.50s\n",
      "Epoch 3/30 - 100.00% complete\n",
      "Epoch 3 completed. Train Loss = 0.0180 | Val Loss = 0.0180. Time taken: 1.56s\n",
      "Epoch 4/30 - 100.00% complete\n",
      "Epoch 4 completed. Train Loss = 0.0179 | Val Loss = 0.0183. Time taken: 1.50s\n",
      "Epoch 5/30 - 100.00% complete\n",
      "Epoch 5 completed. Train Loss = 0.0176 | Val Loss = 0.0181. Time taken: 1.50s\n",
      "Epoch 6/30 - 100.00% complete\n",
      "Epoch 6 completed. Train Loss = 0.0182 | Val Loss = 0.0182. Time taken: 1.51s\n",
      "Epoch 7/30 - 100.00% complete\n",
      "Epoch 7 completed. Train Loss = 0.0184 | Val Loss = 0.0186. Time taken: 1.51s\n",
      "Epoch 8/30 - 100.00% complete\n",
      "Epoch 8 completed. Train Loss = 0.0188 | Val Loss = 0.0227. Time taken: 1.70s\n",
      "Epoch 9/30 - 100.00% complete\n",
      "Epoch 9 completed. Train Loss = 0.0180 | Val Loss = 0.0173. Time taken: 1.88s\n",
      "Epoch 10/30 - 100.00% complete\n",
      "Epoch 10 completed. Train Loss = 0.0175 | Val Loss = 0.0191. Time taken: 1.67s\n",
      "Epoch 11/30 - 100.00% complete\n",
      "Epoch 11 completed. Train Loss = 0.0175 | Val Loss = 0.0170. Time taken: 1.49s\n",
      "Epoch 12/30 - 100.00% complete\n",
      "Epoch 12 completed. Train Loss = 0.0177 | Val Loss = 0.0242. Time taken: 1.54s\n",
      "Epoch 13/30 - 100.00% complete\n",
      "Epoch 13 completed. Train Loss = 0.0180 | Val Loss = 0.0174. Time taken: 1.47s\n",
      "Epoch 14/30 - 100.00% complete\n",
      "Epoch 14 completed. Train Loss = 0.0172 | Val Loss = 0.0175. Time taken: 1.51s\n",
      "Epoch 15/30 - 100.00% complete\n",
      "Epoch 15 completed. Train Loss = 0.0178 | Val Loss = 0.0173. Time taken: 1.48s\n",
      "Epoch 16/30 - 100.00% complete\n",
      "Epoch 16 completed. Train Loss = 0.0175 | Val Loss = 0.0181. Time taken: 1.50s\n",
      "Epoch 17/30 - 100.00% complete\n",
      "Epoch 17 completed. Train Loss = 0.0179 | Val Loss = 0.0173. Time taken: 1.93s\n",
      "Epoch 18/30 - 100.00% complete\n",
      "Epoch 18 completed. Train Loss = 0.0173 | Val Loss = 0.0187. Time taken: 1.87s\n",
      "Epoch 19/30 - 100.00% complete\n",
      "Epoch 19 completed. Train Loss = 0.0173 | Val Loss = 0.0178. Time taken: 1.49s\n",
      "Epoch 20/30 - 100.00% complete\n",
      "Epoch 20 completed. Train Loss = 0.0169 | Val Loss = 0.0170. Time taken: 1.56s\n",
      "Epoch 21/30 - 100.00% complete\n",
      "Epoch 21 completed. Train Loss = 0.0170 | Val Loss = 0.0172. Time taken: 1.47s\n",
      "Epoch 22/30 - 100.00% complete\n",
      "Epoch 22 completed. Train Loss = 0.0174 | Val Loss = 0.0172. Time taken: 1.52s\n",
      "Epoch 23/30 - 100.00% complete\n",
      "Epoch 23 completed. Train Loss = 0.0171 | Val Loss = 0.0166. Time taken: 1.49s\n",
      "Epoch 24/30 - 100.00% complete\n",
      "Epoch 24 completed. Train Loss = 0.0167 | Val Loss = 0.0172. Time taken: 3.06s\n",
      "Epoch 25/30 - 100.00% complete\n",
      "Epoch 25 completed. Train Loss = 0.0162 | Val Loss = 0.0160. Time taken: 1.86s\n",
      "Epoch 26/30 - 100.00% complete\n",
      "Epoch 26 completed. Train Loss = 0.0166 | Val Loss = 0.0163. Time taken: 1.72s\n",
      "Epoch 27/30 - 100.00% complete\n",
      "Epoch 27 completed. Train Loss = 0.0160 | Val Loss = 0.0159. Time taken: 1.49s\n",
      "Epoch 28/30 - 100.00% complete\n",
      "Epoch 28 completed. Train Loss = 0.0157 | Val Loss = 0.0155. Time taken: 1.57s\n",
      "Epoch 29/30 - 100.00% complete\n",
      "Epoch 29 completed. Train Loss = 0.0156 | Val Loss = 0.0153. Time taken: 1.51s\n",
      "Epoch 30/30 - 100.00% complete\n",
      "Epoch 30 completed. Train Loss = 0.0157 | Val Loss = 0.0160. Time taken: 1.51s\n",
      "Fold 3 completed. Final train loss: 0.0157 | Final val loss: 0.0160\n",
      "\n",
      "--- Fold 4/5 ---\n",
      "Epoch 1/30 - 100.00% complete\n",
      "Epoch 1 completed. Train Loss = 0.0550 | Val Loss = 0.0171. Time taken: 1.52s\n",
      "Epoch 2/30 - 100.00% complete\n",
      "Epoch 2 completed. Train Loss = 0.0186 | Val Loss = 0.0178. Time taken: 1.53s\n",
      "Epoch 3/30 - 100.00% complete\n",
      "Epoch 3 completed. Train Loss = 0.0195 | Val Loss = 0.0169. Time taken: 1.95s\n",
      "Epoch 4/30 - 100.00% complete\n",
      "Epoch 4 completed. Train Loss = 0.0185 | Val Loss = 0.0163. Time taken: 1.87s\n",
      "Epoch 5/30 - 100.00% complete\n",
      "Epoch 5 completed. Train Loss = 0.0186 | Val Loss = 0.0192. Time taken: 1.57s\n",
      "Epoch 6/30 - 100.00% complete\n",
      "Epoch 6 completed. Train Loss = 0.0185 | Val Loss = 0.0162. Time taken: 1.53s\n",
      "Epoch 7/30 - 100.00% complete\n",
      "Epoch 7 completed. Train Loss = 0.0186 | Val Loss = 0.0162. Time taken: 1.48s\n",
      "Epoch 8/30 - 100.00% complete\n",
      "Epoch 8 completed. Train Loss = 0.0186 | Val Loss = 0.0161. Time taken: 1.52s\n",
      "Epoch 9/30 - 100.00% complete\n",
      "Epoch 9 completed. Train Loss = 0.0179 | Val Loss = 0.0186. Time taken: 1.45s\n",
      "Epoch 10/30 - 100.00% complete\n",
      "Epoch 10 completed. Train Loss = 0.0185 | Val Loss = 0.0160. Time taken: 1.52s\n",
      "Epoch 11/30 - 100.00% complete\n",
      "Epoch 11 completed. Train Loss = 0.0182 | Val Loss = 0.0183. Time taken: 1.81s\n",
      "Epoch 12/30 - 100.00% complete\n",
      "Epoch 12 completed. Train Loss = 0.0179 | Val Loss = 0.0159. Time taken: 1.91s\n",
      "Epoch 13/30 - 100.00% complete\n",
      "Epoch 13 completed. Train Loss = 0.0176 | Val Loss = 0.0162. Time taken: 1.67s\n",
      "Epoch 14/30 - 100.00% complete\n",
      "Epoch 14 completed. Train Loss = 0.0177 | Val Loss = 0.0170. Time taken: 1.54s\n",
      "Epoch 15/30 - 100.00% complete\n",
      "Epoch 15 completed. Train Loss = 0.0173 | Val Loss = 0.0160. Time taken: 1.48s\n",
      "Epoch 16/30 - 100.00% complete\n",
      "Epoch 16 completed. Train Loss = 0.0174 | Val Loss = 0.0157. Time taken: 1.48s\n",
      "Epoch 17/30 - 100.00% complete\n",
      "Epoch 17 completed. Train Loss = 0.0173 | Val Loss = 0.0156. Time taken: 1.57s\n",
      "Epoch 18/30 - 100.00% complete\n",
      "Epoch 18 completed. Train Loss = 0.0171 | Val Loss = 0.0154. Time taken: 1.53s\n",
      "Epoch 19/30 - 100.00% complete\n",
      "Epoch 19 completed. Train Loss = 0.0175 | Val Loss = 0.0165. Time taken: 1.67s\n",
      "Epoch 20/30 - 100.00% complete\n",
      "Epoch 20 completed. Train Loss = 0.0170 | Val Loss = 0.0156. Time taken: 1.98s\n",
      "Epoch 21/30 - 100.00% complete\n",
      "Epoch 21 completed. Train Loss = 0.0171 | Val Loss = 0.0155. Time taken: 1.77s\n",
      "Epoch 22/30 - 100.00% complete\n",
      "Epoch 22 completed. Train Loss = 0.0169 | Val Loss = 0.0148. Time taken: 1.59s\n",
      "Epoch 23/30 - 100.00% complete\n",
      "Epoch 23 completed. Train Loss = 0.0167 | Val Loss = 0.0146. Time taken: 1.45s\n",
      "Epoch 24/30 - 100.00% complete\n",
      "Epoch 24 completed. Train Loss = 0.0164 | Val Loss = 0.0147. Time taken: 1.55s\n",
      "Epoch 25/30 - 100.00% complete\n",
      "Epoch 25 completed. Train Loss = 0.0163 | Val Loss = 0.0145. Time taken: 1.47s\n",
      "Epoch 26/30 - 100.00% complete\n",
      "Epoch 26 completed. Train Loss = 0.0166 | Val Loss = 0.0146. Time taken: 1.56s\n",
      "Epoch 27/30 - 100.00% complete\n",
      "Epoch 27 completed. Train Loss = 0.0162 | Val Loss = 0.0147. Time taken: 1.56s\n",
      "Epoch 28/30 - 100.00% complete\n",
      "Epoch 28 completed. Train Loss = 0.0161 | Val Loss = 0.0144. Time taken: 1.89s\n",
      "Epoch 29/30 - 100.00% complete\n",
      "Epoch 29 completed. Train Loss = 0.0159 | Val Loss = 0.0151. Time taken: 1.96s\n",
      "Epoch 30/30 - 100.00% complete\n",
      "Epoch 30 completed. Train Loss = 0.0161 | Val Loss = 0.0142. Time taken: 1.56s\n",
      "Fold 4 completed. Final train loss: 0.0161 | Final val loss: 0.0142\n",
      "\n",
      "--- Fold 5/5 ---\n",
      "Epoch 1/30 - 100.00% complete\n",
      "Epoch 1 completed. Train Loss = 0.0627 | Val Loss = 0.0188. Time taken: 1.55s\n",
      "Epoch 2/30 - 100.00% complete\n",
      "Epoch 2 completed. Train Loss = 0.0183 | Val Loss = 0.0186. Time taken: 1.56s\n",
      "Epoch 3/30 - 100.00% complete\n",
      "Epoch 3 completed. Train Loss = 0.0180 | Val Loss = 0.0184. Time taken: 1.51s\n",
      "Epoch 4/30 - 100.00% complete\n",
      "Epoch 4 completed. Train Loss = 0.0180 | Val Loss = 0.0188. Time taken: 1.55s\n",
      "Epoch 5/30 - 100.00% complete\n",
      "Epoch 5 completed. Train Loss = 0.0183 | Val Loss = 0.0186. Time taken: 1.49s\n",
      "Epoch 6/30 - 100.00% complete\n",
      "Epoch 6 completed. Train Loss = 0.0183 | Val Loss = 0.0209. Time taken: 1.82s\n",
      "Epoch 7/30 - 100.00% complete\n",
      "Epoch 7 completed. Train Loss = 0.0178 | Val Loss = 0.0182. Time taken: 1.97s\n",
      "Epoch 8/30 - 100.00% complete\n",
      "Epoch 8 completed. Train Loss = 0.0174 | Val Loss = 0.0185. Time taken: 1.69s\n",
      "Epoch 9/30 - 100.00% complete\n",
      "Epoch 9 completed. Train Loss = 0.0176 | Val Loss = 0.0181. Time taken: 1.46s\n",
      "Epoch 10/30 - 100.00% complete\n",
      "Epoch 10 completed. Train Loss = 0.0181 | Val Loss = 0.0224. Time taken: 1.51s\n",
      "Epoch 11/30 - 100.00% complete\n",
      "Epoch 11 completed. Train Loss = 0.0179 | Val Loss = 0.0193. Time taken: 1.46s\n",
      "Epoch 12/30 - 100.00% complete\n",
      "Epoch 12 completed. Train Loss = 0.0174 | Val Loss = 0.0181. Time taken: 1.57s\n",
      "Epoch 13/30 - 100.00% complete\n",
      "Epoch 13 completed. Train Loss = 0.0176 | Val Loss = 0.0198. Time taken: 1.45s\n",
      "Epoch 14/30 - 100.00% complete\n",
      "Epoch 14 completed. Train Loss = 0.0172 | Val Loss = 0.0188. Time taken: 1.53s\n",
      "Epoch 15/30 - 100.00% complete\n",
      "Epoch 15 completed. Train Loss = 0.0169 | Val Loss = 0.0177. Time taken: 2.03s\n",
      "Epoch 16/30 - 100.00% complete\n",
      "Epoch 16 completed. Train Loss = 0.0175 | Val Loss = 0.0178. Time taken: 1.85s\n",
      "Epoch 17/30 - 100.00% complete\n",
      "Epoch 17 completed. Train Loss = 0.0167 | Val Loss = 0.0177. Time taken: 1.52s\n",
      "Epoch 18/30 - 100.00% complete\n",
      "Epoch 18 completed. Train Loss = 0.0173 | Val Loss = 0.0179. Time taken: 1.52s\n",
      "Epoch 19/30 - 100.00% complete\n",
      "Epoch 19 completed. Train Loss = 0.0166 | Val Loss = 0.0179. Time taken: 1.49s\n",
      "Epoch 20/30 - 100.00% complete\n",
      "Epoch 20 completed. Train Loss = 0.0166 | Val Loss = 0.0173. Time taken: 1.51s\n",
      "Epoch 21/30 - 100.00% complete\n",
      "Epoch 21 completed. Train Loss = 0.0163 | Val Loss = 0.0179. Time taken: 1.53s\n",
      "Epoch 22/30 - 100.00% complete\n",
      "Epoch 22 completed. Train Loss = 0.0166 | Val Loss = 0.0173. Time taken: 1.51s\n",
      "Epoch 23/30 - 100.00% complete\n",
      "Epoch 23 completed. Train Loss = 0.0164 | Val Loss = 0.0168. Time taken: 1.86s\n",
      "Epoch 24/30 - 100.00% complete\n",
      "Epoch 24 completed. Train Loss = 0.0169 | Val Loss = 0.0172. Time taken: 1.82s\n",
      "Epoch 25/30 - 100.00% complete\n",
      "Epoch 25 completed. Train Loss = 0.0161 | Val Loss = 0.0168. Time taken: 1.66s\n",
      "Epoch 26/30 - 100.00% complete\n",
      "Epoch 26 completed. Train Loss = 0.0159 | Val Loss = 0.0166. Time taken: 1.54s\n",
      "Epoch 27/30 - 100.00% complete\n",
      "Epoch 27 completed. Train Loss = 0.0158 | Val Loss = 0.0163. Time taken: 1.53s\n",
      "Epoch 28/30 - 100.00% complete\n",
      "Epoch 28 completed. Train Loss = 0.0158 | Val Loss = 0.0164. Time taken: 1.56s\n",
      "Epoch 29/30 - 100.00% complete\n",
      "Epoch 29 completed. Train Loss = 0.0157 | Val Loss = 0.0191. Time taken: 1.53s\n",
      "Epoch 30/30 - 100.00% complete\n",
      "Epoch 30 completed. Train Loss = 0.0157 | Val Loss = 0.0172. Time taken: 1.51s\n",
      "Fold 5 completed. Final train loss: 0.0157 | Final val loss: 0.0172\n",
      "\n",
      "--- K-Fold CV completed ---\n",
      "Average final train loss: 0.0158\n",
      "Average final val loss: 0.0161\n",
      "Outer fold 1, param set 1/1: Risk = 0.0161\n",
      "\n",
      "Selected best hyperparameters (avg risk 0.0161): {'lr': 0.01, 'n_hidden': 64, 'epochs': 30}\n",
      "\n",
      "--- Fold 1/5 ---\n",
      "Epoch 1/30 - 100.00% complete\n",
      "Epoch 1 completed. Train Loss = 0.0452 | Val Loss = 0.0168. Time taken: 1.68s\n",
      "Epoch 2/30 - 100.00% complete\n",
      "Epoch 2 completed. Train Loss = 0.0187 | Val Loss = 0.0177. Time taken: 1.85s\n",
      "Epoch 3/30 - 100.00% complete\n",
      "Epoch 3 completed. Train Loss = 0.0182 | Val Loss = 0.0171. Time taken: 1.88s\n",
      "Epoch 4/30 - 100.00% complete\n",
      "Epoch 4 completed. Train Loss = 0.0183 | Val Loss = 0.0169. Time taken: 1.50s\n",
      "Epoch 5/30 - 100.00% complete\n",
      "Epoch 5 completed. Train Loss = 0.0182 | Val Loss = 0.0175. Time taken: 1.50s\n",
      "Epoch 6/30 - 100.00% complete\n",
      "Epoch 6 completed. Train Loss = 0.0189 | Val Loss = 0.0211. Time taken: 1.56s\n",
      "Epoch 7/30 - 100.00% complete\n",
      "Epoch 7 completed. Train Loss = 0.0172 | Val Loss = 0.0160. Time taken: 1.58s\n",
      "Epoch 8/30 - 100.00% complete\n",
      "Epoch 8 completed. Train Loss = 0.0170 | Val Loss = 0.0216. Time taken: 1.53s\n",
      "Epoch 9/30 - 100.00% complete\n",
      "Epoch 9 completed. Train Loss = 0.0175 | Val Loss = 0.0161. Time taken: 1.54s\n",
      "Epoch 10/30 - 100.00% complete\n",
      "Epoch 10 completed. Train Loss = 0.0174 | Val Loss = 0.0171. Time taken: 2.02s\n",
      "Epoch 11/30 - 100.00% complete\n",
      "Epoch 11 completed. Train Loss = 0.0170 | Val Loss = 0.0169. Time taken: 1.89s\n",
      "Epoch 12/30 - 100.00% complete\n",
      "Epoch 12 completed. Train Loss = 0.0163 | Val Loss = 0.0157. Time taken: 1.55s\n",
      "Epoch 13/30 - 100.00% complete\n",
      "Epoch 13 completed. Train Loss = 0.0161 | Val Loss = 0.0154. Time taken: 1.55s\n",
      "Epoch 14/30 - 100.00% complete\n",
      "Epoch 14 completed. Train Loss = 0.0162 | Val Loss = 0.0154. Time taken: 1.52s\n",
      "Epoch 15/30 - 100.00% complete\n",
      "Epoch 15 completed. Train Loss = 0.0162 | Val Loss = 0.0154. Time taken: 1.59s\n",
      "Epoch 16/30 - 100.00% complete\n",
      "Epoch 16 completed. Train Loss = 0.0162 | Val Loss = 0.0163. Time taken: 1.48s\n",
      "Epoch 17/30 - 100.00% complete\n",
      "Epoch 17 completed. Train Loss = 0.0158 | Val Loss = 0.0160. Time taken: 1.52s\n",
      "Epoch 18/30 - 100.00% complete\n",
      "Epoch 18 completed. Train Loss = 0.0156 | Val Loss = 0.0151. Time taken: 1.84s\n",
      "Epoch 19/30 - 100.00% complete\n",
      "Epoch 19 completed. Train Loss = 0.0155 | Val Loss = 0.0152. Time taken: 1.83s\n",
      "Epoch 20/30 - 100.00% complete\n",
      "Epoch 20 completed. Train Loss = 0.0159 | Val Loss = 0.0155. Time taken: 1.76s\n",
      "Epoch 21/30 - 100.00% complete\n",
      "Epoch 21 completed. Train Loss = 0.0156 | Val Loss = 0.0158. Time taken: 1.54s\n",
      "Epoch 22/30 - 100.00% complete\n",
      "Epoch 22 completed. Train Loss = 0.0156 | Val Loss = 0.0150. Time taken: 1.50s\n",
      "Epoch 23/30 - 100.00% complete\n",
      "Epoch 23 completed. Train Loss = 0.0153 | Val Loss = 0.0151. Time taken: 1.50s\n",
      "Epoch 24/30 - 100.00% complete\n",
      "Epoch 24 completed. Train Loss = 0.0153 | Val Loss = 0.0153. Time taken: 1.53s\n",
      "Epoch 25/30 - 100.00% complete\n",
      "Epoch 25 completed. Train Loss = 0.0153 | Val Loss = 0.0157. Time taken: 1.56s\n",
      "Epoch 26/30 - 100.00% complete\n",
      "Epoch 26 completed. Train Loss = 0.0155 | Val Loss = 0.0147. Time taken: 1.48s\n",
      "Epoch 27/30 - 100.00% complete\n",
      "Epoch 27 completed. Train Loss = 0.0149 | Val Loss = 0.0149. Time taken: 2.01s\n",
      "Epoch 28/30 - 100.00% complete\n",
      "Epoch 28 completed. Train Loss = 0.0151 | Val Loss = 0.0148. Time taken: 1.92s\n",
      "Epoch 29/30 - 100.00% complete\n",
      "Epoch 29 completed. Train Loss = 0.0151 | Val Loss = 0.0156. Time taken: 1.59s\n",
      "Epoch 30/30 - 100.00% complete\n",
      "Epoch 30 completed. Train Loss = 0.0150 | Val Loss = 0.0147. Time taken: 1.51s\n",
      "Fold 1 completed. Final train loss: 0.0150 | Final val loss: 0.0147\n",
      "\n",
      "--- Fold 2/5 ---\n",
      "Epoch 1/30 - 100.00% complete\n",
      "Epoch 1 completed. Train Loss = 0.0443 | Val Loss = 0.0190. Time taken: 1.64s\n",
      "Epoch 2/30 - 100.00% complete\n",
      "Epoch 2 completed. Train Loss = 0.0181 | Val Loss = 0.0206. Time taken: 1.50s\n",
      "Epoch 3/30 - 100.00% complete\n",
      "Epoch 3 completed. Train Loss = 0.0177 | Val Loss = 0.0194. Time taken: 1.54s\n",
      "Epoch 4/30 - 100.00% complete\n",
      "Epoch 4 completed. Train Loss = 0.0175 | Val Loss = 0.0183. Time taken: 1.61s\n",
      "Epoch 5/30 - 100.00% complete\n",
      "Epoch 5 completed. Train Loss = 0.0185 | Val Loss = 0.0182. Time taken: 1.77s\n",
      "Epoch 6/30 - 100.00% complete\n",
      "Epoch 6 completed. Train Loss = 0.0174 | Val Loss = 0.0190. Time taken: 1.96s\n",
      "Epoch 7/30 - 100.00% complete\n",
      "Epoch 7 completed. Train Loss = 0.0175 | Val Loss = 0.0180. Time taken: 1.74s\n",
      "Epoch 8/30 - 100.00% complete\n",
      "Epoch 8 completed. Train Loss = 0.0184 | Val Loss = 0.0192. Time taken: 1.51s\n",
      "Epoch 9/30 - 100.00% complete\n",
      "Epoch 9 completed. Train Loss = 0.0174 | Val Loss = 0.0191. Time taken: 1.54s\n",
      "Epoch 10/30 - 100.00% complete\n",
      "Epoch 10 completed. Train Loss = 0.0174 | Val Loss = 0.0235. Time taken: 1.55s\n",
      "Epoch 11/30 - 100.00% complete\n",
      "Epoch 11 completed. Train Loss = 0.0171 | Val Loss = 0.0176. Time taken: 1.53s\n",
      "Epoch 12/30 - 100.00% complete\n",
      "Epoch 12 completed. Train Loss = 0.0169 | Val Loss = 0.0177. Time taken: 1.53s\n",
      "Epoch 13/30 - 100.00% complete\n",
      "Epoch 13 completed. Train Loss = 0.0175 | Val Loss = 0.0178. Time taken: 1.72s\n",
      "Epoch 14/30 - 100.00% complete\n",
      "Epoch 14 completed. Train Loss = 0.0166 | Val Loss = 0.0171. Time taken: 1.96s\n",
      "Epoch 15/30 - 100.00% complete\n",
      "Epoch 15 completed. Train Loss = 0.0173 | Val Loss = 0.0170. Time taken: 1.88s\n",
      "Epoch 16/30 - 100.00% complete\n",
      "Epoch 16 completed. Train Loss = 0.0160 | Val Loss = 0.0167. Time taken: 1.60s\n",
      "Epoch 17/30 - 100.00% complete\n",
      "Epoch 17 completed. Train Loss = 0.0160 | Val Loss = 0.0168. Time taken: 1.49s\n",
      "Epoch 18/30 - 100.00% complete\n",
      "Epoch 18 completed. Train Loss = 0.0157 | Val Loss = 0.0163. Time taken: 1.49s\n",
      "Epoch 19/30 - 100.00% complete\n",
      "Epoch 19 completed. Train Loss = 0.0157 | Val Loss = 0.0174. Time taken: 1.49s\n",
      "Epoch 20/30 - 100.00% complete\n",
      "Epoch 20 completed. Train Loss = 0.0155 | Val Loss = 0.0176. Time taken: 1.58s\n",
      "Epoch 21/30 - 100.00% complete\n",
      "Epoch 21 completed. Train Loss = 0.0154 | Val Loss = 0.0158. Time taken: 1.45s\n",
      "Epoch 22/30 - 100.00% complete\n",
      "Epoch 22 completed. Train Loss = 0.0156 | Val Loss = 0.0162. Time taken: 1.92s\n",
      "Epoch 23/30 - 100.00% complete\n",
      "Epoch 23 completed. Train Loss = 0.0152 | Val Loss = 0.0158. Time taken: 1.88s\n",
      "Epoch 24/30 - 100.00% complete\n",
      "Epoch 24 completed. Train Loss = 0.0156 | Val Loss = 0.0160. Time taken: 1.59s\n",
      "Epoch 25/30 - 100.00% complete\n",
      "Epoch 25 completed. Train Loss = 0.0153 | Val Loss = 0.0158. Time taken: 1.52s\n",
      "Epoch 26/30 - 100.00% complete\n",
      "Epoch 26 completed. Train Loss = 0.0152 | Val Loss = 0.0164. Time taken: 1.51s\n",
      "Epoch 27/30 - 100.00% complete\n",
      "Epoch 27 completed. Train Loss = 0.0151 | Val Loss = 0.0162. Time taken: 1.51s\n",
      "Epoch 28/30 - 100.00% complete\n",
      "Epoch 28 completed. Train Loss = 0.0151 | Val Loss = 0.0155. Time taken: 1.56s\n",
      "Epoch 29/30 - 100.00% complete\n",
      "Epoch 29 completed. Train Loss = 0.0149 | Val Loss = 0.0167. Time taken: 1.45s\n",
      "Epoch 30/30 - 100.00% complete\n",
      "Epoch 30 completed. Train Loss = 0.0151 | Val Loss = 0.0161. Time taken: 1.64s\n",
      "Fold 2 completed. Final train loss: 0.0151 | Final val loss: 0.0161\n",
      "\n",
      "--- Fold 3/5 ---\n",
      "Epoch 1/30 - 100.00% complete\n",
      "Epoch 1 completed. Train Loss = 0.0458 | Val Loss = 0.0192. Time taken: 1.99s\n",
      "Epoch 2/30 - 100.00% complete\n",
      "Epoch 2 completed. Train Loss = 0.0182 | Val Loss = 0.0187. Time taken: 1.80s\n",
      "Epoch 3/30 - 100.00% complete\n",
      "Epoch 3 completed. Train Loss = 0.0179 | Val Loss = 0.0176. Time taken: 1.51s\n",
      "Epoch 4/30 - 100.00% complete\n",
      "Epoch 4 completed. Train Loss = 0.0180 | Val Loss = 0.0174. Time taken: 1.56s\n",
      "Epoch 5/30 - 100.00% complete\n",
      "Epoch 5 completed. Train Loss = 0.0179 | Val Loss = 0.0175. Time taken: 1.49s\n",
      "Epoch 6/30 - 100.00% complete\n",
      "Epoch 6 completed. Train Loss = 0.0179 | Val Loss = 0.0172. Time taken: 1.50s\n",
      "Epoch 7/30 - 100.00% complete\n",
      "Epoch 7 completed. Train Loss = 0.0175 | Val Loss = 0.0171. Time taken: 1.52s\n",
      "Epoch 8/30 - 100.00% complete\n",
      "Epoch 8 completed. Train Loss = 0.0176 | Val Loss = 0.0170. Time taken: 1.52s\n",
      "Epoch 9/30 - 100.00% complete\n",
      "Epoch 9 completed. Train Loss = 0.0176 | Val Loss = 0.0176. Time taken: 1.90s\n",
      "Epoch 10/30 - 100.00% complete\n",
      "Epoch 10 completed. Train Loss = 0.0173 | Val Loss = 0.0184. Time taken: 1.88s\n",
      "Epoch 11/30 - 100.00% complete\n",
      "Epoch 11 completed. Train Loss = 0.0177 | Val Loss = 0.0175. Time taken: 1.64s\n",
      "Epoch 12/30 - 100.00% complete\n",
      "Epoch 12 completed. Train Loss = 0.0173 | Val Loss = 0.0170. Time taken: 1.48s\n",
      "Epoch 13/30 - 100.00% complete\n",
      "Epoch 13 completed. Train Loss = 0.0171 | Val Loss = 0.0167. Time taken: 1.53s\n",
      "Epoch 14/30 - 100.00% complete\n",
      "Epoch 14 completed. Train Loss = 0.0169 | Val Loss = 0.0167. Time taken: 1.49s\n",
      "Epoch 15/30 - 100.00% complete\n",
      "Epoch 15 completed. Train Loss = 0.0165 | Val Loss = 0.0164. Time taken: 1.46s\n",
      "Epoch 16/30 - 100.00% complete\n",
      "Epoch 16 completed. Train Loss = 0.0171 | Val Loss = 0.0162. Time taken: 1.55s\n",
      "Epoch 17/30 - 100.00% complete\n",
      "Epoch 17 completed. Train Loss = 0.0165 | Val Loss = 0.0158. Time taken: 1.54s\n",
      "Epoch 18/30 - 100.00% complete\n",
      "Epoch 18 completed. Train Loss = 0.0161 | Val Loss = 0.0162. Time taken: 1.96s\n",
      "Epoch 19/30 - 100.00% complete\n",
      "Epoch 19 completed. Train Loss = 0.0161 | Val Loss = 0.0171. Time taken: 1.91s\n",
      "Epoch 20/30 - 100.00% complete\n",
      "Epoch 20 completed. Train Loss = 0.0160 | Val Loss = 0.0164. Time taken: 1.50s\n",
      "Epoch 21/30 - 100.00% complete\n",
      "Epoch 21 completed. Train Loss = 0.0155 | Val Loss = 0.0152. Time taken: 1.54s\n",
      "Epoch 22/30 - 100.00% complete\n",
      "Epoch 22 completed. Train Loss = 0.0155 | Val Loss = 0.0153. Time taken: 1.50s\n",
      "Epoch 23/30 - 100.00% complete\n",
      "Epoch 23 completed. Train Loss = 0.0156 | Val Loss = 0.0153. Time taken: 1.51s\n",
      "Epoch 24/30 - 100.00% complete\n",
      "Epoch 24 completed. Train Loss = 0.0152 | Val Loss = 0.0163. Time taken: 1.54s\n",
      "Epoch 25/30 - 100.00% complete\n",
      "Epoch 25 completed. Train Loss = 0.0154 | Val Loss = 0.0152. Time taken: 1.50s\n",
      "Epoch 26/30 - 100.00% complete\n",
      "Epoch 26 completed. Train Loss = 0.0157 | Val Loss = 0.0151. Time taken: 1.78s\n",
      "Epoch 27/30 - 100.00% complete\n",
      "Epoch 27 completed. Train Loss = 0.0152 | Val Loss = 0.0149. Time taken: 1.91s\n",
      "Epoch 28/30 - 100.00% complete\n",
      "Epoch 28 completed. Train Loss = 0.0154 | Val Loss = 0.0150. Time taken: 1.75s\n",
      "Epoch 29/30 - 100.00% complete\n",
      "Epoch 29 completed. Train Loss = 0.0153 | Val Loss = 0.0159. Time taken: 1.54s\n",
      "Epoch 30/30 - 100.00% complete\n",
      "Epoch 30 completed. Train Loss = 0.0151 | Val Loss = 0.0152. Time taken: 1.51s\n",
      "Fold 3 completed. Final train loss: 0.0151 | Final val loss: 0.0152\n",
      "\n",
      "--- Fold 4/5 ---\n",
      "Epoch 1/30 - 100.00% complete\n",
      "Epoch 1 completed. Train Loss = 0.0467 | Val Loss = 0.0169. Time taken: 1.51s\n",
      "Epoch 2/30 - 100.00% complete\n",
      "Epoch 2 completed. Train Loss = 0.0185 | Val Loss = 0.0164. Time taken: 1.54s\n",
      "Epoch 3/30 - 100.00% complete\n",
      "Epoch 3 completed. Train Loss = 0.0185 | Val Loss = 0.0163. Time taken: 1.47s\n",
      "Epoch 4/30 - 100.00% complete\n",
      "Epoch 4 completed. Train Loss = 0.0182 | Val Loss = 0.0163. Time taken: 1.57s\n",
      "Epoch 5/30 - 100.00% complete\n",
      "Epoch 5 completed. Train Loss = 0.0185 | Val Loss = 0.0163. Time taken: 1.92s\n",
      "Epoch 6/30 - 100.00% complete\n",
      "Epoch 6 completed. Train Loss = 0.0189 | Val Loss = 0.0161. Time taken: 1.75s\n",
      "Epoch 7/30 - 100.00% complete\n",
      "Epoch 7 completed. Train Loss = 0.0179 | Val Loss = 0.0177. Time taken: 1.67s\n",
      "Epoch 8/30 - 100.00% complete\n",
      "Epoch 8 completed. Train Loss = 0.0178 | Val Loss = 0.0158. Time taken: 1.52s\n",
      "Epoch 9/30 - 100.00% complete\n",
      "Epoch 9 completed. Train Loss = 0.0176 | Val Loss = 0.0161. Time taken: 1.55s\n",
      "Epoch 10/30 - 100.00% complete\n",
      "Epoch 10 completed. Train Loss = 0.0180 | Val Loss = 0.0161. Time taken: 1.51s\n",
      "Epoch 11/30 - 100.00% complete\n",
      "Epoch 11 completed. Train Loss = 0.0177 | Val Loss = 0.0161. Time taken: 1.48s\n",
      "Epoch 12/30 - 100.00% complete\n",
      "Epoch 12 completed. Train Loss = 0.0170 | Val Loss = 0.0156. Time taken: 1.57s\n",
      "Epoch 13/30 - 100.00% complete\n",
      "Epoch 13 completed. Train Loss = 0.0179 | Val Loss = 0.0155. Time taken: 1.61s\n",
      "Epoch 14/30 - 100.00% complete\n",
      "Epoch 14 completed. Train Loss = 0.0172 | Val Loss = 0.0152. Time taken: 1.90s\n",
      "Epoch 15/30 - 100.00% complete\n",
      "Epoch 15 completed. Train Loss = 0.0172 | Val Loss = 0.0167. Time taken: 1.90s\n",
      "Epoch 16/30 - 100.00% complete\n",
      "Epoch 16 completed. Train Loss = 0.0170 | Val Loss = 0.0151. Time taken: 1.59s\n",
      "Epoch 17/30 - 100.00% complete\n",
      "Epoch 17 completed. Train Loss = 0.0169 | Val Loss = 0.0157. Time taken: 1.48s\n",
      "Epoch 18/30 - 100.00% complete\n",
      "Epoch 18 completed. Train Loss = 0.0167 | Val Loss = 0.0147. Time taken: 1.56s\n",
      "Epoch 19/30 - 100.00% complete\n",
      "Epoch 19 completed. Train Loss = 0.0165 | Val Loss = 0.0177. Time taken: 1.51s\n",
      "Epoch 20/30 - 100.00% complete\n",
      "Epoch 20 completed. Train Loss = 0.0167 | Val Loss = 0.0149. Time taken: 1.50s\n",
      "Epoch 21/30 - 100.00% complete\n",
      "Epoch 21 completed. Train Loss = 0.0165 | Val Loss = 0.0144. Time taken: 1.50s\n",
      "Epoch 22/30 - 100.00% complete\n",
      "Epoch 22 completed. Train Loss = 0.0161 | Val Loss = 0.0143. Time taken: 1.75s\n",
      "Epoch 23/30 - 100.00% complete\n",
      "Epoch 23 completed. Train Loss = 0.0159 | Val Loss = 0.0142. Time taken: 1.92s\n",
      "Epoch 24/30 - 100.00% complete\n",
      "Epoch 24 completed. Train Loss = 0.0158 | Val Loss = 0.0141. Time taken: 1.85s\n",
      "Epoch 25/30 - 100.00% complete\n",
      "Epoch 25 completed. Train Loss = 0.0157 | Val Loss = 0.0141. Time taken: 1.49s\n",
      "Epoch 26/30 - 100.00% complete\n",
      "Epoch 26 completed. Train Loss = 0.0156 | Val Loss = 0.0141. Time taken: 1.64s\n",
      "Epoch 27/30 - 100.00% complete\n",
      "Epoch 27 completed. Train Loss = 0.0157 | Val Loss = 0.0153. Time taken: 1.54s\n",
      "Epoch 28/30 - 100.00% complete\n",
      "Epoch 28 completed. Train Loss = 0.0156 | Val Loss = 0.0142. Time taken: 1.58s\n",
      "Epoch 29/30 - 100.00% complete\n",
      "Epoch 29 completed. Train Loss = 0.0156 | Val Loss = 0.0141. Time taken: 1.51s\n",
      "Epoch 30/30 - 100.00% complete\n",
      "Epoch 30 completed. Train Loss = 0.0154 | Val Loss = 0.0139. Time taken: 1.58s\n",
      "Fold 4 completed. Final train loss: 0.0154 | Final val loss: 0.0139\n",
      "\n",
      "--- Fold 5/5 ---\n",
      "Epoch 1/30 - 100.00% complete\n",
      "Epoch 1 completed. Train Loss = 0.0477 | Val Loss = 0.0187. Time taken: 1.85s\n",
      "Epoch 2/30 - 100.00% complete\n",
      "Epoch 2 completed. Train Loss = 0.0181 | Val Loss = 0.0195. Time taken: 1.80s\n",
      "Epoch 3/30 - 100.00% complete\n",
      "Epoch 3 completed. Train Loss = 0.0176 | Val Loss = 0.0188. Time taken: 1.59s\n",
      "Epoch 4/30 - 100.00% complete\n",
      "Epoch 4 completed. Train Loss = 0.0180 | Val Loss = 0.0189. Time taken: 1.60s\n",
      "Epoch 5/30 - 100.00% complete\n",
      "Epoch 5 completed. Train Loss = 0.0181 | Val Loss = 0.0191. Time taken: 1.50s\n",
      "Epoch 6/30 - 100.00% complete\n",
      "Epoch 6 completed. Train Loss = 0.0175 | Val Loss = 0.0186. Time taken: 1.57s\n",
      "Epoch 7/30 - 100.00% complete\n",
      "Epoch 7 completed. Train Loss = 0.0175 | Val Loss = 0.0193. Time taken: 1.57s\n",
      "Epoch 8/30 - 100.00% complete\n",
      "Epoch 8 completed. Train Loss = 0.0177 | Val Loss = 0.0179. Time taken: 1.58s\n",
      "Epoch 9/30 - 100.00% complete\n",
      "Epoch 9 completed. Train Loss = 0.0173 | Val Loss = 0.0178. Time taken: 1.70s\n",
      "Epoch 10/30 - 100.00% complete\n",
      "Epoch 10 completed. Train Loss = 0.0170 | Val Loss = 0.0181. Time taken: 1.92s\n",
      "Epoch 11/30 - 100.00% complete\n",
      "Epoch 11 completed. Train Loss = 0.0166 | Val Loss = 0.0186. Time taken: 1.87s\n",
      "Epoch 12/30 - 100.00% complete\n",
      "Epoch 12 completed. Train Loss = 0.0170 | Val Loss = 0.0187. Time taken: 1.51s\n",
      "Epoch 13/30 - 100.00% complete\n",
      "Epoch 13 completed. Train Loss = 0.0171 | Val Loss = 0.0193. Time taken: 1.57s\n",
      "Epoch 14/30 - 100.00% complete\n",
      "Epoch 14 completed. Train Loss = 0.0167 | Val Loss = 0.0176. Time taken: 1.49s\n",
      "Epoch 15/30 - 100.00% complete\n",
      "Epoch 15 completed. Train Loss = 0.0165 | Val Loss = 0.0179. Time taken: 1.57s\n",
      "Epoch 16/30 - 100.00% complete\n",
      "Epoch 16 completed. Train Loss = 0.0170 | Val Loss = 0.0180. Time taken: 1.47s\n",
      "Epoch 17/30 - 100.00% complete\n",
      "Epoch 17 completed. Train Loss = 0.0161 | Val Loss = 0.0181. Time taken: 1.55s\n",
      "Epoch 18/30 - 100.00% complete\n",
      "Epoch 18 completed. Train Loss = 0.0164 | Val Loss = 0.0168. Time taken: 1.70s\n",
      "Epoch 19/30 - 100.00% complete\n",
      "Epoch 19 completed. Train Loss = 0.0159 | Val Loss = 0.0179. Time taken: 1.89s\n",
      "Epoch 20/30 - 100.00% complete\n",
      "Epoch 20 completed. Train Loss = 0.0161 | Val Loss = 0.0178. Time taken: 1.81s\n",
      "Epoch 21/30 - 100.00% complete\n",
      "Epoch 21 completed. Train Loss = 0.0159 | Val Loss = 0.0166. Time taken: 1.56s\n",
      "Epoch 22/30 - 100.00% complete\n",
      "Epoch 22 completed. Train Loss = 0.0154 | Val Loss = 0.0168. Time taken: 1.46s\n",
      "Epoch 23/30 - 100.00% complete\n",
      "Epoch 23 completed. Train Loss = 0.0153 | Val Loss = 0.0174. Time taken: 1.63s\n",
      "Epoch 24/30 - 100.00% complete\n",
      "Epoch 24 completed. Train Loss = 0.0155 | Val Loss = 0.0165. Time taken: 1.52s\n",
      "Epoch 25/30 - 100.00% complete\n",
      "Epoch 25 completed. Train Loss = 0.0153 | Val Loss = 0.0160. Time taken: 1.62s\n",
      "Epoch 26/30 - 100.00% complete\n",
      "Epoch 26 completed. Train Loss = 0.0151 | Val Loss = 0.0164. Time taken: 1.53s\n",
      "Epoch 27/30 - 100.00% complete\n",
      "Epoch 27 completed. Train Loss = 0.0150 | Val Loss = 0.0158. Time taken: 2.10s\n",
      "Epoch 28/30 - 100.00% complete\n",
      "Epoch 28 completed. Train Loss = 0.0151 | Val Loss = 0.0158. Time taken: 1.94s\n",
      "Epoch 29/30 - 100.00% complete\n",
      "Epoch 29 completed. Train Loss = 0.0150 | Val Loss = 0.0161. Time taken: 1.58s\n",
      "Epoch 30/30 - 100.00% complete\n",
      "Epoch 30 completed. Train Loss = 0.0152 | Val Loss = 0.0160. Time taken: 1.56s\n",
      "Fold 5 completed. Final train loss: 0.0152 | Final val loss: 0.0160\n",
      "\n",
      "--- K-Fold CV completed ---\n",
      "Average final train loss: 0.0151\n",
      "Average final val loss: 0.0152\n",
      "\n",
      "Fitting final model on entire dataset\n",
      "Epoch 1/30 - 100.00% complete\n",
      "Epoch 1 completed. Train Loss = 0.0412 | Val Loss = 0.0177. Time taken: 2.64s\n",
      "Epoch 2/30 - 100.00% complete\n",
      "Epoch 2 completed. Train Loss = 0.0179 | Val Loss = 0.0181. Time taken: 2.68s\n",
      "Epoch 3/30 - 100.00% complete\n",
      "Epoch 3 completed. Train Loss = 0.0180 | Val Loss = 0.0192. Time taken: 3.18s\n",
      "Epoch 4/30 - 100.00% complete\n",
      "Epoch 4 completed. Train Loss = 0.0179 | Val Loss = 0.0188. Time taken: 3.11s\n",
      "Epoch 5/30 - 100.00% complete\n",
      "Epoch 5 completed. Train Loss = 0.0178 | Val Loss = 0.0204. Time taken: 2.68s\n",
      "Epoch 6/30 - 100.00% complete\n",
      "Epoch 6 completed. Train Loss = 0.0174 | Val Loss = 0.0178. Time taken: 2.64s\n",
      "Epoch 7/30 - 100.00% complete\n",
      "Epoch 7 completed. Train Loss = 0.0173 | Val Loss = 0.0167. Time taken: 2.76s\n",
      "Epoch 8/30 - 100.00% complete\n",
      "Epoch 8 completed. Train Loss = 0.0171 | Val Loss = 0.0175. Time taken: 3.28s\n",
      "Epoch 9/30 - 100.00% complete\n",
      "Epoch 9 completed. Train Loss = 0.0173 | Val Loss = 0.0169. Time taken: 2.91s\n",
      "Epoch 10/30 - 100.00% complete\n",
      "Epoch 10 completed. Train Loss = 0.0175 | Val Loss = 0.0179. Time taken: 2.72s\n",
      "Epoch 11/30 - 100.00% complete\n",
      "Epoch 11 completed. Train Loss = 0.0172 | Val Loss = 0.0172. Time taken: 2.72s\n",
      "Epoch 12/30 - 100.00% complete\n",
      "Epoch 12 completed. Train Loss = 0.0172 | Val Loss = 0.0165. Time taken: 2.67s\n",
      "Epoch 13/30 - 100.00% complete\n",
      "Epoch 13 completed. Train Loss = 0.0174 | Val Loss = 0.0161. Time taken: 3.35s\n",
      "Epoch 14/30 - 100.00% complete\n",
      "Epoch 14 completed. Train Loss = 0.0164 | Val Loss = 0.0164. Time taken: 2.88s\n",
      "Epoch 15/30 - 100.00% complete\n",
      "Epoch 15 completed. Train Loss = 0.0162 | Val Loss = 0.0196. Time taken: 2.71s\n",
      "Epoch 16/30 - 100.00% complete\n",
      "Epoch 16 completed. Train Loss = 0.0161 | Val Loss = 0.0155. Time taken: 2.67s\n",
      "Epoch 17/30 - 100.00% complete\n",
      "Epoch 17 completed. Train Loss = 0.0157 | Val Loss = 0.0154. Time taken: 2.92s\n",
      "Epoch 18/30 - 100.00% complete\n",
      "Epoch 18 completed. Train Loss = 0.0158 | Val Loss = 0.0150. Time taken: 3.39s\n",
      "Epoch 19/30 - 100.00% complete\n",
      "Epoch 19 completed. Train Loss = 0.0156 | Val Loss = 0.0151. Time taken: 2.68s\n",
      "Epoch 20/30 - 100.00% complete\n",
      "Epoch 20 completed. Train Loss = 0.0153 | Val Loss = 0.0149. Time taken: 2.71s\n",
      "Epoch 21/30 - 100.00% complete\n",
      "Epoch 21 completed. Train Loss = 0.0153 | Val Loss = 0.0161. Time taken: 2.72s\n",
      "Epoch 22/30 - 100.00% complete\n",
      "Epoch 22 completed. Train Loss = 0.0153 | Val Loss = 0.0153. Time taken: 3.14s\n",
      "Epoch 23/30 - 100.00% complete\n",
      "Epoch 23 completed. Train Loss = 0.0152 | Val Loss = 0.0148. Time taken: 3.12s\n",
      "Epoch 24/30 - 100.00% complete\n",
      "Epoch 24 completed. Train Loss = 0.0152 | Val Loss = 0.0151. Time taken: 2.76s\n",
      "Epoch 25/30 - 100.00% complete\n",
      "Epoch 25 completed. Train Loss = 0.0153 | Val Loss = 0.0149. Time taken: 2.77s\n",
      "Epoch 26/30 - 100.00% complete\n",
      "Epoch 26 completed. Train Loss = 0.0150 | Val Loss = 0.0149. Time taken: 2.66s\n",
      "Epoch 27/30 - 100.00% complete\n",
      "Epoch 27 completed. Train Loss = 0.0150 | Val Loss = 0.0147. Time taken: 3.26s\n",
      "Epoch 28/30 - 100.00% complete\n",
      "Epoch 28 completed. Train Loss = 0.0149 | Val Loss = 0.0150. Time taken: 2.97s\n",
      "Epoch 29/30 - 100.00% complete\n",
      "Epoch 29 completed. Train Loss = 0.0148 | Val Loss = 0.0145. Time taken: 2.66s\n",
      "Epoch 30/30 - 100.00% complete\n",
      "Epoch 30 completed. Train Loss = 0.0149 | Val Loss = 0.0143. Time taken: 2.74s\n",
      "Final model empirical risk estimate on full dataset: 0.0152\n"
     ]
    }
   ],
   "source": [
    "(\n",
    "    pretrained_sero_gcn,\n",
    "    best_params_pretrained_sero_gcn,\n",
    "    final_R_est_pretrained_sero_gcn,\n",
    ") = nested_cv(\n",
    "    SeroGCN,\n",
    "    torch.optim.Adam,\n",
    "    torch.nn.MSELoss(),\n",
    "    hyperparam_grid,\n",
    "    filtered_pretraining_torch_data_list_10k,\n",
    "    k_outer=1,  # compute reasons\n",
    "    k_inner=5,\n",
    ")\n",
    "\n",
    "torch.save(\n",
    "    pretrained_sero_gcn.state_dict(),\n",
    "    PATH_WEIGHTS / \"pretrained_sero_gcn_pretrained_weights.pth\",\n",
    ")\n",
    "\n",
    "with open(PATH_WEIGHTS / \"best_params_pretrained_sero.json\", \"w\") as f:\n",
    "    json.dump(\n",
    "        {\n",
    "            \"best_params_pretrained_sero_gcn\": best_params_pretrained_sero_gcn,\n",
    "            \"final_R_est_pretrained_sero_gcn\": final_R_est_pretrained_sero_gcn,\n",
    "        },\n",
    "        f,\n",
    "    )"
   ]
  },
  {
   "cell_type": "markdown",
   "metadata": {
    "id": "CV86lS77hQoZ"
   },
   "source": [
    "#### (Pretraining: Full ZINC with Locked Hyperparameters)\n"
   ]
  },
  {
   "cell_type": "markdown",
   "metadata": {
    "id": "zBTj2oQfhQoZ"
   },
   "source": [
    "#### Fine-tuning on Serotonine Data\n"
   ]
  },
  {
   "cell_type": "code",
   "execution_count": null,
   "metadata": {
    "colab": {
     "base_uri": "https://localhost:8080/"
    },
    "executionInfo": {
     "elapsed": 39,
     "status": "ok",
     "timestamp": 1740315773552,
     "user": {
      "displayName": "Paul Utsch",
      "userId": "03470855315435454824"
     },
     "user_tz": -60
    },
    "id": "_3qGyoEMU09K",
    "outputId": "1039f17b-8a96-4c74-88e6-58209f77d4cf"
   },
   "outputs": [
    {
     "name": "stdout",
     "output_type": "stream",
     "text": [
      "SeroGCN does not exist – train it first\n"
     ]
    }
   ],
   "source": [
    "pickle_file_path = PATH_WEIGHTS / \"pretrained_sero_gcn_pretrained_weights.pth\"\n",
    "\n",
    "if os.path.exists(pickle_file_path) and not pretrained_sero_gcn:\n",
    "    print(\"Loading pretrained SeroGCN from weights file\")\n",
    "    pretrained_sero_gcn = torch.load(pickle_file_path, map_location=device)\n",
    "    print(\"Loaded pretrained SeroGCN from weights file\")\n",
    "else:\n",
    "    print(\"SeroGCN does not exist – train it first\")"
   ]
  },
  {
   "cell_type": "code",
   "execution_count": null,
   "metadata": {
    "id": "iX_8Qr17hQoZ"
   },
   "outputs": [],
   "source": [
    "_, final_val_losses_pretrained_sero_gcn = k_fold_cv(\n",
    "    initialized_model=pretrained_sero_gcn,\n",
    "    Optimizer=torch.optim.Adam,\n",
    "    criterion=torch.nn.MSELoss(),\n",
    "    dataset=filtered_torch_data_list_train,\n",
    "    k=5,\n",
    "    epochs=best_params_pretrained_sero_gcn[\"epochs\"],\n",
    "    batch_size=best_params_pretrained_sero_gcn[\"batch_size\"],\n",
    "    lr=best_params_pretrained_sero_gcn[\"lr\"],\n",
    "    fit_final_model=True,\n",
    ")\n",
    "\n",
    "torch.save(\n",
    "    pretrained_sero_gcn.state_dict(),\n",
    "    PATH_WEIGHTS / \"pretrained_sero_gcn_final_weights.pth\",\n",
    ")\n",
    "\n",
    "with open(PATH_WEIGHTS / \"best_params_pretrained_sero_final.json\", \"w\") as f:\n",
    "    json.dump(\n",
    "        {\n",
    "            \"best_params_pretrained_sero_gcn\": best_params_pretrained_sero_gcn,\n",
    "            \"final_R_est_pretrained_sero_gcn\": final_val_losses_pretrained_sero_gcn,\n",
    "        },\n",
    "        f,\n",
    "    )"
   ]
  },
  {
   "cell_type": "markdown",
   "metadata": {
    "id": "DxB4ngu_hQoZ"
   },
   "source": [
    "---\n",
    "\n",
    "## Test Set Evaluation\n"
   ]
  },
  {
   "cell_type": "markdown",
   "metadata": {
    "id": "YvTRLNdrhQoZ"
   },
   "source": [
    "---\n",
    "\n",
    "## Conclusion\n"
   ]
  }
 ],
 "metadata": {
  "accelerator": "GPU",
  "colab": {
   "gpuType": "T4",
   "name": "",
   "version": ""
  },
  "kernelspec": {
   "display_name": ".venv",
   "language": "python",
   "name": "python3"
  },
  "language_info": {
   "codemirror_mode": {
    "name": "ipython",
    "version": 3
   },
   "file_extension": ".py",
   "mimetype": "text/x-python",
   "name": "python",
   "nbconvert_exporter": "python",
   "pygments_lexer": "ipython3",
   "version": "3.13.2"
  }
 },
 "nbformat": 4,
 "nbformat_minor": 0
}
