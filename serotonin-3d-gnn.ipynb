{
  "cells": [
    {
      "cell_type": "markdown",
      "metadata": {
        "id": "6jiKdt3EYQ6d"
      },
      "source": [
        "# Serotonin 3D GNN Project\n"
      ]
    },
    {
      "cell_type": "markdown",
      "metadata": {
        "id": "gswc-LH5YWga"
      },
      "source": [
        "This project builds upon research done by Łapińska et al. (2024): https://doi.org/10.3390/pharmaceutics16030349\n",
        "\n",
        "Data used: https://ftp.ebi.ac.uk/pub/databases/chembl/ChEMBLdb/releases/chembl_35/\n",
        "\n",
        "Move the unpacked chembl_35_sqlite.tar.gz file into the data/ dir.\n",
        "\n",
        "The research linked above presents two Quantitative Structure-Activity Relationship (QSAR) models to predict serotonergic binding affinity and selectivity, respectively, using Mordred molecular 2D descriptors. Specifically, one model classifies compounds binarily as \"active\" or \"inactive\", with a cutoff of pKi = 7. Another model does multiclass classification to predict the serotonergic selectivity of compounds previously classified as \"active\".\n",
        "\n",
        "I am following a similar approach, but using 3D molecular graph representations instead of 2D molecular descriptors as input modality and using only the ChEMBL database, not ZINC.\n"
      ]
    },
    {
      "cell_type": "markdown",
      "metadata": {
        "id": "xGK0LMuRYC6g"
      },
      "source": [
        "---\n",
        "\n",
        "## Setup\n"
      ]
    },
    {
      "cell_type": "markdown",
      "metadata": {
        "id": "ugvkdqJgYMum"
      },
      "source": [
        "### Configuration & Google Drive/Colab Sync\n"
      ]
    },
    {
      "cell_type": "code",
      "execution_count": 17,
      "metadata": {
        "id": "q2XchrWsWuIk"
      },
      "outputs": [
        {
          "name": "stdout",
          "output_type": "stream",
          "text": [
            "Running locally\n"
          ]
        }
      ],
      "source": [
        "from pathlib import Path\n",
        "\n",
        "try:\n",
        "    from google.colab import drive\n",
        "\n",
        "    drive.mount(\"/content/drive\")\n",
        "    IN_COLAB = True\n",
        "except:\n",
        "    IN_COLAB = False\n",
        "\n",
        "print(f\"{'Running in Colab' if IN_COLAB else 'Running locally'}\")\n",
        "\n",
        "PATH_NOTEBOOK = (\n",
        "    Path(\"/content/drive/MyDrive/Colab Notebooks/serotonin-3d-gnn.ipynb\")\n",
        "    if IN_COLAB\n",
        "    else Path(\n",
        "        \"/Users/paul/Library/CloudStorage/GoogleDrive-unoutsch@gmail.com/My Drive/Colab Notebooks/serotonin-3d-gnn.ipynb\"\n",
        "    )\n",
        ")\n",
        "PATH_REPO = (\n",
        "    Path(\"/content/drive/MyDrive/Repositories/serotonin-3d-gnn\")\n",
        "    if IN_COLAB\n",
        "    else Path.cwd()\n",
        ")\n",
        "PATH_DATA = PATH_REPO / \"data\"\n",
        "PATH_WEIGHTS = PATH_REPO / \"weights\""
      ]
    },
    {
      "cell_type": "markdown",
      "metadata": {
        "id": "ko5Es7NyYw7W"
      },
      "source": [
        "### Installing Requirements\n"
      ]
    },
    {
      "cell_type": "code",
      "execution_count": 18,
      "metadata": {
        "id": "sPtfbBFEYwKR"
      },
      "outputs": [
        {
          "name": "stdout",
          "output_type": "stream",
          "text": [
            "Requirement already satisfied: matplotlib in ./.venv/lib/python3.13/site-packages (from -r /Users/paul/My Drive/Repositories/serotonin-3d-gnn/requirements.txt (line 1)) (3.10.0)\n",
            "Requirement already satisfied: numpy in ./.venv/lib/python3.13/site-packages (from -r /Users/paul/My Drive/Repositories/serotonin-3d-gnn/requirements.txt (line 2)) (2.2.3)\n",
            "Requirement already satisfied: pandas in ./.venv/lib/python3.13/site-packages (from -r /Users/paul/My Drive/Repositories/serotonin-3d-gnn/requirements.txt (line 3)) (2.2.3)\n",
            "Requirement already satisfied: rdkit in ./.venv/lib/python3.13/site-packages (from -r /Users/paul/My Drive/Repositories/serotonin-3d-gnn/requirements.txt (line 4)) (2024.9.5)\n",
            "Requirement already satisfied: scipy in ./.venv/lib/python3.13/site-packages (from -r /Users/paul/My Drive/Repositories/serotonin-3d-gnn/requirements.txt (line 5)) (1.15.2)\n",
            "Collecting scikit-learn (from -r /Users/paul/My Drive/Repositories/serotonin-3d-gnn/requirements.txt (line 6))\n",
            "  Downloading scikit_learn-1.6.1-cp313-cp313-macosx_12_0_arm64.whl.metadata (31 kB)\n",
            "Requirement already satisfied: torch in ./.venv/lib/python3.13/site-packages (from -r /Users/paul/My Drive/Repositories/serotonin-3d-gnn/requirements.txt (line 7)) (2.6.0)\n",
            "Requirement already satisfied: torch-geometric in ./.venv/lib/python3.13/site-packages (from -r /Users/paul/My Drive/Repositories/serotonin-3d-gnn/requirements.txt (line 8)) (2.6.1)\n",
            "Requirement already satisfied: contourpy>=1.0.1 in ./.venv/lib/python3.13/site-packages (from matplotlib->-r /Users/paul/My Drive/Repositories/serotonin-3d-gnn/requirements.txt (line 1)) (1.3.1)\n",
            "Requirement already satisfied: cycler>=0.10 in ./.venv/lib/python3.13/site-packages (from matplotlib->-r /Users/paul/My Drive/Repositories/serotonin-3d-gnn/requirements.txt (line 1)) (0.12.1)\n",
            "Requirement already satisfied: fonttools>=4.22.0 in ./.venv/lib/python3.13/site-packages (from matplotlib->-r /Users/paul/My Drive/Repositories/serotonin-3d-gnn/requirements.txt (line 1)) (4.56.0)\n",
            "Requirement already satisfied: kiwisolver>=1.3.1 in ./.venv/lib/python3.13/site-packages (from matplotlib->-r /Users/paul/My Drive/Repositories/serotonin-3d-gnn/requirements.txt (line 1)) (1.4.8)\n",
            "Requirement already satisfied: packaging>=20.0 in ./.venv/lib/python3.13/site-packages (from matplotlib->-r /Users/paul/My Drive/Repositories/serotonin-3d-gnn/requirements.txt (line 1)) (24.2)\n",
            "Requirement already satisfied: pillow>=8 in ./.venv/lib/python3.13/site-packages (from matplotlib->-r /Users/paul/My Drive/Repositories/serotonin-3d-gnn/requirements.txt (line 1)) (11.1.0)\n",
            "Requirement already satisfied: pyparsing>=2.3.1 in ./.venv/lib/python3.13/site-packages (from matplotlib->-r /Users/paul/My Drive/Repositories/serotonin-3d-gnn/requirements.txt (line 1)) (3.2.1)\n",
            "Requirement already satisfied: python-dateutil>=2.7 in ./.venv/lib/python3.13/site-packages (from matplotlib->-r /Users/paul/My Drive/Repositories/serotonin-3d-gnn/requirements.txt (line 1)) (2.9.0.post0)\n",
            "Requirement already satisfied: pytz>=2020.1 in ./.venv/lib/python3.13/site-packages (from pandas->-r /Users/paul/My Drive/Repositories/serotonin-3d-gnn/requirements.txt (line 3)) (2025.1)\n",
            "Requirement already satisfied: tzdata>=2022.7 in ./.venv/lib/python3.13/site-packages (from pandas->-r /Users/paul/My Drive/Repositories/serotonin-3d-gnn/requirements.txt (line 3)) (2025.1)\n",
            "Collecting joblib>=1.2.0 (from scikit-learn->-r /Users/paul/My Drive/Repositories/serotonin-3d-gnn/requirements.txt (line 6))\n",
            "  Using cached joblib-1.4.2-py3-none-any.whl.metadata (5.4 kB)\n",
            "Collecting threadpoolctl>=3.1.0 (from scikit-learn->-r /Users/paul/My Drive/Repositories/serotonin-3d-gnn/requirements.txt (line 6))\n",
            "  Using cached threadpoolctl-3.5.0-py3-none-any.whl.metadata (13 kB)\n",
            "Requirement already satisfied: filelock in ./.venv/lib/python3.13/site-packages (from torch->-r /Users/paul/My Drive/Repositories/serotonin-3d-gnn/requirements.txt (line 7)) (3.17.0)\n",
            "Requirement already satisfied: typing-extensions>=4.10.0 in ./.venv/lib/python3.13/site-packages (from torch->-r /Users/paul/My Drive/Repositories/serotonin-3d-gnn/requirements.txt (line 7)) (4.12.2)\n",
            "Requirement already satisfied: networkx in ./.venv/lib/python3.13/site-packages (from torch->-r /Users/paul/My Drive/Repositories/serotonin-3d-gnn/requirements.txt (line 7)) (3.4.2)\n",
            "Requirement already satisfied: jinja2 in ./.venv/lib/python3.13/site-packages (from torch->-r /Users/paul/My Drive/Repositories/serotonin-3d-gnn/requirements.txt (line 7)) (3.1.5)\n",
            "Requirement already satisfied: fsspec in ./.venv/lib/python3.13/site-packages (from torch->-r /Users/paul/My Drive/Repositories/serotonin-3d-gnn/requirements.txt (line 7)) (2025.2.0)\n",
            "Requirement already satisfied: setuptools in ./.venv/lib/python3.13/site-packages (from torch->-r /Users/paul/My Drive/Repositories/serotonin-3d-gnn/requirements.txt (line 7)) (75.8.0)\n",
            "Requirement already satisfied: sympy==1.13.1 in ./.venv/lib/python3.13/site-packages (from torch->-r /Users/paul/My Drive/Repositories/serotonin-3d-gnn/requirements.txt (line 7)) (1.13.1)\n",
            "Requirement already satisfied: mpmath<1.4,>=1.1.0 in ./.venv/lib/python3.13/site-packages (from sympy==1.13.1->torch->-r /Users/paul/My Drive/Repositories/serotonin-3d-gnn/requirements.txt (line 7)) (1.3.0)\n",
            "Requirement already satisfied: aiohttp in ./.venv/lib/python3.13/site-packages (from torch-geometric->-r /Users/paul/My Drive/Repositories/serotonin-3d-gnn/requirements.txt (line 8)) (3.11.12)\n",
            "Requirement already satisfied: psutil>=5.8.0 in ./.venv/lib/python3.13/site-packages (from torch-geometric->-r /Users/paul/My Drive/Repositories/serotonin-3d-gnn/requirements.txt (line 8)) (7.0.0)\n",
            "Requirement already satisfied: requests in ./.venv/lib/python3.13/site-packages (from torch-geometric->-r /Users/paul/My Drive/Repositories/serotonin-3d-gnn/requirements.txt (line 8)) (2.32.3)\n",
            "Requirement already satisfied: tqdm in ./.venv/lib/python3.13/site-packages (from torch-geometric->-r /Users/paul/My Drive/Repositories/serotonin-3d-gnn/requirements.txt (line 8)) (4.67.1)\n",
            "Requirement already satisfied: six>=1.5 in ./.venv/lib/python3.13/site-packages (from python-dateutil>=2.7->matplotlib->-r /Users/paul/My Drive/Repositories/serotonin-3d-gnn/requirements.txt (line 1)) (1.17.0)\n",
            "Requirement already satisfied: aiohappyeyeballs>=2.3.0 in ./.venv/lib/python3.13/site-packages (from aiohttp->torch-geometric->-r /Users/paul/My Drive/Repositories/serotonin-3d-gnn/requirements.txt (line 8)) (2.4.6)\n",
            "Requirement already satisfied: aiosignal>=1.1.2 in ./.venv/lib/python3.13/site-packages (from aiohttp->torch-geometric->-r /Users/paul/My Drive/Repositories/serotonin-3d-gnn/requirements.txt (line 8)) (1.3.2)\n",
            "Requirement already satisfied: attrs>=17.3.0 in ./.venv/lib/python3.13/site-packages (from aiohttp->torch-geometric->-r /Users/paul/My Drive/Repositories/serotonin-3d-gnn/requirements.txt (line 8)) (25.1.0)\n",
            "Requirement already satisfied: frozenlist>=1.1.1 in ./.venv/lib/python3.13/site-packages (from aiohttp->torch-geometric->-r /Users/paul/My Drive/Repositories/serotonin-3d-gnn/requirements.txt (line 8)) (1.5.0)\n",
            "Requirement already satisfied: multidict<7.0,>=4.5 in ./.venv/lib/python3.13/site-packages (from aiohttp->torch-geometric->-r /Users/paul/My Drive/Repositories/serotonin-3d-gnn/requirements.txt (line 8)) (6.1.0)\n",
            "Requirement already satisfied: propcache>=0.2.0 in ./.venv/lib/python3.13/site-packages (from aiohttp->torch-geometric->-r /Users/paul/My Drive/Repositories/serotonin-3d-gnn/requirements.txt (line 8)) (0.2.1)\n",
            "Requirement already satisfied: yarl<2.0,>=1.17.0 in ./.venv/lib/python3.13/site-packages (from aiohttp->torch-geometric->-r /Users/paul/My Drive/Repositories/serotonin-3d-gnn/requirements.txt (line 8)) (1.18.3)\n",
            "Requirement already satisfied: MarkupSafe>=2.0 in ./.venv/lib/python3.13/site-packages (from jinja2->torch->-r /Users/paul/My Drive/Repositories/serotonin-3d-gnn/requirements.txt (line 7)) (3.0.2)\n",
            "Requirement already satisfied: charset-normalizer<4,>=2 in ./.venv/lib/python3.13/site-packages (from requests->torch-geometric->-r /Users/paul/My Drive/Repositories/serotonin-3d-gnn/requirements.txt (line 8)) (3.4.1)\n",
            "Requirement already satisfied: idna<4,>=2.5 in ./.venv/lib/python3.13/site-packages (from requests->torch-geometric->-r /Users/paul/My Drive/Repositories/serotonin-3d-gnn/requirements.txt (line 8)) (3.10)\n",
            "Requirement already satisfied: urllib3<3,>=1.21.1 in ./.venv/lib/python3.13/site-packages (from requests->torch-geometric->-r /Users/paul/My Drive/Repositories/serotonin-3d-gnn/requirements.txt (line 8)) (2.3.0)\n",
            "Requirement already satisfied: certifi>=2017.4.17 in ./.venv/lib/python3.13/site-packages (from requests->torch-geometric->-r /Users/paul/My Drive/Repositories/serotonin-3d-gnn/requirements.txt (line 8)) (2025.1.31)\n",
            "Downloading scikit_learn-1.6.1-cp313-cp313-macosx_12_0_arm64.whl (11.1 MB)\n",
            "\u001b[2K   \u001b[90m━━━━━━━━━━━━━━━━━━━━━━━━━━━━━━━━━━━━━━━━\u001b[0m \u001b[32m11.1/11.1 MB\u001b[0m \u001b[31m12.8 MB/s\u001b[0m eta \u001b[36m0:00:00\u001b[0ma \u001b[36m0:00:01\u001b[0m\n",
            "\u001b[?25hUsing cached joblib-1.4.2-py3-none-any.whl (301 kB)\n",
            "Using cached threadpoolctl-3.5.0-py3-none-any.whl (18 kB)\n",
            "Installing collected packages: threadpoolctl, joblib, scikit-learn\n",
            "Successfully installed joblib-1.4.2 scikit-learn-1.6.1 threadpoolctl-3.5.0\n",
            "Note: you may need to restart the kernel to use updated packages.\n"
          ]
        }
      ],
      "source": [
        "%pip install --requirement \"$PATH_REPO/requirements.txt\""
      ]
    },
    {
      "cell_type": "markdown",
      "metadata": {
        "id": "gpNxNxd3UG04"
      },
      "source": [
        "### Imports\n"
      ]
    },
    {
      "cell_type": "code",
      "execution_count": 8,
      "metadata": {
        "colab": {
          "base_uri": "https://localhost:8080/",
          "height": 349
        },
        "id": "6qaxG6KzSQbs",
        "outputId": "9bd00a18-1e7b-4bff-88fe-3c2a797ec6f7"
      },
      "outputs": [],
      "source": [
        "import os\n",
        "import sys\n",
        "import time\n",
        "\n",
        "import matplotlib.pyplot as plt\n",
        "import numpy as np\n",
        "import pandas as pd\n",
        "import pickle\n",
        "from rdkit import Chem\n",
        "from rdkit.Chem import AllChem, rdchem\n",
        "import shutil\n",
        "import torch\n",
        "from torch_geometric.data import Data\n",
        "from torch_geometric.loader import DataLoader"
      ]
    },
    {
      "cell_type": "markdown",
      "metadata": {
        "id": "nyOFFWimQtGD"
      },
      "source": [
        "### Syncing this file between Colab and local Git repo\n"
      ]
    },
    {
      "cell_type": "markdown",
      "metadata": {
        "id": "P7qVn7CnR7FK"
      },
      "source": [
        "Make sure the paths exist.\n"
      ]
    },
    {
      "cell_type": "code",
      "execution_count": 12,
      "metadata": {
        "colab": {
          "base_uri": "https://localhost:8080/"
        },
        "id": "-AEKpQQaQ5U4",
        "outputId": "3616a8c4-0786-48f3-a11e-8ffc77ea24a7"
      },
      "outputs": [
        {
          "name": "stdout",
          "output_type": "stream",
          "text": [
            "Copied notebook to Google Drive.\n"
          ]
        }
      ],
      "source": [
        "if IN_COLAB:\n",
        "    shutil.copyfile(PATH_NOTEBOOK, PATH_REPO / \"serotonin-3d-gnn.ipynb\")\n",
        "    print(\"Copied notebook to repo.\")\n",
        "else:\n",
        "    shutil.copyfile(PATH_REPO / \"serotonin-3d-gnn.ipynb\", PATH_NOTEBOOK)\n",
        "    print(\"Copied notebook to Google Drive.\")"
      ]
    },
    {
      "cell_type": "markdown",
      "metadata": {},
      "source": [
        "### Setting Torch Device\n"
      ]
    },
    {
      "cell_type": "code",
      "execution_count": 9,
      "metadata": {},
      "outputs": [
        {
          "name": "stdout",
          "output_type": "stream",
          "text": [
            "Using MPS\n"
          ]
        }
      ],
      "source": [
        "if torch.cuda.is_available():\n",
        "    print(\"Using CUDA\")\n",
        "    device = torch.device(\"cuda\")\n",
        "elif torch.backends.mps.is_available():\n",
        "    print(\"Using MPS\")\n",
        "    device = torch.device(\"mps\")\n",
        "else:\n",
        "    print(\"Using CPU\")\n",
        "    device = torch.device(\"cpu\")"
      ]
    },
    {
      "cell_type": "markdown",
      "metadata": {
        "id": "q7iFshPsYhff"
      },
      "source": [
        "---\n",
        "\n",
        "## Data Preprocessing\n"
      ]
    },
    {
      "cell_type": "markdown",
      "metadata": {
        "id": "eDQ9MbtCNEAb"
      },
      "source": [
        "In order to collect the desired data from the ChEMBL SQL database and transform it into a .csv file, I undertook the steps detailed in `data/README.md`.\n"
      ]
    },
    {
      "cell_type": "markdown",
      "metadata": {
        "id": "WEEdENl6NzpP"
      },
      "source": [
        "### Loading and Preprocessing Serotonin Data\n"
      ]
    },
    {
      "cell_type": "markdown",
      "metadata": {},
      "source": [
        "If the pickled torch_data_list already exists, load it.\n"
      ]
    },
    {
      "cell_type": "code",
      "execution_count": 10,
      "metadata": {},
      "outputs": [
        {
          "name": "stdout",
          "output_type": "stream",
          "text": [
            "Loaded torch_data_list from pickle file\n"
          ]
        },
        {
          "data": {
            "text/html": [
              "<div>\n",
              "<style scoped>\n",
              "    .dataframe tbody tr th:only-of-type {\n",
              "        vertical-align: middle;\n",
              "    }\n",
              "\n",
              "    .dataframe tbody tr th {\n",
              "        vertical-align: top;\n",
              "    }\n",
              "\n",
              "    .dataframe thead th {\n",
              "        text-align: right;\n",
              "    }\n",
              "</style>\n",
              "<table border=\"1\" class=\"dataframe\">\n",
              "  <thead>\n",
              "    <tr style=\"text-align: right;\">\n",
              "      <th></th>\n",
              "      <th>molecule_id</th>\n",
              "      <th>Serotonin (5-HT) receptor</th>\n",
              "      <th>Serotonin 1 (5-HT1) receptor</th>\n",
              "      <th>Serotonin 1 receptors; 5-HT1B &amp; 5-HT1D</th>\n",
              "      <th>Serotonin 1a (5-HT1a) receptor</th>\n",
              "      <th>Serotonin 1b (5-HT1b) receptor</th>\n",
              "      <th>Serotonin 1d (5-HT1d) receptor</th>\n",
              "      <th>Serotonin 1e (5-HT1e) receptor</th>\n",
              "      <th>Serotonin 1f (5-HT1f) receptor</th>\n",
              "      <th>Serotonin 2 (5-HT2) receptor</th>\n",
              "      <th>...</th>\n",
              "      <th>Serotonin 2b (5-HT2b) receptor</th>\n",
              "      <th>Serotonin 2c (5-HT2c) receptor</th>\n",
              "      <th>Serotonin 3 (5-HT3) receptor</th>\n",
              "      <th>Serotonin 3a (5-HT3a) receptor</th>\n",
              "      <th>Serotonin 3b (5-HT3b) receptor</th>\n",
              "      <th>Serotonin 4 (5-HT4) receptor</th>\n",
              "      <th>Serotonin 5a (5-HT5a) receptor</th>\n",
              "      <th>Serotonin 5b (5-HT5b) receptor</th>\n",
              "      <th>Serotonin 6 (5-HT6) receptor</th>\n",
              "      <th>Serotonin 7 (5-HT7) receptor</th>\n",
              "    </tr>\n",
              "  </thead>\n",
              "  <tbody>\n",
              "    <tr>\n",
              "      <th>count</th>\n",
              "      <td>2.345600e+04</td>\n",
              "      <td>90.000000</td>\n",
              "      <td>252.000000</td>\n",
              "      <td>1.0</td>\n",
              "      <td>9462.000000</td>\n",
              "      <td>1492.000000</td>\n",
              "      <td>1472.000000</td>\n",
              "      <td>91.000000</td>\n",
              "      <td>127.000000</td>\n",
              "      <td>1469.000000</td>\n",
              "      <td>...</td>\n",
              "      <td>2337.000000</td>\n",
              "      <td>4343.000000</td>\n",
              "      <td>939.000000</td>\n",
              "      <td>1040.000000</td>\n",
              "      <td>8.000000</td>\n",
              "      <td>1009.000000</td>\n",
              "      <td>422.000000</td>\n",
              "      <td>1.00</td>\n",
              "      <td>4221.000000</td>\n",
              "      <td>3100.000000</td>\n",
              "    </tr>\n",
              "    <tr>\n",
              "      <th>mean</th>\n",
              "      <td>1.003325e+06</td>\n",
              "      <td>6.081759</td>\n",
              "      <td>6.683902</td>\n",
              "      <td>6.2</td>\n",
              "      <td>7.258523</td>\n",
              "      <td>6.952528</td>\n",
              "      <td>7.554968</td>\n",
              "      <td>5.791172</td>\n",
              "      <td>7.458423</td>\n",
              "      <td>7.053201</td>\n",
              "      <td>...</td>\n",
              "      <td>6.603829</td>\n",
              "      <td>6.810210</td>\n",
              "      <td>7.625768</td>\n",
              "      <td>7.047520</td>\n",
              "      <td>7.203500</td>\n",
              "      <td>7.645809</td>\n",
              "      <td>6.573801</td>\n",
              "      <td>7.17</td>\n",
              "      <td>7.311171</td>\n",
              "      <td>6.977487</td>\n",
              "    </tr>\n",
              "    <tr>\n",
              "      <th>std</th>\n",
              "      <td>8.986583e+05</td>\n",
              "      <td>0.926906</td>\n",
              "      <td>1.104283</td>\n",
              "      <td>NaN</td>\n",
              "      <td>1.152004</td>\n",
              "      <td>1.226482</td>\n",
              "      <td>1.365880</td>\n",
              "      <td>0.652239</td>\n",
              "      <td>0.859240</td>\n",
              "      <td>1.159567</td>\n",
              "      <td>...</td>\n",
              "      <td>0.981462</td>\n",
              "      <td>1.032874</td>\n",
              "      <td>1.225942</td>\n",
              "      <td>1.535413</td>\n",
              "      <td>1.735342</td>\n",
              "      <td>1.179482</td>\n",
              "      <td>1.089819</td>\n",
              "      <td>NaN</td>\n",
              "      <td>1.143388</td>\n",
              "      <td>1.016128</td>\n",
              "    </tr>\n",
              "    <tr>\n",
              "      <th>min</th>\n",
              "      <td>9.700000e+01</td>\n",
              "      <td>4.390000</td>\n",
              "      <td>4.100000</td>\n",
              "      <td>6.2</td>\n",
              "      <td>4.000000</td>\n",
              "      <td>4.000000</td>\n",
              "      <td>4.000000</td>\n",
              "      <td>4.800000</td>\n",
              "      <td>5.140000</td>\n",
              "      <td>4.030000</td>\n",
              "      <td>...</td>\n",
              "      <td>4.190000</td>\n",
              "      <td>4.000000</td>\n",
              "      <td>4.010000</td>\n",
              "      <td>4.000000</td>\n",
              "      <td>5.460000</td>\n",
              "      <td>5.000000</td>\n",
              "      <td>4.070000</td>\n",
              "      <td>7.17</td>\n",
              "      <td>4.120000</td>\n",
              "      <td>4.000000</td>\n",
              "    </tr>\n",
              "    <tr>\n",
              "      <th>25%</th>\n",
              "      <td>2.291570e+05</td>\n",
              "      <td>5.385000</td>\n",
              "      <td>5.800000</td>\n",
              "      <td>6.2</td>\n",
              "      <td>6.480000</td>\n",
              "      <td>6.050000</td>\n",
              "      <td>6.470000</td>\n",
              "      <td>5.360000</td>\n",
              "      <td>7.000000</td>\n",
              "      <td>6.240000</td>\n",
              "      <td>...</td>\n",
              "      <td>5.900000</td>\n",
              "      <td>6.050000</td>\n",
              "      <td>6.800000</td>\n",
              "      <td>5.700000</td>\n",
              "      <td>5.490000</td>\n",
              "      <td>6.810000</td>\n",
              "      <td>5.800000</td>\n",
              "      <td>7.17</td>\n",
              "      <td>6.470000</td>\n",
              "      <td>6.285000</td>\n",
              "    </tr>\n",
              "    <tr>\n",
              "      <th>50%</th>\n",
              "      <td>5.757615e+05</td>\n",
              "      <td>5.925000</td>\n",
              "      <td>6.600000</td>\n",
              "      <td>6.2</td>\n",
              "      <td>7.280000</td>\n",
              "      <td>6.850000</td>\n",
              "      <td>7.640000</td>\n",
              "      <td>5.730000</td>\n",
              "      <td>7.720000</td>\n",
              "      <td>6.920000</td>\n",
              "      <td>...</td>\n",
              "      <td>6.523333</td>\n",
              "      <td>6.740000</td>\n",
              "      <td>7.700000</td>\n",
              "      <td>7.185000</td>\n",
              "      <td>7.015000</td>\n",
              "      <td>7.640000</td>\n",
              "      <td>6.390000</td>\n",
              "      <td>7.17</td>\n",
              "      <td>7.360000</td>\n",
              "      <td>6.990000</td>\n",
              "    </tr>\n",
              "    <tr>\n",
              "      <th>75%</th>\n",
              "      <td>1.965967e+06</td>\n",
              "      <td>6.657500</td>\n",
              "      <td>7.585000</td>\n",
              "      <td>6.2</td>\n",
              "      <td>8.060000</td>\n",
              "      <td>7.850000</td>\n",
              "      <td>8.700000</td>\n",
              "      <td>6.175000</td>\n",
              "      <td>8.020000</td>\n",
              "      <td>8.000000</td>\n",
              "      <td>...</td>\n",
              "      <td>7.210000</td>\n",
              "      <td>7.512500</td>\n",
              "      <td>8.580000</td>\n",
              "      <td>8.410000</td>\n",
              "      <td>8.393500</td>\n",
              "      <td>8.400000</td>\n",
              "      <td>7.068750</td>\n",
              "      <td>7.17</td>\n",
              "      <td>8.110000</td>\n",
              "      <td>7.700000</td>\n",
              "    </tr>\n",
              "    <tr>\n",
              "      <th>max</th>\n",
              "      <td>2.881244e+06</td>\n",
              "      <td>9.800000</td>\n",
              "      <td>9.300000</td>\n",
              "      <td>6.2</td>\n",
              "      <td>11.000000</td>\n",
              "      <td>10.000000</td>\n",
              "      <td>10.700000</td>\n",
              "      <td>8.200000</td>\n",
              "      <td>8.800000</td>\n",
              "      <td>10.300000</td>\n",
              "      <td>...</td>\n",
              "      <td>10.100000</td>\n",
              "      <td>10.700000</td>\n",
              "      <td>10.420000</td>\n",
              "      <td>10.400000</td>\n",
              "      <td>9.604000</td>\n",
              "      <td>10.800000</td>\n",
              "      <td>9.170000</td>\n",
              "      <td>7.17</td>\n",
              "      <td>10.400000</td>\n",
              "      <td>10.000000</td>\n",
              "    </tr>\n",
              "  </tbody>\n",
              "</table>\n",
              "<p>8 rows × 22 columns</p>\n",
              "</div>"
            ],
            "text/plain": [
              "        molecule_id  Serotonin (5-HT) receptor  Serotonin 1 (5-HT1) receptor  \\\n",
              "count  2.345600e+04                  90.000000                    252.000000   \n",
              "mean   1.003325e+06                   6.081759                      6.683902   \n",
              "std    8.986583e+05                   0.926906                      1.104283   \n",
              "min    9.700000e+01                   4.390000                      4.100000   \n",
              "25%    2.291570e+05                   5.385000                      5.800000   \n",
              "50%    5.757615e+05                   5.925000                      6.600000   \n",
              "75%    1.965967e+06                   6.657500                      7.585000   \n",
              "max    2.881244e+06                   9.800000                      9.300000   \n",
              "\n",
              "       Serotonin 1 receptors; 5-HT1B & 5-HT1D  Serotonin 1a (5-HT1a) receptor  \\\n",
              "count                                     1.0                     9462.000000   \n",
              "mean                                      6.2                        7.258523   \n",
              "std                                       NaN                        1.152004   \n",
              "min                                       6.2                        4.000000   \n",
              "25%                                       6.2                        6.480000   \n",
              "50%                                       6.2                        7.280000   \n",
              "75%                                       6.2                        8.060000   \n",
              "max                                       6.2                       11.000000   \n",
              "\n",
              "       Serotonin 1b (5-HT1b) receptor  Serotonin 1d (5-HT1d) receptor  \\\n",
              "count                     1492.000000                     1472.000000   \n",
              "mean                         6.952528                        7.554968   \n",
              "std                          1.226482                        1.365880   \n",
              "min                          4.000000                        4.000000   \n",
              "25%                          6.050000                        6.470000   \n",
              "50%                          6.850000                        7.640000   \n",
              "75%                          7.850000                        8.700000   \n",
              "max                         10.000000                       10.700000   \n",
              "\n",
              "       Serotonin 1e (5-HT1e) receptor  Serotonin 1f (5-HT1f) receptor  \\\n",
              "count                       91.000000                      127.000000   \n",
              "mean                         5.791172                        7.458423   \n",
              "std                          0.652239                        0.859240   \n",
              "min                          4.800000                        5.140000   \n",
              "25%                          5.360000                        7.000000   \n",
              "50%                          5.730000                        7.720000   \n",
              "75%                          6.175000                        8.020000   \n",
              "max                          8.200000                        8.800000   \n",
              "\n",
              "       Serotonin 2 (5-HT2) receptor  ...  Serotonin 2b (5-HT2b) receptor  \\\n",
              "count                   1469.000000  ...                     2337.000000   \n",
              "mean                       7.053201  ...                        6.603829   \n",
              "std                        1.159567  ...                        0.981462   \n",
              "min                        4.030000  ...                        4.190000   \n",
              "25%                        6.240000  ...                        5.900000   \n",
              "50%                        6.920000  ...                        6.523333   \n",
              "75%                        8.000000  ...                        7.210000   \n",
              "max                       10.300000  ...                       10.100000   \n",
              "\n",
              "       Serotonin 2c (5-HT2c) receptor  Serotonin 3 (5-HT3) receptor  \\\n",
              "count                     4343.000000                    939.000000   \n",
              "mean                         6.810210                      7.625768   \n",
              "std                          1.032874                      1.225942   \n",
              "min                          4.000000                      4.010000   \n",
              "25%                          6.050000                      6.800000   \n",
              "50%                          6.740000                      7.700000   \n",
              "75%                          7.512500                      8.580000   \n",
              "max                         10.700000                     10.420000   \n",
              "\n",
              "       Serotonin 3a (5-HT3a) receptor  Serotonin 3b (5-HT3b) receptor  \\\n",
              "count                     1040.000000                        8.000000   \n",
              "mean                         7.047520                        7.203500   \n",
              "std                          1.535413                        1.735342   \n",
              "min                          4.000000                        5.460000   \n",
              "25%                          5.700000                        5.490000   \n",
              "50%                          7.185000                        7.015000   \n",
              "75%                          8.410000                        8.393500   \n",
              "max                         10.400000                        9.604000   \n",
              "\n",
              "       Serotonin 4 (5-HT4) receptor  Serotonin 5a (5-HT5a) receptor  \\\n",
              "count                   1009.000000                      422.000000   \n",
              "mean                       7.645809                        6.573801   \n",
              "std                        1.179482                        1.089819   \n",
              "min                        5.000000                        4.070000   \n",
              "25%                        6.810000                        5.800000   \n",
              "50%                        7.640000                        6.390000   \n",
              "75%                        8.400000                        7.068750   \n",
              "max                       10.800000                        9.170000   \n",
              "\n",
              "       Serotonin 5b (5-HT5b) receptor  Serotonin 6 (5-HT6) receptor  \\\n",
              "count                            1.00                   4221.000000   \n",
              "mean                             7.17                      7.311171   \n",
              "std                               NaN                      1.143388   \n",
              "min                              7.17                      4.120000   \n",
              "25%                              7.17                      6.470000   \n",
              "50%                              7.17                      7.360000   \n",
              "75%                              7.17                      8.110000   \n",
              "max                              7.17                     10.400000   \n",
              "\n",
              "       Serotonin 7 (5-HT7) receptor  \n",
              "count                   3100.000000  \n",
              "mean                       6.977487  \n",
              "std                        1.016128  \n",
              "min                        4.000000  \n",
              "25%                        6.285000  \n",
              "50%                        6.990000  \n",
              "75%                        7.700000  \n",
              "max                       10.000000  \n",
              "\n",
              "[8 rows x 22 columns]"
            ]
          },
          "execution_count": 10,
          "metadata": {},
          "output_type": "execute_result"
        }
      ],
      "source": [
        "pickle_file_path = PATH_DATA / \"torch_data_list.pkl\"\n",
        "\n",
        "if os.path.exists(pickle_file_path):\n",
        "    torch_data_list = pickle.load(open(pickle_file_path, \"rb\"))\n",
        "    print(\"Loaded torch_data_list from pickle file\")\n",
        "else:\n",
        "    print(\"Creating torch_data_list from scratch\")\n",
        "\n",
        "df = pd.read_csv(PATH_DATA / \"serotonin_binding_summary.csv\")\n",
        "\n",
        "df.describe()"
      ]
    },
    {
      "cell_type": "code",
      "execution_count": 11,
      "metadata": {},
      "outputs": [
        {
          "name": "stdout",
          "output_type": "stream",
          "text": [
            "Number of targets: 21\n",
            "Boolean mask: tensor([False, False, False,  True, False, False, False, False, False, False,\n",
            "        False, False, False, False, False, False, False, False, False, False,\n",
            "        False])\n",
            "Included targets (1): tensor([3])\n"
          ]
        },
        {
          "data": {
            "text/plain": [
              "<Figure size 2000x1000 with 0 Axes>"
            ]
          },
          "metadata": {},
          "output_type": "display_data"
        },
        {
          "data": {
            "image/png": "[encoded data removed]",
            "text/plain": [
              "<Figure size 640x480 with 1 Axes>"
            ]
          },
          "metadata": {},
          "output_type": "display_data"
        }
      ],
      "source": [
        "df_targets = df.drop(columns=[\"molecule_id\", \"canonical_smiles\"])\n",
        "print(f\"Number of targets: {len(df_targets.columns)}\")\n",
        "\n",
        "# compute non-nan counts per column and create a boolean mask to filter targets to contain at least n_threshold non-nan values\n",
        "n_threshold = 9000\n",
        "non_nan_counts = torch.tensor(df_targets.notna().sum().values, dtype=torch.long)\n",
        "mask = non_nan_counts >= n_threshold\n",
        "valid_column_indices = torch.nonzero(mask, as_tuple=True)[0]\n",
        "\n",
        "print(\"Boolean mask:\", mask)\n",
        "print(f\"Included targets ({len(valid_column_indices)}):\", valid_column_indices)\n",
        "\n",
        "# pdfs of targets\n",
        "plt.figure(figsize=(20, 10))\n",
        "df_targets.iloc[:, valid_column_indices.tolist()].plot.kde()\n",
        "plt.show()"
      ]
    },
    {
      "cell_type": "markdown",
      "metadata": {},
      "source": [
        "### Creating 3D Molecular Graph Data from Serotonin Data\n"
      ]
    },
    {
      "cell_type": "code",
      "execution_count": 62,
      "metadata": {
        "colab": {
          "base_uri": "https://localhost:8080/",
          "height": 443
        },
        "id": "63VicadqVXW3",
        "outputId": "a2fdd631-c9ad-4974-faeb-59190376c726"
      },
      "outputs": [],
      "source": [
        "periodic_table = rdchem.GetPeriodicTable()\n",
        "\n",
        "ATOM_PROPERTIES = {\n",
        "    atomic_num: [\n",
        "        periodic_table.GetAtomicWeight(atomic_num),\n",
        "        periodic_table.GetRvdw(atomic_num),\n",
        "        periodic_table.GetDefaultValence(atomic_num),\n",
        "    ]\n",
        "    for atomic_num in range(1, 119)  # all elements in periodic table\n",
        "}\n",
        "\n",
        "BOND_TYPES = [\n",
        "    Chem.rdchem.BondType.SINGLE,\n",
        "    Chem.rdchem.BondType.AROMATIC,\n",
        "    Chem.rdchem.BondType.DOUBLE,\n",
        "    Chem.rdchem.BondType.TRIPLE,\n",
        "]\n",
        "\n",
        "\n",
        "def create_torch_data(smiles: str, targets: torch.Tensor) -> Data:\n",
        "    # getting RDKit molecule object\n",
        "    mol = Chem.MolFromSmiles(smiles)\n",
        "\n",
        "    if mol is None:\n",
        "        return None\n",
        "\n",
        "    # add explicit hydrogen atoms to the molecule (are not included in the SMILES string) so that its 3D structure is complete\n",
        "    mol = Chem.AddHs(mol)\n",
        "\n",
        "    # EmbedMolecule positions atoms of mol in 3D space stochastically; if it fails (returning -1) return None\n",
        "    if AllChem.EmbedMolecule(mol, randomSeed=42) == -1:\n",
        "        return None\n",
        "\n",
        "    # optimize the 3D structure using Universal Force Field (UFF) to lower mol's energy\n",
        "    AllChem.UFFOptimizeMolecule(mol)\n",
        "\n",
        "    # conformer contains 3D coordinates for mol's atoms\n",
        "    conformer = mol.GetConformer()\n",
        "\n",
        "    # atom-level features and 3D positions\n",
        "    atom_features, positions = [], []\n",
        "    for atom in mol.GetAtoms():\n",
        "        atomic_num = atom.GetAtomicNum()\n",
        "        atomic_mass, vdw_radius, valence = ATOM_PROPERTIES.get(\n",
        "            atomic_num, [0.0, 0.0, 0]\n",
        "        )\n",
        "\n",
        "        features = [\n",
        "            atomic_mass,\n",
        "            vdw_radius,\n",
        "            valence,\n",
        "            atom.GetFormalCharge(),\n",
        "            int(atom.GetIsAromatic()),\n",
        "            atom.GetDegree(),\n",
        "        ] + [\n",
        "            1.0 if atom.GetHybridization() == h else 0.0\n",
        "            for h in (\n",
        "                Chem.rdchem.HybridizationType.SP,\n",
        "                Chem.rdchem.HybridizationType.SP2,\n",
        "                Chem.rdchem.HybridizationType.SP3,\n",
        "            )\n",
        "        ]\n",
        "\n",
        "        atom_features.append(features)\n",
        "\n",
        "        pos = conformer.GetAtomPosition(atom.GetIdx())\n",
        "        positions.append([pos.x, pos.y, pos.z])\n",
        "\n",
        "    # transform to PyTorch tensors\n",
        "    x = torch.tensor(atom_features, dtype=torch.float)\n",
        "    pos = torch.tensor(positions, dtype=torch.float)\n",
        "\n",
        "    # bonds between atoms – indices of connected atoms as well as types and conjugation\n",
        "    edge_index, edge_attr = [], []\n",
        "    for bond in mol.GetBonds():\n",
        "        # indices of bonded atoms\n",
        "        i, j = bond.GetBeginAtomIdx(), bond.GetEndAtomIdx()\n",
        "\n",
        "        # one-hot encode bond type\n",
        "        bond_type = bond.GetBondType()\n",
        "        bond_type_one_hot = [1.0 if bond_type == b else 0.0 for b in BOND_TYPES]\n",
        "\n",
        "        is_conjugated = 1.0 if bond.GetIsConjugated() else 0.0\n",
        "\n",
        "        bond_feat = bond_type_one_hot + [is_conjugated]\n",
        "\n",
        "        # adding bond to both nodes\n",
        "        edge_index += [[i, j], [j, i]]\n",
        "        edge_attr += [bond_feat, bond_feat]\n",
        "\n",
        "    # transform to PyTorch tensors\n",
        "    # edge_index tensor is transposed to fit torch_geometric's expected shape (2, number_of_edges).\n",
        "    edge_index = torch.tensor(edge_index, dtype=torch.long).t().contiguous()\n",
        "    edge_attr = torch.tensor(edge_attr, dtype=torch.float)\n",
        "\n",
        "    # graph as PyTorch Geometric Data object\n",
        "    # x: atom features, [atomic number, degree, formal charge, hybridization]\n",
        "    # pos: 3D positions of atoms, [x, y, z]\n",
        "    # edge_index: connectivity indices between atoms, [[i, j], [j, i]]\n",
        "    # edge_attr: features per bond, [[bond type, conjugation], [bond type, conjugation]]\n",
        "    return Data(\n",
        "        x=x,\n",
        "        pos=pos,\n",
        "        edge_index=edge_index,\n",
        "        edge_attr=edge_attr,\n",
        "        y=targets,\n",
        "        smiles=smiles,\n",
        "    )\n",
        "\n",
        "\n",
        "if not torch_data_list:\n",
        "    torch_data_list = []\n",
        "\n",
        "    for i, row in enumerate(df.itertuples()):\n",
        "        pct_complete = 100 * i / len(df)\n",
        "        sys.stdout.write(f\"\\r{pct_complete:.2f}% complete\")\n",
        "        sys.stdout.flush()\n",
        "\n",
        "        torch_data_list.append(\n",
        "            create_torch_data(\n",
        "                row.canonical_smiles,\n",
        "                torch.tensor(df_targets.iloc[i].values, dtype=torch.float),\n",
        "            )\n",
        "            for i, row in enumerate(df.itertuples(index=False))\n",
        "        )\n",
        "\n",
        "    pickle_file_path = PATH_DATA / \"torch_data_list.pkl\"\n",
        "\n",
        "    with open(pickle_file_path, \"wb\") as f:\n",
        "        pickle.dump(torch_data_list, f)\n",
        "\n",
        "    print(f\"Saved torch_data_list to {pickle_file_path}\")"
      ]
    },
    {
      "cell_type": "markdown",
      "metadata": {},
      "source": [
        "### Splitting Serotonin Data into Train/Test (and Don't Touch the Test Set)\n"
      ]
    },
    {
      "cell_type": "code",
      "execution_count": 12,
      "metadata": {},
      "outputs": [
        {
          "name": "stdout",
          "output_type": "stream",
          "text": [
            "Number of items in filtered_torch_data_list: 23439 / 23456\n",
            "filtered_torch_data_list[0]: Data(x=[49, 9], edge_index=[2, 104], edge_attr=[104, 5], y=[21], pos=[49, 3], smiles='COc1cc2nc(N3CCN(C(=O)c4ccco4)CC3)nc(N)c2cc1OC')\n",
            "Number of items in new_filtered_torch_data_list: 9460 / 23439\n",
            "Data(x=[49, 9], edge_index=[2, 104], edge_attr=[104, 5], y=[1], pos=[49, 3], smiles='COc1cc2nc(N3CCN(C(=O)c4ccco4)CC3)nc(N)c2cc1OC')\n"
          ]
        }
      ],
      "source": [
        "filtered_torch_data_list = [d.clone() for d in torch_data_list if d is not None]\n",
        "print(\n",
        "    f\"Number of items in filtered_torch_data_list: {len(filtered_torch_data_list)} / {len(torch_data_list)}\"\n",
        ")  # still retaining original torch_data_list for reference to df later\n",
        "print(f\"filtered_torch_data_list[0]: {filtered_torch_data_list[0]}\")\n",
        "\n",
        "new_filtered_torch_data_list = []\n",
        "\n",
        "# only include targets with at least n_threshold non-nan values\n",
        "for d in filtered_torch_data_list:\n",
        "    d.y = d.y[valid_column_indices]\n",
        "    if not torch.isnan(d.y).all():\n",
        "        new_filtered_torch_data_list.append(d)\n",
        "\n",
        "print(\n",
        "    f\"Number of items in new_filtered_torch_data_list: {len(new_filtered_torch_data_list)} / {len(filtered_torch_data_list)}\"\n",
        ")\n",
        "filtered_torch_data_list = new_filtered_torch_data_list\n",
        "\n",
        "split_idx = int(0.8 * len(filtered_torch_data_list))\n",
        "\n",
        "filtered_torch_data_list_train = filtered_torch_data_list[:split_idx]\n",
        "filtered_torch_data_list_test = filtered_torch_data_list[split_idx:]\n",
        "\n",
        "print(filtered_torch_data_list_train[0])"
      ]
    },
    {
      "cell_type": "markdown",
      "metadata": {},
      "source": [
        "### Loading ZINC Data\n"
      ]
    },
    {
      "cell_type": "code",
      "execution_count": 13,
      "metadata": {},
      "outputs": [
        {
          "data": {
            "text/plain": [
              "<Figure size 2000x1000 with 0 Axes>"
            ]
          },
          "metadata": {},
          "output_type": "display_data"
        },
        {
          "data": {
            "image/png": "[encoded data removed]",
            "text/plain": [
              "<Figure size 640x480 with 1 Axes>"
            ]
          },
          "metadata": {},
          "output_type": "display_data"
        }
      ],
      "source": [
        "pretraining_df = pd.read_csv(PATH_DATA / \"250k_rndm_zinc_drugs_clean_3.csv\")\n",
        "\n",
        "pretraining_df.head()\n",
        "\n",
        "plt.figure(figsize=(20, 10))\n",
        "pretraining_df.iloc[:, [2]].plot.kde()\n",
        "plt.xlim(0, 1)\n",
        "plt.xticks(ticks=np.arange(0, 1.1, 0.1))\n",
        "plt.show()"
      ]
    },
    {
      "cell_type": "markdown",
      "metadata": {},
      "source": [
        "### Creating 3D Molecular Graph Data from ZINC Data\n"
      ]
    },
    {
      "cell_type": "code",
      "execution_count": null,
      "metadata": {},
      "outputs": [],
      "source": [
        "pretraining_torch_data_list = []\n",
        "for i, row in enumerate(pretraining_df.itertuples(index=False)):\n",
        "    if i % 10 == 0:\n",
        "        pct_complete = i / len(pretraining_df) * 100\n",
        "        sys.stdout.write(f\"\\r{pct_complete:.2f}% complete\")\n",
        "        sys.stdout.flush()\n",
        "\n",
        "    pretraining_torch_data_list.append(\n",
        "        create_torch_data(\n",
        "            row.smiles,\n",
        "            torch.tensor(\n",
        "                [row.qed], dtype=torch.float\n",
        "            ),  # use QED as target, representing \"drug-likeness\"\n",
        "        )\n",
        "    )\n",
        "\n",
        "pickle_file_path = PATH_DATA / \"pretraining_torch_data_list.pkl\"\n",
        "\n",
        "with open(pickle_file_path, \"wb\") as f:\n",
        "    pickle.dump(pretraining_torch_data_list, f)\n",
        "\n",
        "print(f\"Saved pretraining_torch_data_list to {pickle_file_path}\")"
      ]
    },
    {
      "cell_type": "code",
      "execution_count": null,
      "metadata": {},
      "outputs": [],
      "source": [
        "filtered_pretraining_torch_data_list = [\n",
        "    d.clone() for d in pretraining_torch_data_list if d is not None\n",
        "]"
      ]
    },
    {
      "cell_type": "markdown",
      "metadata": {},
      "source": [
        "### Splitting ZINC Data\n",
        "\n",
        "Create hyperparam set and the full set.\n"
      ]
    },
    {
      "cell_type": "markdown",
      "metadata": {},
      "source": [
        "---\n",
        "\n",
        "## Model Architectures\n"
      ]
    },
    {
      "cell_type": "markdown",
      "metadata": {},
      "source": [
        "### Naive Baseline\n"
      ]
    },
    {
      "cell_type": "code",
      "execution_count": 14,
      "metadata": {},
      "outputs": [],
      "source": [
        "class MeanBaseline:\n",
        "    def __init__(self):\n",
        "        self.mean_ = None\n",
        "\n",
        "    def fit(self, y):\n",
        "        self.mean_ = np.nanmean(y, axis=0)\n",
        "\n",
        "    def predict(self, n):\n",
        "        return np.tile(self.mean_, (n, 1))"
      ]
    },
    {
      "cell_type": "markdown",
      "metadata": {},
      "source": [
        "### SeroGCN\n"
      ]
    },
    {
      "cell_type": "code",
      "execution_count": 15,
      "metadata": {},
      "outputs": [
        {
          "name": "stdout",
          "output_type": "stream",
          "text": [
            "Node features: 9, targets: 1, edge attributes: 5\n"
          ]
        }
      ],
      "source": [
        "from torch_geometric.nn import GCNConv, global_mean_pool\n",
        "from torch.nn import Linear\n",
        "import torch.nn.functional as F\n",
        "\n",
        "n_in = filtered_torch_data_list_train[0].x.shape[1]\n",
        "n_out = len(valid_column_indices)\n",
        "n_edge_attr = filtered_torch_data_list_train[0].edge_attr.shape[1]\n",
        "\n",
        "print(f\"Node features: {n_in}, targets: {n_out}, edge attributes: {n_edge_attr}\")\n",
        "\n",
        "\n",
        "class SeroGCN(torch.nn.Module):\n",
        "    def __init__(self, n_hidden):\n",
        "        super(SeroGCN, self).__init__()\n",
        "\n",
        "        self.conv1 = GCNConv(n_in, n_hidden)\n",
        "        self.conv2 = GCNConv(n_hidden, n_hidden)\n",
        "        self.fc = Linear(n_hidden, n_out)\n",
        "        self.sigma = 1.0  # distance weighting parameter\n",
        "\n",
        "    def forward(self, mol_batch) -> torch.Tensor:\n",
        "        x, pos, edge_index, edge_attr = (\n",
        "            mol_batch.x,\n",
        "            mol_batch.pos,\n",
        "            mol_batch.edge_index,\n",
        "            mol_batch.edge_attr,\n",
        "        )\n",
        "\n",
        "        row, col = edge_index\n",
        "        eucl_edge_dist = torch.norm(pos[row] - pos[col], p=2, dim=1)\n",
        "        weight_distance = torch.exp(\n",
        "            -(eucl_edge_dist**2) / (2 * self.sigma**2)\n",
        "        )  # Gaussian distance weighting\n",
        "\n",
        "        # message passing with diustance and angle weights\n",
        "        x = self.conv1(x, edge_index, edge_weight=weight_distance)\n",
        "        x = F.relu(x)\n",
        "        x = self.conv2(x, edge_index, edge_weight=weight_distance)\n",
        "        x = F.relu(x)\n",
        "\n",
        "        # global pooling for graph-level representation\n",
        "        x = global_mean_pool(x, mol_batch.batch)\n",
        "        x = self.fc(x)\n",
        "\n",
        "        return x"
      ]
    },
    {
      "cell_type": "markdown",
      "metadata": {},
      "source": [
        "---\n",
        "\n",
        "## Training Logic\n"
      ]
    },
    {
      "cell_type": "code",
      "execution_count": null,
      "metadata": {},
      "outputs": [],
      "source": [
        "# def masked_mse_loss(pred, target):\n",
        "#     # mask of non-nan targets\n",
        "#     mask = ~torch.isnan(target)\n",
        "#     if mask.sum() == 0:\n",
        "#         # return 0 loss, so that it doesn't affect the gradient\n",
        "#         return torch.tensor(0.0, requires_grad=True, device=target.device)\n",
        "#     # squared error for entries that are valid\n",
        "#     loss = (pred[mask] - target[mask]) ** 2\n",
        "#     return loss.mean()"
      ]
    },
    {
      "cell_type": "code",
      "execution_count": 16,
      "metadata": {},
      "outputs": [],
      "source": [
        "def fit(\n",
        "    model: torch.nn.Module,\n",
        "    train_loader: DataLoader,\n",
        "    val_loader: DataLoader,\n",
        "    optimizer: torch.optim.Optimizer,\n",
        "    criterion,\n",
        "    epochs: int,\n",
        "):\n",
        "    train_losses = []\n",
        "    val_losses = []\n",
        "\n",
        "    for epoch in range(epochs):\n",
        "        # --- Training ---\n",
        "        model.train()\n",
        "        epoch_loss = 0.0\n",
        "        start_epoch = time.time()\n",
        "\n",
        "        for i, data in enumerate(train_loader):\n",
        "            data = data.to(device)\n",
        "            optimizer.zero_grad()\n",
        "            out = model(data)\n",
        "            loss = criterion(\n",
        "                out, data.y.view(-1, n_out)\n",
        "            )  # make sure that even if there's only one target var, it's still a 2D tensor\n",
        "            loss.backward()\n",
        "            optimizer.step()\n",
        "            epoch_loss += loss.item()\n",
        "\n",
        "            pct_complete = 100 * (i + 1) / len(train_loader)\n",
        "            sys.stdout.write(\n",
        "                f\"\\rEpoch {epoch+1}/{epochs} - {pct_complete:.2f}% complete\"\n",
        "            )\n",
        "            sys.stdout.flush()\n",
        "\n",
        "        train_loss_avg = epoch_loss / len(train_loader)\n",
        "\n",
        "        # --- Validation ---\n",
        "        model.eval()\n",
        "        val_epoch_loss = 0.0\n",
        "        with torch.no_grad():\n",
        "            for val_data in val_loader:\n",
        "                val_data = val_data.to(device)\n",
        "                val_out = model(val_data)\n",
        "                val_loss = criterion(val_out, val_data.y.view(-1, n_out))\n",
        "                val_epoch_loss += val_loss.item()\n",
        "        val_loss_avg = val_epoch_loss / len(val_loader)\n",
        "        end_epoch = time.time()\n",
        "\n",
        "        print(\n",
        "            f\"\\nEpoch {epoch+1} completed. Train Loss = {train_loss_avg:.4f} | Val Loss = {val_loss_avg:.4f}. Time taken: {end_epoch - start_epoch:.2f}s\"\n",
        "        )\n",
        "        train_losses.append(train_loss_avg)\n",
        "        val_losses.append(val_loss_avg)\n",
        "\n",
        "    return train_losses, val_losses"
      ]
    },
    {
      "cell_type": "code",
      "execution_count": 19,
      "metadata": {},
      "outputs": [],
      "source": [
        "import copy\n",
        "\n",
        "from sklearn.model_selection import KFold\n",
        "from torch.utils.data import Subset\n",
        "from torch_geometric.loader import DataLoader\n",
        "import torch\n",
        "\n",
        "\n",
        "def k_fold_cv(\n",
        "    initialized_model,\n",
        "    Optimizer,\n",
        "    criterion,\n",
        "    dataset,\n",
        "    k=5,\n",
        "    epochs=10,\n",
        "    batch_size=32,\n",
        "    lr=0.01,\n",
        "    fit_final_model=False,\n",
        "):\n",
        "    kf = KFold(n_splits=k, shuffle=True, random_state=42)\n",
        "    fold_train_losses = []\n",
        "    fold_val_losses = []\n",
        "\n",
        "    for fold, (train_idx, val_idx) in enumerate(kf.split(dataset)):\n",
        "        print(f\"\\n--- Fold {fold+1}/{k} ---\")\n",
        "\n",
        "        train_subset = Subset(dataset, train_idx)\n",
        "        val_subset = Subset(dataset, val_idx)\n",
        "\n",
        "        train_loader = DataLoader(train_subset, batch_size=batch_size, shuffle=True)\n",
        "        val_loader = DataLoader(val_subset, batch_size=batch_size, shuffle=False)\n",
        "\n",
        "        model_tmp = copy.deepcopy(initialized_model)\n",
        "        optimizer_tmp = Optimizer(model_tmp.parameters(), lr=lr)\n",
        "\n",
        "        train_losses, val_losses = fit(\n",
        "            model_tmp, train_loader, val_loader, optimizer_tmp, criterion, epochs\n",
        "        )\n",
        "\n",
        "        fold_train_losses.append(train_losses)\n",
        "        fold_val_losses.append(val_losses)\n",
        "\n",
        "        print(\n",
        "            f\"Fold {fold+1} completed. Final train loss: {train_losses[-1]:.4f} | Final val loss: {val_losses[-1]:.4f}\"\n",
        "        )\n",
        "\n",
        "    print(\"\\n--- K-Fold CV completed ---\")\n",
        "    print(\n",
        "        f\"Average final train loss: {sum([l[-1] for l in fold_train_losses]) / k:.4f}\"\n",
        "    )\n",
        "    print(f\"Average final val loss: {sum([l[-1] for l in fold_val_losses]) / k:.4f}\")\n",
        "\n",
        "    if fit_final_model:\n",
        "        print(\"\\nFitting final model on entire dataset\")\n",
        "        optimizer_final = Optimizer(initialized_model.parameters(), lr=lr)\n",
        "        data_loader = DataLoader(dataset, batch_size=batch_size, shuffle=True)\n",
        "        fit(initialized_model, data_loader, data_loader, optimizer_final, epochs)\n",
        "\n",
        "    return fold_train_losses, fold_val_losses"
      ]
    },
    {
      "cell_type": "code",
      "execution_count": 20,
      "metadata": {},
      "outputs": [],
      "source": [
        "from itertools import product\n",
        "from sklearn.model_selection import KFold\n",
        "from torch.utils.data import Subset\n",
        "\n",
        "hyperparam_grid = {\n",
        "    \"lr\": [0.01, 0.001, 0.0001],\n",
        "    \"batch_size\": [16, 32, 64],\n",
        "    \"n_hidden\": [32, 64, 128],\n",
        "    \"epochs\": [10, 20, 30],\n",
        "}\n",
        "\n",
        "\n",
        "def nested_cv(\n",
        "    Model,\n",
        "    Optimizer,\n",
        "    criterion,\n",
        "    hyperparam_grid,\n",
        "    dataset,\n",
        "    k=5,\n",
        "):\n",
        "    # list of one dict per parameter combination\n",
        "    param_combinations = [\n",
        "        dict(zip(hyperparam_grid.keys(), values))\n",
        "        for values in product(*hyperparam_grid.values())\n",
        "    ]\n",
        "    n_combinations = len(param_combinations)\n",
        "\n",
        "    # risk estimate for each outer fold and each hyperparam combo\n",
        "    R_ests = np.zeros((k, n_combinations))\n",
        "\n",
        "    outer_kf = KFold(n_splits=k, shuffle=True, random_state=42)\n",
        "    dataset_indices = np.arange(len(dataset))\n",
        "\n",
        "    for i, (outer_train_idx, outer_val_idx) in enumerate(\n",
        "        outer_kf.split(dataset_indices)\n",
        "    ):\n",
        "        print(f\"\\n--- Outer Fold {i+1}/{k} ---\")\n",
        "\n",
        "        outer_train_dataset = Subset(dataset, outer_train_idx)\n",
        "        outer_val_dataset = Subset(dataset, outer_val_idx)\n",
        "\n",
        "        # per hyperparam combo, perform inner k_fold_cv\n",
        "        for j, params in enumerate(param_combinations):\n",
        "            model = Model(params[\"n_hidden\"]).to(device)\n",
        "\n",
        "            # Run k_fold_cv on the outer training dataset.\n",
        "            _, fold_val_losses = k_fold_cv(\n",
        "                initialized_model=model,\n",
        "                Optimizer=Optimizer,\n",
        "                criterion=criterion,\n",
        "                dataset=outer_train_dataset,\n",
        "                k=k,\n",
        "                epochs=params[\"epochs\"],\n",
        "                batch_size=params[\"batch_size\"],\n",
        "                lr=params[\"lr\"],\n",
        "            )\n",
        "            # average val risk over inner folds\n",
        "            final_losses = [losses[-1] for losses in fold_val_losses]\n",
        "            R_est = np.mean(final_losses)\n",
        "            R_ests[i, j] = R_est\n",
        "            print(\n",
        "                f\"Outer fold {i+1}, param set {j+1}/{n_combinations}: Risk = {R_est:.4f}\"\n",
        "            )\n",
        "\n",
        "    # average risk per hyperparam combination over outer folds\n",
        "    R_ests_params = np.mean(R_ests, axis=0)\n",
        "    best_idx = np.argmin(R_ests_params)\n",
        "    best_params = param_combinations[best_idx]\n",
        "\n",
        "    print(\n",
        "        f\"\\nSelected best hyperparameters (avg risk {R_ests_params[best_idx]:.4f}): {best_params}\"\n",
        "    )\n",
        "\n",
        "    # train final model on full dataset\n",
        "    model_final = Model(best_params[\"n_hidden\"])\n",
        "    _, final_val_losses = k_fold_cv(\n",
        "        initialized_model=model_final,\n",
        "        Optimizer=Optimizer,\n",
        "        criterion=criterion,\n",
        "        dataset=dataset,\n",
        "        k=k,\n",
        "        epochs=best_params[\"epochs\"],\n",
        "        batch_size=best_params[\"batch_size\"],\n",
        "        lr=best_params[\"lr\"],\n",
        "        fit_final_model=True,\n",
        "    )\n",
        "    final_R_est = np.mean([losses[-1] for losses in final_val_losses])\n",
        "    print(f\"Final model empirical risk estimate on full dataset: {final_R_est:.4f}\")\n",
        "\n",
        "    return model_final, best_params, final_R_est"
      ]
    },
    {
      "cell_type": "markdown",
      "metadata": {},
      "source": [
        "---\n",
        "\n",
        "## Training & Model Selection\n"
      ]
    },
    {
      "cell_type": "markdown",
      "metadata": {},
      "source": [
        "### Naive Baseline: Average Prediction\n"
      ]
    },
    {
      "cell_type": "code",
      "execution_count": 21,
      "metadata": {},
      "outputs": [
        {
          "name": "stdout",
          "output_type": "stream",
          "text": [
            "MSE per target: [1.1797696]\n"
          ]
        }
      ],
      "source": [
        "split_idx_baseline = int(0.8 * len(filtered_torch_data_list_train))\n",
        "\n",
        "y_train_baseline = [\n",
        "    d.y.numpy() for d in filtered_torch_data_list_train[:split_idx_baseline]\n",
        "]\n",
        "y_val_baseline = [\n",
        "    d.y.numpy() for d in filtered_torch_data_list_train[split_idx_baseline:]\n",
        "]\n",
        "\n",
        "naive_baseline = MeanBaseline()\n",
        "naive_baseline.fit(y_train_baseline)\n",
        "naive_baseline_predictions = naive_baseline.predict(len(y_val_baseline))\n",
        "\n",
        "# compute mse\n",
        "mse_per_target = np.nanmean((y_val_baseline - naive_baseline_predictions) ** 2, axis=0)\n",
        "print(f\"MSE per target: {mse_per_target}\")"
      ]
    },
    {
      "cell_type": "markdown",
      "metadata": {},
      "source": [
        "### Baseline: Random Forest with 2D Descriptors\n"
      ]
    },
    {
      "cell_type": "code",
      "execution_count": 22,
      "metadata": {},
      "outputs": [
        {
          "name": "stderr",
          "output_type": "stream",
          "text": [
            "/Users/paul/My Drive/Repositories/serotonin-3d-gnn/.venv/lib/python3.13/site-packages/sklearn/base.py:1389: DataConversionWarning: A column-vector y was passed when a 1d array was expected. Please change the shape of y to (n_samples,), for example using ravel().\n",
            "  return fit_method(estimator, *args, **kwargs)\n"
          ]
        },
        {
          "name": "stdout",
          "output_type": "stream",
          "text": [
            "Val MSE: 1.1166799623190877\n"
          ]
        }
      ],
      "source": [
        "from sklearn.ensemble import RandomForestRegressor\n",
        "from sklearn.metrics import mean_squared_error\n",
        "from rdkit.Chem import Descriptors\n",
        "\n",
        "# tried a bunch of descriptor functions from Descriptors._descList – these are the ones that did NOT crash the kernel ...\n",
        "safe_descriptors = [\n",
        "    \"MolWt\",\n",
        "    \"MolLogP\",\n",
        "    \"MolMR\",\n",
        "    \"NumValenceElectrons\",\n",
        "    \"NumRadicalElectrons\",\n",
        "    \"HeavyAtomCount\",\n",
        "    \"NHOHCount\",\n",
        "    \"NOCount\",\n",
        "    \"RingCount\",\n",
        "    \"FractionCSP3\",\n",
        "    \"TPSA\",\n",
        "    \"NumHDonors\",\n",
        "    \"NumHAcceptors\",\n",
        "    \"NumRotatableBonds\",\n",
        "    \"HallKierAlpha\",\n",
        "    \"Kappa1\",\n",
        "    \"Kappa2\",\n",
        "    \"Kappa3\",\n",
        "    \"Chi0\",\n",
        "    \"Chi1\",\n",
        "    \"fr_Al_COO\",\n",
        "    \"fr_Al_OH\",\n",
        "    \"fr_Ar_N\",\n",
        "    \"fr_C_O\",\n",
        "    \"fr_NH1\",\n",
        "    \"fr_NH2\",\n",
        "]\n",
        "\n",
        "descriptor_functions = {name: getattr(Descriptors, name) for name in safe_descriptors}\n",
        "\n",
        "\n",
        "# extract a fixed-length feature vector from the graph data, as input to RF model\n",
        "def compute_descriptors(smiles):\n",
        "    mol = Chem.MolFromSmiles(smiles)\n",
        "    if mol is None:\n",
        "        return None\n",
        "    desc_values = []\n",
        "    for _, func in descriptor_functions.items():\n",
        "        try:\n",
        "            desc_values.append(func(mol))\n",
        "        except:\n",
        "            print(f\"Error computing descriptor {func}\")\n",
        "    return np.array(desc_values)\n",
        "\n",
        "\n",
        "X = []\n",
        "y = []\n",
        "for data in filtered_torch_data_list_train:\n",
        "    features = compute_descriptors(data.smiles)\n",
        "    if features is None:\n",
        "        continue\n",
        "    X.append(features)\n",
        "    target_val = data.y.cpu().numpy() if data.y.numel() > 0 else np.nan\n",
        "    y.append(target_val)\n",
        "\n",
        "X = np.array(X)\n",
        "y = np.array(y)\n",
        "\n",
        "split_idx_rf = int(0.8 * len(filtered_torch_data_list_train))\n",
        "X_train, X_val = X[:split_idx_rf], X[split_idx_rf:]\n",
        "y_train, y_val = y[:split_idx_rf], y[split_idx_rf:]\n",
        "\n",
        "rf = RandomForestRegressor(n_estimators=100, random_state=42)\n",
        "rf.fit(X_train, y_train)\n",
        "\n",
        "y_pred = rf.predict(X_val)\n",
        "mse = mean_squared_error(y_val, y_pred)\n",
        "print(\"Val MSE:\", mse)"
      ]
    },
    {
      "cell_type": "markdown",
      "metadata": {},
      "source": [
        "### Approach 1: SeroGCN without Pretraining\n"
      ]
    },
    {
      "cell_type": "code",
      "execution_count": null,
      "metadata": {},
      "outputs": [],
      "source": [
        "sero_gcn_final, best_params_sero_gcn, final_R_est_sero_gcn = nested_cv(\n",
        "    SeroGCN,\n",
        "    torch.optim.Adam,\n",
        "    torch.nn.MSELoss(),\n",
        "    hyperparam_grid,\n",
        "    filtered_torch_data_list_train,\n",
        "    k=5,\n",
        ")"
      ]
    },
    {
      "cell_type": "markdown",
      "metadata": {},
      "source": [
        "### Approach 2: SeroGCN with Pretraining on ZINC\n"
      ]
    },
    {
      "cell_type": "markdown",
      "metadata": {},
      "source": [
        "#### Pretraining: Hyperparameter Tuning\n"
      ]
    },
    {
      "cell_type": "markdown",
      "metadata": {},
      "source": [
        "#### Pretraining: Full ZINC with Locked Hyperparameters\n"
      ]
    },
    {
      "cell_type": "markdown",
      "metadata": {},
      "source": [
        "#### Fine-tuning on Serotonine Data\n"
      ]
    },
    {
      "cell_type": "markdown",
      "metadata": {},
      "source": [
        "---\n",
        "\n",
        "## Test Set Evaluation\n"
      ]
    },
    {
      "cell_type": "markdown",
      "metadata": {},
      "source": [
        "---\n",
        "\n",
        "## Conclusion\n"
      ]
    }
  ],
  "metadata": {
    "colab": {
      "provenance": []
    },
    "kernelspec": {
      "display_name": ".venv",
      "language": "python",
      "name": "python3"
    },
    "language_info": {
      "codemirror_mode": {
        "name": "ipython",
        "version": 3
      },
      "file_extension": ".py",
      "mimetype": "text/x-python",
      "name": "python",
      "nbconvert_exporter": "python",
      "pygments_lexer": "ipython3",
      "version": "3.13.0"
    }
  },
  "nbformat": 4,
  "nbformat_minor": 0
}
